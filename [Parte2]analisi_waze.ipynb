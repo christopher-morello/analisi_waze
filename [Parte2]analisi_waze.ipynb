{
 "cells": [
  {
   "cell_type": "markdown",
   "metadata": {
    "id": "DtNBZFHO3M7n"
   },
   "source": [
    "# **Progetto Waze II**\n"
   ]
  },
  {
   "cell_type": "markdown",
   "metadata": {
    "id": "g-E8SNtmRUkN"
   },
   "source": [
    "Mi occupo della fase iniziale del progetto di analisi del **churn** per Waze. Dopo aver redatto la proposta di progetto e ispezionato i dati con Python, il mio prossimo compito è l'**analisi esplorativa dei dati (EDA)** e la **visualizzazione dei dati**.\n",
    "\n",
    "Il mio obiettivo è preparare un **notebook Python** che dimostri l'esplorazione e la visualizzazione dei dati, destinato alla revisione della Direttrice dell'analisi dati di Waze. Devo rispondere a una serie di domande e redigere un **executive summary** basato sui risultati ottenuti."
   ]
  },
  {
   "cell_type": "markdown",
   "metadata": {
    "id": "rgSbVJvomcVa"
   },
   "source": [
    "# **Analisi esplorativa dei dati**\n",
    "\n",
    "In questa attività, esaminererò i dati forniti e li preparerò per l'analisi.\n",
    "<br/>\n",
    "\n",
    "**Lo scopo** di questo progetto è condurre un'analisi esplorativa dei dati (EDA) su un set di dati fornito.\n",
    "\n",
    "**L'obiettivo** è continuare l'analisi dei dati iniziata nel notebook precedente, aggiungendo visualizzazioni pertinenti che aiutino a comunicare la storia raccontata dai dati.\n",
    "<br/>\n",
    "\n",
    "*Questa attività si compone di 4 parti:*\n",
    "\n",
    "**Parte 1:** Importazioni, collegamenti e caricamento\n",
    "\n",
    "**Parte 2:** Esplorazione dei dati\n",
    "* Pulizia dei dati\n",
    "\n",
    "**Parte 3:** Creazione di visualizzazioni\n",
    "\n",
    "**Parte 4:** Valutazione e condivisione dei risultati\n",
    "\n",
    "<br/>"
   ]
  },
  {
   "cell_type": "markdown",
   "metadata": {
    "id": "SKur6gTPRcvy"
   },
   "source": [
    "### **Importazioni e caricamento dei dati**\n",
    "\n",
    "Per l'EDA dei dati, importo i dati e i pacchetti che saranno più utili, come pandas, numpy e matplotlib.\n",
    "\n"
   ]
  },
  {
   "cell_type": "code",
   "execution_count": 1,
   "metadata": {
    "id": "EO8vKZI8x8GF"
   },
   "outputs": [],
   "source": [
    "import pandas as pd\n",
    "import matplotlib.pyplot as plt\n",
    "import numpy as np\n",
    "import seaborn as sns"
   ]
  },
  {
   "cell_type": "code",
   "execution_count": 2,
   "metadata": {
    "id": "w7XSDxoqyF9D"
   },
   "outputs": [],
   "source": [
    "# caricamento dataset in formata Dataframe\n",
    "df = pd.read_csv('waze_dataset.csv')"
   ]
  },
  {
   "cell_type": "markdown",
   "metadata": {
    "id": "n09krlKWRw_2"
   },
   "source": [
    "### **Esplorazione e pulizia dei dati**\n",
    "\n",
    "Consider the following questions:\n",
    "\n",
    "\n",
    "\n",
    "1.  Given the scenario, which data columns are most applicable?\n",
    "\n",
    "2.  Which data columns can you eliminate, knowing they won’t solve your problem scenario?\n",
    "\n",
    "3.  How would you check for missing data? And how would you handle missing data (if any)?\n",
    "\n",
    "4.  How would you check for outliers? And how would handle outliers (if any)?\n",
    "\n",
    "\n",
    "\n",
    "\n",
    "\n",
    "\n"
   ]
  },
  {
   "cell_type": "markdown",
   "metadata": {
    "id": "UevDSC0_NxuI"
   },
   "source": [
    "#### **Considerazioni sui dati utili all'analisi**\n",
    "\n",
    "- Poiché sono interessato al tasso di abbandono degli utenti, la colonna `label` è essenziale. Oltre a `label`, le variabili legate al comportamento degli utenti saranno le più applicabili. Tutte le variabili sono legate al comportamento degli utenti, tranne `ID`.\n",
    "\n",
    "- La colonna `ID` può essere omesso dall'analisi perché non sono interessato a identificare un utente specifico. `ID` non fornisce informazioni significative sul tasso di abbandono (a meno che `ID` non venga assegnato in base all'orario di registrazione dell'utente).\n",
    "\n",
    "- Per verificare la presenza di dati mancanti, utilizzo `df.info()` e ispeziono la colonna `Non-Null Count`. La differenza tra il numero di valori non nulli e il numero di righe nei dati è il numero di valori mancanti per la variabile.\n",
    "\n",
    "  - Se i dati mancanti sono completamente casuali (MCAR), ovvero il motivo della mancanza è indipendente dai valori dei dati stessi, posso procedere con un'analisi rimuovendo semplicemente le righe con valori mancanti. Altrimenti, dovrò indagare la causa principale della mancanza e assicurararmi che non interferisca con l'inferenza statistica e la modellazione.\n",
    "\n"
   ]
  },
  {
   "cell_type": "markdown",
   "metadata": {
    "id": "puIi193dELcJ"
   },
   "source": [
    "#### **Panoramica dei dati e statistiche riepilogative**\n",
    "\n",
    "Utilizzarò i seguenti metodi e attributi sul dataframe:\n",
    "\n",
    "* `head()`\n",
    "* `size`\n",
    "* `describe()`\n",
    "* `info()`\n",
    "\n",
    "È sempre utile avere queste informazioni all'inizio di un progetto, dove è sempre possibile fare riferimento in caso di necessità."
   ]
  },
  {
   "cell_type": "code",
   "execution_count": 3,
   "metadata": {
    "colab": {
     "base_uri": "https://localhost:8080/",
     "height": 427
    },
    "executionInfo": {
     "elapsed": 24,
     "status": "ok",
     "timestamp": 1685484978287,
     "user": {
      "displayName": "Matteo Riotto",
      "userId": "15211004813978485634"
     },
     "user_tz": 420
    },
    "id": "cBOUo5p-tbib",
    "outputId": "3b3c4c34-4311-42fb-f82e-d5c048e1004e"
   },
   "outputs": [
    {
     "data": {
      "application/vnd.microsoft.datawrangler.viewer.v0+json": {
       "columns": [
        {
         "name": "index",
         "rawType": "int64",
         "type": "integer"
        },
        {
         "name": "ID",
         "rawType": "int64",
         "type": "integer"
        },
        {
         "name": "label",
         "rawType": "object",
         "type": "string"
        },
        {
         "name": "sessions",
         "rawType": "int64",
         "type": "integer"
        },
        {
         "name": "drives",
         "rawType": "int64",
         "type": "integer"
        },
        {
         "name": "total_sessions",
         "rawType": "float64",
         "type": "float"
        },
        {
         "name": "n_days_after_onboarding",
         "rawType": "int64",
         "type": "integer"
        },
        {
         "name": "total_navigations_fav1",
         "rawType": "int64",
         "type": "integer"
        },
        {
         "name": "total_navigations_fav2",
         "rawType": "int64",
         "type": "integer"
        },
        {
         "name": "driven_km_drives",
         "rawType": "float64",
         "type": "float"
        },
        {
         "name": "duration_minutes_drives",
         "rawType": "float64",
         "type": "float"
        },
        {
         "name": "activity_days",
         "rawType": "int64",
         "type": "integer"
        },
        {
         "name": "driving_days",
         "rawType": "int64",
         "type": "integer"
        },
        {
         "name": "device",
         "rawType": "object",
         "type": "string"
        }
       ],
       "ref": "94aa4162-f813-4464-9c7a-4e941bb40e25",
       "rows": [
        [
         "0",
         "0",
         "retained",
         "283",
         "226",
         "296.7482729",
         "2276",
         "208",
         "0",
         "2628.845068",
         "1985.775061",
         "28",
         "19",
         "Android"
        ],
        [
         "1",
         "1",
         "retained",
         "133",
         "107",
         "326.8965962",
         "1225",
         "19",
         "64",
         "13715.92055",
         "3160.472914",
         "13",
         "11",
         "iPhone"
        ],
        [
         "2",
         "2",
         "retained",
         "114",
         "95",
         "135.5229263",
         "2651",
         "0",
         "0",
         "3059.148818",
         "1610.735904",
         "14",
         "8",
         "Android"
        ],
        [
         "3",
         "3",
         "retained",
         "49",
         "40",
         "67.58922127",
         "15",
         "322",
         "7",
         "913.5911231",
         "587.1965423",
         "7",
         "3",
         "iPhone"
        ],
        [
         "4",
         "4",
         "retained",
         "84",
         "68",
         "168.2470201",
         "1562",
         "166",
         "5",
         "3950.202008",
         "1219.555924",
         "27",
         "18",
         "Android"
        ],
        [
         "5",
         "5",
         "retained",
         "113",
         "103",
         "279.5444373",
         "2637",
         "0",
         "0",
         "901.2386985",
         "439.1013973",
         "15",
         "11",
         "iPhone"
        ],
        [
         "6",
         "6",
         "retained",
         "3",
         "2",
         "236.7253142",
         "360",
         "185",
         "18",
         "5249.172828",
         "726.5772047",
         "28",
         "23",
         "iPhone"
        ],
        [
         "7",
         "7",
         "retained",
         "39",
         "35",
         "176.0728446",
         "2999",
         "0",
         "0",
         "7892.052468",
         "2466.981741",
         "22",
         "20",
         "iPhone"
        ],
        [
         "8",
         "8",
         "retained",
         "57",
         "46",
         "183.5320177",
         "424",
         "0",
         "26",
         "2651.709764",
         "1594.342984",
         "25",
         "20",
         "Android"
        ],
        [
         "9",
         "9",
         "churned",
         "84",
         "68",
         "244.8021148",
         "2997",
         "72",
         "0",
         "6043.460295",
         "2341.838528",
         "7",
         "3",
         "iPhone"
        ]
       ],
       "shape": {
        "columns": 13,
        "rows": 10
       }
      },
      "text/html": [
       "<div>\n",
       "<style scoped>\n",
       "    .dataframe tbody tr th:only-of-type {\n",
       "        vertical-align: middle;\n",
       "    }\n",
       "\n",
       "    .dataframe tbody tr th {\n",
       "        vertical-align: top;\n",
       "    }\n",
       "\n",
       "    .dataframe thead th {\n",
       "        text-align: right;\n",
       "    }\n",
       "</style>\n",
       "<table border=\"1\" class=\"dataframe\">\n",
       "  <thead>\n",
       "    <tr style=\"text-align: right;\">\n",
       "      <th></th>\n",
       "      <th>ID</th>\n",
       "      <th>label</th>\n",
       "      <th>sessions</th>\n",
       "      <th>drives</th>\n",
       "      <th>total_sessions</th>\n",
       "      <th>n_days_after_onboarding</th>\n",
       "      <th>total_navigations_fav1</th>\n",
       "      <th>total_navigations_fav2</th>\n",
       "      <th>driven_km_drives</th>\n",
       "      <th>duration_minutes_drives</th>\n",
       "      <th>activity_days</th>\n",
       "      <th>driving_days</th>\n",
       "      <th>device</th>\n",
       "    </tr>\n",
       "  </thead>\n",
       "  <tbody>\n",
       "    <tr>\n",
       "      <th>0</th>\n",
       "      <td>0</td>\n",
       "      <td>retained</td>\n",
       "      <td>283</td>\n",
       "      <td>226</td>\n",
       "      <td>296.748273</td>\n",
       "      <td>2276</td>\n",
       "      <td>208</td>\n",
       "      <td>0</td>\n",
       "      <td>2628.845068</td>\n",
       "      <td>1985.775061</td>\n",
       "      <td>28</td>\n",
       "      <td>19</td>\n",
       "      <td>Android</td>\n",
       "    </tr>\n",
       "    <tr>\n",
       "      <th>1</th>\n",
       "      <td>1</td>\n",
       "      <td>retained</td>\n",
       "      <td>133</td>\n",
       "      <td>107</td>\n",
       "      <td>326.896596</td>\n",
       "      <td>1225</td>\n",
       "      <td>19</td>\n",
       "      <td>64</td>\n",
       "      <td>13715.920550</td>\n",
       "      <td>3160.472914</td>\n",
       "      <td>13</td>\n",
       "      <td>11</td>\n",
       "      <td>iPhone</td>\n",
       "    </tr>\n",
       "    <tr>\n",
       "      <th>2</th>\n",
       "      <td>2</td>\n",
       "      <td>retained</td>\n",
       "      <td>114</td>\n",
       "      <td>95</td>\n",
       "      <td>135.522926</td>\n",
       "      <td>2651</td>\n",
       "      <td>0</td>\n",
       "      <td>0</td>\n",
       "      <td>3059.148818</td>\n",
       "      <td>1610.735904</td>\n",
       "      <td>14</td>\n",
       "      <td>8</td>\n",
       "      <td>Android</td>\n",
       "    </tr>\n",
       "    <tr>\n",
       "      <th>3</th>\n",
       "      <td>3</td>\n",
       "      <td>retained</td>\n",
       "      <td>49</td>\n",
       "      <td>40</td>\n",
       "      <td>67.589221</td>\n",
       "      <td>15</td>\n",
       "      <td>322</td>\n",
       "      <td>7</td>\n",
       "      <td>913.591123</td>\n",
       "      <td>587.196542</td>\n",
       "      <td>7</td>\n",
       "      <td>3</td>\n",
       "      <td>iPhone</td>\n",
       "    </tr>\n",
       "    <tr>\n",
       "      <th>4</th>\n",
       "      <td>4</td>\n",
       "      <td>retained</td>\n",
       "      <td>84</td>\n",
       "      <td>68</td>\n",
       "      <td>168.247020</td>\n",
       "      <td>1562</td>\n",
       "      <td>166</td>\n",
       "      <td>5</td>\n",
       "      <td>3950.202008</td>\n",
       "      <td>1219.555924</td>\n",
       "      <td>27</td>\n",
       "      <td>18</td>\n",
       "      <td>Android</td>\n",
       "    </tr>\n",
       "    <tr>\n",
       "      <th>5</th>\n",
       "      <td>5</td>\n",
       "      <td>retained</td>\n",
       "      <td>113</td>\n",
       "      <td>103</td>\n",
       "      <td>279.544437</td>\n",
       "      <td>2637</td>\n",
       "      <td>0</td>\n",
       "      <td>0</td>\n",
       "      <td>901.238699</td>\n",
       "      <td>439.101397</td>\n",
       "      <td>15</td>\n",
       "      <td>11</td>\n",
       "      <td>iPhone</td>\n",
       "    </tr>\n",
       "    <tr>\n",
       "      <th>6</th>\n",
       "      <td>6</td>\n",
       "      <td>retained</td>\n",
       "      <td>3</td>\n",
       "      <td>2</td>\n",
       "      <td>236.725314</td>\n",
       "      <td>360</td>\n",
       "      <td>185</td>\n",
       "      <td>18</td>\n",
       "      <td>5249.172828</td>\n",
       "      <td>726.577205</td>\n",
       "      <td>28</td>\n",
       "      <td>23</td>\n",
       "      <td>iPhone</td>\n",
       "    </tr>\n",
       "    <tr>\n",
       "      <th>7</th>\n",
       "      <td>7</td>\n",
       "      <td>retained</td>\n",
       "      <td>39</td>\n",
       "      <td>35</td>\n",
       "      <td>176.072845</td>\n",
       "      <td>2999</td>\n",
       "      <td>0</td>\n",
       "      <td>0</td>\n",
       "      <td>7892.052468</td>\n",
       "      <td>2466.981741</td>\n",
       "      <td>22</td>\n",
       "      <td>20</td>\n",
       "      <td>iPhone</td>\n",
       "    </tr>\n",
       "    <tr>\n",
       "      <th>8</th>\n",
       "      <td>8</td>\n",
       "      <td>retained</td>\n",
       "      <td>57</td>\n",
       "      <td>46</td>\n",
       "      <td>183.532018</td>\n",
       "      <td>424</td>\n",
       "      <td>0</td>\n",
       "      <td>26</td>\n",
       "      <td>2651.709764</td>\n",
       "      <td>1594.342984</td>\n",
       "      <td>25</td>\n",
       "      <td>20</td>\n",
       "      <td>Android</td>\n",
       "    </tr>\n",
       "    <tr>\n",
       "      <th>9</th>\n",
       "      <td>9</td>\n",
       "      <td>churned</td>\n",
       "      <td>84</td>\n",
       "      <td>68</td>\n",
       "      <td>244.802115</td>\n",
       "      <td>2997</td>\n",
       "      <td>72</td>\n",
       "      <td>0</td>\n",
       "      <td>6043.460295</td>\n",
       "      <td>2341.838528</td>\n",
       "      <td>7</td>\n",
       "      <td>3</td>\n",
       "      <td>iPhone</td>\n",
       "    </tr>\n",
       "  </tbody>\n",
       "</table>\n",
       "</div>"
      ],
      "text/plain": [
       "   ID     label  sessions  drives  total_sessions  n_days_after_onboarding  \\\n",
       "0   0  retained       283     226      296.748273                     2276   \n",
       "1   1  retained       133     107      326.896596                     1225   \n",
       "2   2  retained       114      95      135.522926                     2651   \n",
       "3   3  retained        49      40       67.589221                       15   \n",
       "4   4  retained        84      68      168.247020                     1562   \n",
       "5   5  retained       113     103      279.544437                     2637   \n",
       "6   6  retained         3       2      236.725314                      360   \n",
       "7   7  retained        39      35      176.072845                     2999   \n",
       "8   8  retained        57      46      183.532018                      424   \n",
       "9   9   churned        84      68      244.802115                     2997   \n",
       "\n",
       "   total_navigations_fav1  total_navigations_fav2  driven_km_drives  \\\n",
       "0                     208                       0       2628.845068   \n",
       "1                      19                      64      13715.920550   \n",
       "2                       0                       0       3059.148818   \n",
       "3                     322                       7        913.591123   \n",
       "4                     166                       5       3950.202008   \n",
       "5                       0                       0        901.238699   \n",
       "6                     185                      18       5249.172828   \n",
       "7                       0                       0       7892.052468   \n",
       "8                       0                      26       2651.709764   \n",
       "9                      72                       0       6043.460295   \n",
       "\n",
       "   duration_minutes_drives  activity_days  driving_days   device  \n",
       "0              1985.775061             28            19  Android  \n",
       "1              3160.472914             13            11   iPhone  \n",
       "2              1610.735904             14             8  Android  \n",
       "3               587.196542              7             3   iPhone  \n",
       "4              1219.555924             27            18  Android  \n",
       "5               439.101397             15            11   iPhone  \n",
       "6               726.577205             28            23   iPhone  \n",
       "7              2466.981741             22            20   iPhone  \n",
       "8              1594.342984             25            20  Android  \n",
       "9              2341.838528              7             3   iPhone  "
      ]
     },
     "execution_count": 3,
     "metadata": {},
     "output_type": "execute_result"
    }
   ],
   "source": [
    "df.head(10)"
   ]
  },
  {
   "cell_type": "code",
   "execution_count": 4,
   "metadata": {
    "colab": {
     "base_uri": "https://localhost:8080/"
    },
    "executionInfo": {
     "elapsed": 22,
     "status": "ok",
     "timestamp": 1685484978287,
     "user": {
      "displayName": "Matteo Riotto",
      "userId": "15211004813978485634"
     },
     "user_tz": 420
    },
    "id": "GvT82D1qyF9F",
    "outputId": "ab5db7c1-b6a5-43c1-ed8b-d58e589acd11"
   },
   "outputs": [
    {
     "data": {
      "text/plain": [
       "194987"
      ]
     },
     "execution_count": 4,
     "metadata": {},
     "output_type": "execute_result"
    }
   ],
   "source": [
    "df.size"
   ]
  },
  {
   "cell_type": "markdown",
   "metadata": {
    "id": "WulP4lZ9UVgy"
   },
   "source": [
    "Generazione di statistiche riepilogative utilizzando il metodo `describe()`."
   ]
  },
  {
   "cell_type": "code",
   "execution_count": 5,
   "metadata": {
    "colab": {
     "base_uri": "https://localhost:8080/",
     "height": 364
    },
    "executionInfo": {
     "elapsed": 17,
     "status": "ok",
     "timestamp": 1685484978288,
     "user": {
      "displayName": "Matteo Riotto",
      "userId": "15211004813978485634"
     },
     "user_tz": 420
    },
    "id": "xMpkdNQ0UPmW",
    "outputId": "31c9223e-695c-4fd2-c8b6-d5892439ff9b"
   },
   "outputs": [
    {
     "data": {
      "application/vnd.microsoft.datawrangler.viewer.v0+json": {
       "columns": [
        {
         "name": "index",
         "rawType": "object",
         "type": "string"
        },
        {
         "name": "ID",
         "rawType": "float64",
         "type": "float"
        },
        {
         "name": "sessions",
         "rawType": "float64",
         "type": "float"
        },
        {
         "name": "drives",
         "rawType": "float64",
         "type": "float"
        },
        {
         "name": "total_sessions",
         "rawType": "float64",
         "type": "float"
        },
        {
         "name": "n_days_after_onboarding",
         "rawType": "float64",
         "type": "float"
        },
        {
         "name": "total_navigations_fav1",
         "rawType": "float64",
         "type": "float"
        },
        {
         "name": "total_navigations_fav2",
         "rawType": "float64",
         "type": "float"
        },
        {
         "name": "driven_km_drives",
         "rawType": "float64",
         "type": "float"
        },
        {
         "name": "duration_minutes_drives",
         "rawType": "float64",
         "type": "float"
        },
        {
         "name": "activity_days",
         "rawType": "float64",
         "type": "float"
        },
        {
         "name": "driving_days",
         "rawType": "float64",
         "type": "float"
        }
       ],
       "ref": "5e99ac91-2d5d-4f8d-a4db-544e25938843",
       "rows": [
        [
         "count",
         "14999.0",
         "14999.0",
         "14999.0",
         "14999.0",
         "14999.0",
         "14999.0",
         "14999.0",
         "14999.0",
         "14999.0",
         "14999.0",
         "14999.0"
        ],
        [
         "mean",
         "7499.0",
         "80.633775585039",
         "67.28115207680511",
         "189.9644468240468",
         "1749.8377891859457",
         "121.60597373158211",
         "29.672511500766717",
         "4039.3409208164917",
         "1860.976012129396",
         "15.537102473498233",
         "12.179878658577238"
        ],
        [
         "std",
         "4329.98267894919",
         "80.69906484688363",
         "65.91387241891074",
         "136.40512847760343",
         "1008.5138761173205",
         "148.1215436250751",
         "45.39465073120531",
         "2502.1493337964916",
         "1446.702287563326",
         "9.004655351944397",
         "7.824036121515204"
        ],
        [
         "min",
         "0.0",
         "0.0",
         "0.0",
         "0.2202109438",
         "4.0",
         "0.0",
         "0.0",
         "60.44125046",
         "18.28208247",
         "0.0",
         "0.0"
        ],
        [
         "25%",
         "3749.5",
         "23.0",
         "20.0",
         "90.66115631",
         "878.0",
         "9.0",
         "0.0",
         "2212.6006065",
         "835.9962599",
         "8.0",
         "5.0"
        ],
        [
         "50%",
         "7499.0",
         "56.0",
         "48.0",
         "159.5681147",
         "1741.0",
         "71.0",
         "9.0",
         "3493.858085",
         "1478.249859",
         "16.0",
         "12.0"
        ],
        [
         "75%",
         "11248.5",
         "112.0",
         "93.0",
         "254.19234075",
         "2623.5",
         "178.0",
         "43.0",
         "5289.861262",
         "2464.3626320000003",
         "23.0",
         "19.0"
        ],
        [
         "max",
         "14998.0",
         "743.0",
         "596.0",
         "1216.154633",
         "3500.0",
         "1236.0",
         "415.0",
         "21183.40189",
         "15851.72716",
         "31.0",
         "30.0"
        ]
       ],
       "shape": {
        "columns": 11,
        "rows": 8
       }
      },
      "text/html": [
       "<div>\n",
       "<style scoped>\n",
       "    .dataframe tbody tr th:only-of-type {\n",
       "        vertical-align: middle;\n",
       "    }\n",
       "\n",
       "    .dataframe tbody tr th {\n",
       "        vertical-align: top;\n",
       "    }\n",
       "\n",
       "    .dataframe thead th {\n",
       "        text-align: right;\n",
       "    }\n",
       "</style>\n",
       "<table border=\"1\" class=\"dataframe\">\n",
       "  <thead>\n",
       "    <tr style=\"text-align: right;\">\n",
       "      <th></th>\n",
       "      <th>ID</th>\n",
       "      <th>sessions</th>\n",
       "      <th>drives</th>\n",
       "      <th>total_sessions</th>\n",
       "      <th>n_days_after_onboarding</th>\n",
       "      <th>total_navigations_fav1</th>\n",
       "      <th>total_navigations_fav2</th>\n",
       "      <th>driven_km_drives</th>\n",
       "      <th>duration_minutes_drives</th>\n",
       "      <th>activity_days</th>\n",
       "      <th>driving_days</th>\n",
       "    </tr>\n",
       "  </thead>\n",
       "  <tbody>\n",
       "    <tr>\n",
       "      <th>count</th>\n",
       "      <td>14999.000000</td>\n",
       "      <td>14999.000000</td>\n",
       "      <td>14999.000000</td>\n",
       "      <td>14999.000000</td>\n",
       "      <td>14999.000000</td>\n",
       "      <td>14999.000000</td>\n",
       "      <td>14999.000000</td>\n",
       "      <td>14999.000000</td>\n",
       "      <td>14999.000000</td>\n",
       "      <td>14999.000000</td>\n",
       "      <td>14999.000000</td>\n",
       "    </tr>\n",
       "    <tr>\n",
       "      <th>mean</th>\n",
       "      <td>7499.000000</td>\n",
       "      <td>80.633776</td>\n",
       "      <td>67.281152</td>\n",
       "      <td>189.964447</td>\n",
       "      <td>1749.837789</td>\n",
       "      <td>121.605974</td>\n",
       "      <td>29.672512</td>\n",
       "      <td>4039.340921</td>\n",
       "      <td>1860.976012</td>\n",
       "      <td>15.537102</td>\n",
       "      <td>12.179879</td>\n",
       "    </tr>\n",
       "    <tr>\n",
       "      <th>std</th>\n",
       "      <td>4329.982679</td>\n",
       "      <td>80.699065</td>\n",
       "      <td>65.913872</td>\n",
       "      <td>136.405128</td>\n",
       "      <td>1008.513876</td>\n",
       "      <td>148.121544</td>\n",
       "      <td>45.394651</td>\n",
       "      <td>2502.149334</td>\n",
       "      <td>1446.702288</td>\n",
       "      <td>9.004655</td>\n",
       "      <td>7.824036</td>\n",
       "    </tr>\n",
       "    <tr>\n",
       "      <th>min</th>\n",
       "      <td>0.000000</td>\n",
       "      <td>0.000000</td>\n",
       "      <td>0.000000</td>\n",
       "      <td>0.220211</td>\n",
       "      <td>4.000000</td>\n",
       "      <td>0.000000</td>\n",
       "      <td>0.000000</td>\n",
       "      <td>60.441250</td>\n",
       "      <td>18.282082</td>\n",
       "      <td>0.000000</td>\n",
       "      <td>0.000000</td>\n",
       "    </tr>\n",
       "    <tr>\n",
       "      <th>25%</th>\n",
       "      <td>3749.500000</td>\n",
       "      <td>23.000000</td>\n",
       "      <td>20.000000</td>\n",
       "      <td>90.661156</td>\n",
       "      <td>878.000000</td>\n",
       "      <td>9.000000</td>\n",
       "      <td>0.000000</td>\n",
       "      <td>2212.600607</td>\n",
       "      <td>835.996260</td>\n",
       "      <td>8.000000</td>\n",
       "      <td>5.000000</td>\n",
       "    </tr>\n",
       "    <tr>\n",
       "      <th>50%</th>\n",
       "      <td>7499.000000</td>\n",
       "      <td>56.000000</td>\n",
       "      <td>48.000000</td>\n",
       "      <td>159.568115</td>\n",
       "      <td>1741.000000</td>\n",
       "      <td>71.000000</td>\n",
       "      <td>9.000000</td>\n",
       "      <td>3493.858085</td>\n",
       "      <td>1478.249859</td>\n",
       "      <td>16.000000</td>\n",
       "      <td>12.000000</td>\n",
       "    </tr>\n",
       "    <tr>\n",
       "      <th>75%</th>\n",
       "      <td>11248.500000</td>\n",
       "      <td>112.000000</td>\n",
       "      <td>93.000000</td>\n",
       "      <td>254.192341</td>\n",
       "      <td>2623.500000</td>\n",
       "      <td>178.000000</td>\n",
       "      <td>43.000000</td>\n",
       "      <td>5289.861262</td>\n",
       "      <td>2464.362632</td>\n",
       "      <td>23.000000</td>\n",
       "      <td>19.000000</td>\n",
       "    </tr>\n",
       "    <tr>\n",
       "      <th>max</th>\n",
       "      <td>14998.000000</td>\n",
       "      <td>743.000000</td>\n",
       "      <td>596.000000</td>\n",
       "      <td>1216.154633</td>\n",
       "      <td>3500.000000</td>\n",
       "      <td>1236.000000</td>\n",
       "      <td>415.000000</td>\n",
       "      <td>21183.401890</td>\n",
       "      <td>15851.727160</td>\n",
       "      <td>31.000000</td>\n",
       "      <td>30.000000</td>\n",
       "    </tr>\n",
       "  </tbody>\n",
       "</table>\n",
       "</div>"
      ],
      "text/plain": [
       "                 ID      sessions        drives  total_sessions  \\\n",
       "count  14999.000000  14999.000000  14999.000000    14999.000000   \n",
       "mean    7499.000000     80.633776     67.281152      189.964447   \n",
       "std     4329.982679     80.699065     65.913872      136.405128   \n",
       "min        0.000000      0.000000      0.000000        0.220211   \n",
       "25%     3749.500000     23.000000     20.000000       90.661156   \n",
       "50%     7499.000000     56.000000     48.000000      159.568115   \n",
       "75%    11248.500000    112.000000     93.000000      254.192341   \n",
       "max    14998.000000    743.000000    596.000000     1216.154633   \n",
       "\n",
       "       n_days_after_onboarding  total_navigations_fav1  \\\n",
       "count             14999.000000            14999.000000   \n",
       "mean               1749.837789              121.605974   \n",
       "std                1008.513876              148.121544   \n",
       "min                   4.000000                0.000000   \n",
       "25%                 878.000000                9.000000   \n",
       "50%                1741.000000               71.000000   \n",
       "75%                2623.500000              178.000000   \n",
       "max                3500.000000             1236.000000   \n",
       "\n",
       "       total_navigations_fav2  driven_km_drives  duration_minutes_drives  \\\n",
       "count            14999.000000      14999.000000             14999.000000   \n",
       "mean                29.672512       4039.340921              1860.976012   \n",
       "std                 45.394651       2502.149334              1446.702288   \n",
       "min                  0.000000         60.441250                18.282082   \n",
       "25%                  0.000000       2212.600607               835.996260   \n",
       "50%                  9.000000       3493.858085              1478.249859   \n",
       "75%                 43.000000       5289.861262              2464.362632   \n",
       "max                415.000000      21183.401890             15851.727160   \n",
       "\n",
       "       activity_days  driving_days  \n",
       "count   14999.000000  14999.000000  \n",
       "mean       15.537102     12.179879  \n",
       "std         9.004655      7.824036  \n",
       "min         0.000000      0.000000  \n",
       "25%         8.000000      5.000000  \n",
       "50%        16.000000     12.000000  \n",
       "75%        23.000000     19.000000  \n",
       "max        31.000000     30.000000  "
      ]
     },
     "execution_count": 5,
     "metadata": {},
     "output_type": "execute_result"
    }
   ],
   "source": [
    "df.describe()"
   ]
  },
  {
   "cell_type": "markdown",
   "metadata": {
    "id": "psmn0VD0UWBk"
   },
   "source": [
    "E informazioni riassuntive utilizzando il metodo `info()`."
   ]
  },
  {
   "cell_type": "code",
   "execution_count": 6,
   "metadata": {
    "colab": {
     "base_uri": "https://localhost:8080/"
    },
    "executionInfo": {
     "elapsed": 17,
     "status": "ok",
     "timestamp": 1685484978289,
     "user": {
      "displayName": "Matteo Riotto",
      "userId": "15211004813978485634"
     },
     "user_tz": 420
    },
    "id": "Thlb8oiyUPwe",
    "outputId": "a61bfcf3-1357-4e4b-a4c3-c5852dc83f75"
   },
   "outputs": [
    {
     "name": "stdout",
     "output_type": "stream",
     "text": [
      "<class 'pandas.core.frame.DataFrame'>\n",
      "RangeIndex: 14999 entries, 0 to 14998\n",
      "Data columns (total 13 columns):\n",
      " #   Column                   Non-Null Count  Dtype  \n",
      "---  ------                   --------------  -----  \n",
      " 0   ID                       14999 non-null  int64  \n",
      " 1   label                    14299 non-null  object \n",
      " 2   sessions                 14999 non-null  int64  \n",
      " 3   drives                   14999 non-null  int64  \n",
      " 4   total_sessions           14999 non-null  float64\n",
      " 5   n_days_after_onboarding  14999 non-null  int64  \n",
      " 6   total_navigations_fav1   14999 non-null  int64  \n",
      " 7   total_navigations_fav2   14999 non-null  int64  \n",
      " 8   driven_km_drives         14999 non-null  float64\n",
      " 9   duration_minutes_drives  14999 non-null  float64\n",
      " 10  activity_days            14999 non-null  int64  \n",
      " 11  driving_days             14999 non-null  int64  \n",
      " 12  device                   14999 non-null  object \n",
      "dtypes: float64(3), int64(8), object(2)\n",
      "memory usage: 1.5+ MB\n"
     ]
    }
   ],
   "source": [
    "df.info()"
   ]
  },
  {
   "cell_type": "markdown",
   "metadata": {
    "id": "4YcBN6ScPVpI"
   },
   "source": [
    "**Gestione dei dati**\n",
    "\n",
    "Esistono tre opzioni principali per gestire i valori anomali: mantenerli così come sono, eliminarli o riassegnarli. Mantenere i valori anomali così come sono, eliminarli o riassegnarli è una decisione che prendo per ogni singolo dataset, in base agli obiettivi del modello che intendo costruire. Per aiutarmi a prendere la decisione, solitamente consulto queste linee guida:\n",
    "\n",
    "* se sono sicuro che i valori anomali siano errori, refusi o errori e che il dataset verrà utilizzato per la modellazione o machine learning, è più probabile che decida di eliminarli. Delle tre opzioni, questa è quella che uso di meno.\n",
    "* se il set di dati è piccolo e/o i dati verranno utilizzati per la modellazione o l'apprendimento automatico, è più probabile che scelga un percorso che preveda la creazione di nuovi valori per sostituire i valori anomali.\n",
    "* per un set di dati su cui prevedo di eseguire EDA/analisi e nient'altro, o per un set di dati che sto preparando per un modello resistente ai valori anomali, è molto probabile che li lascerò."
   ]
  },
  {
   "cell_type": "markdown",
   "metadata": {
    "id": "2YdC51QBSG2v"
   },
   "source": [
    "### **Visualizzazioni**\n",
    "Ora che so quali colonne di dati utilizzerò, è il momento di decidere quale visualizzazione dati è più adatta per l'EDA del dataset Waze.\n",
    "\n",
    "* I box plot saranno utili per determinare i valori anomali e dove risiede la maggior parte dei punti dati in termini di `drive`, `sessioni` e tutte le altre variabili numeriche continue\n",
    "* Gli istogrammi sono essenziali per comprendere la distribuzione delle variabili\n",
    "* I grafici a dispersione saranno utili per visualizzare le relazioni tra le variabili\n",
    "* I grafici a barre sono utili per comunicare livelli e quantità, soprattutto per le informazioni categoriali\n"
   ]
  },
  {
   "cell_type": "markdown",
   "metadata": {
    "id": "Wa-IoAHLUWi8"
   },
   "source": [
    "Inizio esaminando la diffusione e la distribuzione delle variabili importanti utilizzando box plot e istogrammi.\n"
   ]
  },
  {
   "cell_type": "markdown",
   "metadata": {
    "id": "ZCMx5hwTGr4S"
   },
   "source": [
    "#### **`sessions`**\n",
    "\n",
    "Numero di volte in cui un utente apre l'app durante il mese."
   ]
  },
  {
   "cell_type": "code",
   "execution_count": 6,
   "metadata": {
    "colab": {
     "base_uri": "https://localhost:8080/",
     "height": 179
    },
    "executionInfo": {
     "elapsed": 5,
     "status": "ok",
     "timestamp": 1685484978994,
     "user": {
      "displayName": "Matteo Riotto",
      "userId": "15211004813978485634"
     },
     "user_tz": 420
    },
    "id": "qlUccI91a4NH",
    "outputId": "bafe8a72-ee3d-4070-b22e-4ea64a0c3459"
   },
   "outputs": [
    {
     "data": {
      "image/png": "[encoded data removed]",
      "text/plain": [
       "<Figure size 500x100 with 1 Axes>"
      ]
     },
     "metadata": {},
     "output_type": "display_data"
    }
   ],
   "source": [
    "# Box plot\n",
    "plt.figure(figsize=(5,1))\n",
    "sns.boxplot(x=df['sessions'], fliersize=1)\n",
    "plt.title('Boxplot delle sessions');"
   ]
  },
  {
   "cell_type": "code",
   "execution_count": null,
   "metadata": {
    "colab": {
     "base_uri": "https://localhost:8080/",
     "height": 333
    },
    "executionInfo": {
     "elapsed": 479,
     "status": "ok",
     "timestamp": 1685484979469,
     "user": {
      "displayName": "Matteo Riotto",
      "userId": "15211004813978485634"
     },
     "user_tz": 420
    },
    "id": "lre1PSxGHEAf",
    "outputId": "cd9e2f87-10e5-464e-89dc-1366bce9af8a"
   },
   "outputs": [
    {
     "data": {
      "image/png": "[encoded data removed]",
      "text/plain": [
       "<Figure size 500x300 with 1 Axes>"
      ]
     },
     "metadata": {},
     "output_type": "display_data"
    }
   ],
   "source": [
    "# istogramma\n",
    "plt.figure(figsize=(5,3))\n",
    "sns.histplot(x=df['sessions'])\n",
    "mediana = df['sessions'].median()\n",
    "plt.axvline(mediana, color='orange', linestyle='--')\n",
    "plt.text(75,1200, 'mediana=56.0', color='grey')\n",
    "plt.title('Box plot delle sessions');"
   ]
  },
  {
   "cell_type": "markdown",
   "metadata": {
    "id": "XISZlQQCH32e"
   },
   "source": [
    "La variabile `sessions` presenta una distribuzione asimmetrica a destra, con metà delle osservazioni che ha 56 sessioni o meno. Tuttavia, come mostrato dal boxplot, alcuni utenti ne hanno più di 700."
   ]
  },
  {
   "cell_type": "markdown",
   "metadata": {
    "id": "MY_1yJy2QXFc"
   },
   "source": [
    "#### **`drives`**\n",
    "\n",
    "_Un evento di guida di almeno 1 km durante il mese_"
   ]
  },
  {
   "cell_type": "code",
   "execution_count": 11,
   "metadata": {
    "colab": {
     "base_uri": "https://localhost:8080/",
     "height": 179
    },
    "executionInfo": {
     "elapsed": 9,
     "status": "ok",
     "timestamp": 1685484979469,
     "user": {
      "displayName": "Matteo Riotto",
      "userId": "15211004813978485634"
     },
     "user_tz": 420
    },
    "id": "J-MzUrNRQaK7",
    "outputId": "8188a59b-b048-4b00-f2c5-e10a106da1ba"
   },
   "outputs": [
    {
     "data": {
      "image/png": "[encoded data removed]",
      "text/plain": [
       "<Figure size 500x100 with 1 Axes>"
      ]
     },
     "metadata": {},
     "output_type": "display_data"
    }
   ],
   "source": [
    "# Box plot\n",
    "plt.figure(figsize=(5,1))\n",
    "sns.boxplot(x=df['drives'], fliersize=1)\n",
    "plt.title('Box Plot Drives');"
   ]
  },
  {
   "cell_type": "markdown",
   "metadata": {
    "id": "BbqEIWpl2USD"
   },
   "source": [
    "Il seguente blocco di codice definisce una funzione che aiuta a tracciare istogrammi con un particolare stile/formato utilizzando questo specifico set di dati."
   ]
  },
  {
   "cell_type": "code",
   "execution_count": 12,
   "metadata": {
    "id": "V9d5Y1cLQmgn"
   },
   "outputs": [],
   "source": [
    "# Funzione di supporto per tracciare istogrammi basati sul\n",
    "# formato dell'istogramma `sessions`\n",
    "def histogrammer(column_str, median_text=True, **kwargs):    # **kwargs = any keyword arguments\n",
    "                                                             # from the sns.histplot() function\n",
    "    mediana=round(df[column_str].median(), 1)\n",
    "    plt.figure(figsize=(5,3))\n",
    "    ax = sns.histplot(x=df[column_str], **kwargs)            # Plot the histogram\n",
    "    plt.axvline(mediana, color='orange', linestyle='--')         # Plot the median line\n",
    "    if median_text==True:                                    # Add median text unless set to False\n",
    "        ax.text(0.25, 0.85, f'mediana={mediana}', color='grey',\n",
    "            ha='left', va='top', transform=ax.transAxes)\n",
    "    else:\n",
    "        print('Mediana:', mediana)\n",
    "    plt.title(f'{column_str} histogram');"
   ]
  },
  {
   "cell_type": "code",
   "execution_count": 13,
   "metadata": {
    "colab": {
     "base_uri": "https://localhost:8080/",
     "height": 333
    },
    "executionInfo": {
     "elapsed": 710,
     "status": "ok",
     "timestamp": 1685484980172,
     "user": {
      "displayName": "Matteo Riotto",
      "userId": "15211004813978485634"
     },
     "user_tz": 420
    },
    "id": "9esFup8mWhRh",
    "outputId": "b9cd0f19-b1e9-4c94-8e73-9c7359b448ce"
   },
   "outputs": [
    {
     "data": {
      "image/png": "[encoded data removed]",
      "text/plain": [
       "<Figure size 500x300 with 1 Axes>"
      ]
     },
     "metadata": {},
     "output_type": "display_data"
    }
   ],
   "source": [
    "# Histogram\n",
    "histogrammer('drives')"
   ]
  },
  {
   "cell_type": "markdown",
   "metadata": {
    "id": "FzlWEaWe1ei_"
   },
   "source": [
    "Le informazioni sulle drives seguono una distribuzione simile a quella della variabile sulle sessioni. Sono asimmetriche a destra, approssimativamente log-normali, con una mediana di 48. Tuttavia, alcuni conducenti hanno effettuato più di 400 guide nell'ultimo mese."
   ]
  },
  {
   "cell_type": "markdown",
   "metadata": {
    "id": "eQ92YPHHYAPt"
   },
   "source": [
    "#### **`total_sessions`**\n",
    "\n",
    "_Una stima del modello del numero totale di sessioni da quando un utente è stato inserito_"
   ]
  },
  {
   "cell_type": "code",
   "execution_count": 14,
   "metadata": {
    "colab": {
     "base_uri": "https://localhost:8080/",
     "height": 179
    },
    "executionInfo": {
     "elapsed": 10,
     "status": "ok",
     "timestamp": 1685484980173,
     "user": {
      "displayName": "Matteo Riotto",
      "userId": "15211004813978485634"
     },
     "user_tz": 420
    },
    "id": "Bzot3ke4YCE_",
    "outputId": "81745bae-c820-4faa-afaa-947ca9042bad"
   },
   "outputs": [
    {
     "data": {
      "image/png": "[encoded data removed]",
      "text/plain": [
       "<Figure size 500x100 with 1 Axes>"
      ]
     },
     "metadata": {},
     "output_type": "display_data"
    }
   ],
   "source": [
    "# Box plot\n",
    "plt.figure(figsize=(5,1))\n",
    "sns.boxplot(x=df['total_sessions'], fliersize=1)\n",
    "plt.title('total_sessions box plot');"
   ]
  },
  {
   "cell_type": "code",
   "execution_count": 15,
   "metadata": {
    "colab": {
     "base_uri": "https://localhost:8080/",
     "height": 333
    },
    "executionInfo": {
     "elapsed": 462,
     "status": "ok",
     "timestamp": 1685484980626,
     "user": {
      "displayName": "Matteo Riotto",
      "userId": "15211004813978485634"
     },
     "user_tz": 420
    },
    "id": "3GhiwjgYYIhR",
    "outputId": "b399f37c-f61d-4a1f-9b05-f98c5a914983"
   },
   "outputs": [
    {
     "data": {
      "image/png": "[encoded data removed]",
      "text/plain": [
       "<Figure size 500x300 with 1 Axes>"
      ]
     },
     "metadata": {},
     "output_type": "display_data"
    }
   ],
   "source": [
    "# Histogram\n",
    "histogrammer('total_sessions')"
   ]
  },
  {
   "cell_type": "markdown",
   "metadata": {
    "id": "lccsBEsvYZoL"
   },
   "source": [
    "`total_sessions` è una distribuzione asimmetrica a destra. Il numero totale mediano di sessioni è 159,6. Questa è un'informazione interessante perché, se il numero mediano di sessioni nell'ultimo mese era 56 e il numero totale di sessioni mediano era ~160, allora sembra che una parte significativa delle sessioni totali (stimate) di un utente potrebbe essere avvenuta nell'ultimo mese. Questo è un aspetto che potrei esaminare più attentamente in seguito."
   ]
  },
  {
   "cell_type": "markdown",
   "metadata": {
    "id": "sYtPVTNJZXSE"
   },
   "source": [
    "#### **`n_days_after_onboarding`**\n",
    "\n",
    "_Numero di giorni trascorsi da quando un utente si è registrato all'app_"
   ]
  },
  {
   "cell_type": "code",
   "execution_count": 16,
   "metadata": {
    "colab": {
     "base_uri": "https://localhost:8080/",
     "height": 179
    },
    "executionInfo": {
     "elapsed": 10,
     "status": "ok",
     "timestamp": 1685484980626,
     "user": {
      "displayName": "Matteo Riotto",
      "userId": "15211004813978485634"
     },
     "user_tz": 420
    },
    "id": "8AsVyGPpZa4B",
    "outputId": "e6f00dea-6681-49e2-8677-4be48829becc"
   },
   "outputs": [
    {
     "data": {
      "image/png": "[encoded data removed]",
      "text/plain": [
       "<Figure size 500x100 with 1 Axes>"
      ]
     },
     "metadata": {},
     "output_type": "display_data"
    }
   ],
   "source": [
    "# Box plot\n",
    "plt.figure(figsize=(5,1))\n",
    "sns.boxplot(x=df['n_days_after_onboarding'], fliersize=1)\n",
    "plt.title('n di giorni trascorsi box plot');"
   ]
  },
  {
   "cell_type": "code",
   "execution_count": 17,
   "metadata": {
    "colab": {
     "base_uri": "https://localhost:8080/",
     "height": 350
    },
    "executionInfo": {
     "elapsed": 596,
     "status": "ok",
     "timestamp": 1685484981213,
     "user": {
      "displayName": "Matteo Riotto",
      "userId": "15211004813978485634"
     },
     "user_tz": 420
    },
    "id": "BD06UsgYnLnk",
    "outputId": "14342388-790b-4a80-bb02-f78ef33d680a"
   },
   "outputs": [
    {
     "name": "stdout",
     "output_type": "stream",
     "text": [
      "Mediana: 1741.0\n"
     ]
    },
    {
     "data": {
      "image/png": "[encoded data removed]",
      "text/plain": [
       "<Figure size 500x300 with 1 Axes>"
      ]
     },
     "metadata": {},
     "output_type": "display_data"
    }
   ],
   "source": [
    "# Histogram\n",
    "histogrammer('n_days_after_onboarding', median_text=False)"
   ]
  },
  {
   "cell_type": "markdown",
   "metadata": {
    "id": "NT-PFWKNaPSm"
   },
   "source": [
    "La durata totale dell'utente (ovvero il numero di giorni trascorsi dall'onboarding) presenta una distribuzione uniforme, con valori che vanno da quasi zero a circa 3.500 (circa 9,5 anni)."
   ]
  },
  {
   "cell_type": "markdown",
   "metadata": {
    "id": "geClcoQra7PG"
   },
   "source": [
    "#### **`driven_km_drives`**\n",
    "\n",
    "_Km totali percorsi durante il mese_"
   ]
  },
  {
   "cell_type": "code",
   "execution_count": 18,
   "metadata": {
    "colab": {
     "base_uri": "https://localhost:8080/",
     "height": 179
    },
    "executionInfo": {
     "elapsed": 8,
     "status": "ok",
     "timestamp": 1685484981214,
     "user": {
      "displayName": "Matteo Riotto",
      "userId": "15211004813978485634"
     },
     "user_tz": 420
    },
    "id": "BnTR-vg8bRjM",
    "outputId": "18627fd2-7265-4f54-f65d-c508ca5951a2"
   },
   "outputs": [
    {
     "data": {
      "image/png": "[encoded data removed]",
      "text/plain": [
       "<Figure size 500x100 with 1 Axes>"
      ]
     },
     "metadata": {},
     "output_type": "display_data"
    }
   ],
   "source": [
    "# Box plot\n",
    "plt.figure(figsize=(5,1))\n",
    "sns.boxplot(x=df['driven_km_drives'], fliersize=1)\n",
    "plt.title('km totali durante il mese box plot');"
   ]
  },
  {
   "cell_type": "code",
   "execution_count": 19,
   "metadata": {
    "colab": {
     "base_uri": "https://localhost:8080/",
     "height": 333
    },
    "executionInfo": {
     "elapsed": 531,
     "status": "ok",
     "timestamp": 1685484981738,
     "user": {
      "displayName": "Matteo Riotto",
      "userId": "15211004813978485634"
     },
     "user_tz": 420
    },
    "id": "465Jo-bSbfGz",
    "outputId": "1169ea7d-4d6e-4fcc-ec52-d74dfaee6059"
   },
   "outputs": [
    {
     "data": {
      "image/png": "[encoded data removed]",
      "text/plain": [
       "<Figure size 500x300 with 1 Axes>"
      ]
     },
     "metadata": {},
     "output_type": "display_data"
    }
   ],
   "source": [
    "# Histogram\n",
    "histogrammer('driven_km_drives')"
   ]
  },
  {
   "cell_type": "markdown",
   "metadata": {
    "id": "9U3loBXKbyXC"
   },
   "source": [
    "Il numero di viaggi effettuati nell'ultimo mese per utente presenta una distribuzione asimmetrica a destra, con metà degli utenti che ha percorso meno di 3.495 chilometri. Come ho scoperto nell'analisi del notebook precedente, gli utenti di questo dataset guidano _molto_. La distanza più lunga percorsa nel mese è stata superiore alla metà della circonferenza terrestre."
   ]
  },
  {
   "cell_type": "markdown",
   "metadata": {
    "id": "HF6spYr1ceG4"
   },
   "source": [
    "#### **`duration_minutes_drives`**\n",
    "\n",
    "_Durata totale di guida in minuti durante il mese_"
   ]
  },
  {
   "cell_type": "code",
   "execution_count": 20,
   "metadata": {
    "colab": {
     "base_uri": "https://localhost:8080/",
     "height": 179
    },
    "executionInfo": {
     "elapsed": 9,
     "status": "ok",
     "timestamp": 1685484981739,
     "user": {
      "displayName": "Matteo Riotto",
      "userId": "15211004813978485634"
     },
     "user_tz": 420
    },
    "id": "jObOtNw4chqb",
    "outputId": "76dad37d-c81f-4697-bed9-ed4bef33223a"
   },
   "outputs": [
    {
     "data": {
      "image/png": "[encoded data removed]",
      "text/plain": [
       "<Figure size 500x100 with 1 Axes>"
      ]
     },
     "metadata": {},
     "output_type": "display_data"
    }
   ],
   "source": [
    "# Box plot\n",
    "plt.figure(figsize=(5,1))\n",
    "sns.boxplot(x=df['duration_minutes_drives'], fliersize=1)\n",
    "plt.title('Durata totale di guide in min box plot');"
   ]
  },
  {
   "cell_type": "code",
   "execution_count": 21,
   "metadata": {
    "colab": {
     "base_uri": "https://localhost:8080/",
     "height": 333
    },
    "executionInfo": {
     "elapsed": 1381,
     "status": "ok",
     "timestamp": 1685484983113,
     "user": {
      "displayName": "Matteo Riotto",
      "userId": "15211004813978485634"
     },
     "user_tz": 420
    },
    "id": "hnNG1ma1co37",
    "outputId": "d4f074ad-5b92-4b31-aefe-de03d8ca23dd"
   },
   "outputs": [
    {
     "data": {
      "image/png": "[encoded data removed]",
      "text/plain": [
       "<Figure size 500x300 with 1 Axes>"
      ]
     },
     "metadata": {},
     "output_type": "display_data"
    }
   ],
   "source": [
    "# Histogram\n",
    "histogrammer('duration_minutes_drives')\n"
   ]
  },
  {
   "cell_type": "markdown",
   "metadata": {
    "id": "HTob-MxKdGmw"
   },
   "source": [
    "La variabile `duration_minutes_drives` ha una coda fortemente sbilanciata a destra. Metà degli utenti ha guidato per meno di 1.478 minuti (25 ore), ma alcuni utenti hanno totalizzato oltre 250 ore nel mese."
   ]
  },
  {
   "cell_type": "markdown",
   "metadata": {
    "id": "f0GhCxbUeIun"
   },
   "source": [
    "#### **`activity_days`**\n",
    "\n",
    "_Numero di giorni in cui l'utente apre l'app durante il mese_"
   ]
  },
  {
   "cell_type": "code",
   "execution_count": 22,
   "metadata": {
    "colab": {
     "base_uri": "https://localhost:8080/",
     "height": 179
    },
    "executionInfo": {
     "elapsed": 28,
     "status": "ok",
     "timestamp": 1685484983114,
     "user": {
      "displayName": "Matteo Riotto",
      "userId": "15211004813978485634"
     },
     "user_tz": 420
    },
    "id": "YOBFc6ExeL81",
    "outputId": "57dcbb88-6e10-4c76-cc49-e733825ccb08"
   },
   "outputs": [
    {
     "data": {
      "image/png": "[encoded data removed]",
      "text/plain": [
       "<Figure size 500x100 with 1 Axes>"
      ]
     },
     "metadata": {},
     "output_type": "display_data"
    }
   ],
   "source": [
    "# Box plot\n",
    "plt.figure(figsize=(5,1))\n",
    "sns.boxplot(x=df['activity_days'], fliersize=1)\n",
    "plt.title('Giorni di attività box plot');"
   ]
  },
  {
   "cell_type": "code",
   "execution_count": 23,
   "metadata": {
    "colab": {
     "base_uri": "https://localhost:8080/",
     "height": 350
    },
    "executionInfo": {
     "elapsed": 27,
     "status": "ok",
     "timestamp": 1685484983115,
     "user": {
      "displayName": "Matteo Riotto",
      "userId": "15211004813978485634"
     },
     "user_tz": 420
    },
    "id": "UvIV9zoodxnS",
    "outputId": "196c433a-05e0-4ac1-c80b-e17d48ab97be"
   },
   "outputs": [
    {
     "name": "stdout",
     "output_type": "stream",
     "text": [
      "Mediana: 16.0\n"
     ]
    },
    {
     "data": {
      "image/png": "[encoded data removed]",
      "text/plain": [
       "<Figure size 500x300 with 1 Axes>"
      ]
     },
     "metadata": {},
     "output_type": "display_data"
    }
   ],
   "source": [
    "# Histogram\n",
    "histogrammer('activity_days', median_text=False, discrete=True)"
   ]
  },
  {
   "cell_type": "markdown",
   "metadata": {
    "id": "gSCakp9-ekiz"
   },
   "source": [
    "Nell'ultimo mese, gli utenti hanno aperto l'app in media 16 volte. Il box plot rivela una distribuzione centrata. L'istogramma mostra una distribuzione pressoché uniforme di circa 500 persone che hanno aperto l'app per ogni conteggio dei giorni. Tuttavia, ci sono circa 250 persone che non hanno aperto l'app affatto e circa 250 persone che l'hanno aperta tutti i giorni del mese.\n",
    "\n",
    "Questa distribuzione è degna di nota perché non rispecchia la distribuzione delle `sessioni`, che si potrebbe pensare sia strettamente correlata a `activity_days`."
   ]
  },
  {
   "cell_type": "markdown",
   "metadata": {
    "id": "uPjYLN10lykc"
   },
   "source": [
    "#### **`driving_days`**\n",
    "\n",
    "_Numero di giorni in cui l'utente guida (almeno 1 km) durante il mese_"
   ]
  },
  {
   "cell_type": "code",
   "execution_count": 24,
   "metadata": {
    "colab": {
     "base_uri": "https://localhost:8080/",
     "height": 179
    },
    "executionInfo": {
     "elapsed": 495,
     "status": "ok",
     "timestamp": 1685484983596,
     "user": {
      "displayName": "Matteo Riotto",
      "userId": "15211004813978485634"
     },
     "user_tz": 420
    },
    "id": "8CLIkMlcl5qW",
    "outputId": "4a2a2895-6652-4f92-9a7f-56fc653ea163"
   },
   "outputs": [
    {
     "data": {
      "image/png": "[encoded data removed]",
      "text/plain": [
       "<Figure size 500x100 with 1 Axes>"
      ]
     },
     "metadata": {},
     "output_type": "display_data"
    }
   ],
   "source": [
    "# Box plot\n",
    "plt.figure(figsize=(5,1))\n",
    "sns.boxplot(x=df['driving_days'], fliersize=1)\n",
    "plt.title('Giorni di guida box plot');"
   ]
  },
  {
   "cell_type": "code",
   "execution_count": 25,
   "metadata": {
    "colab": {
     "base_uri": "https://localhost:8080/",
     "height": 350
    },
    "executionInfo": {
     "elapsed": 14,
     "status": "ok",
     "timestamp": 1685484983597,
     "user": {
      "displayName": "Matteo Riotto",
      "userId": "15211004813978485634"
     },
     "user_tz": 420
    },
    "id": "Ag8vbNA3l_Zr",
    "outputId": "08434c22-387f-4717-fb7f-014a6973c1f9"
   },
   "outputs": [
    {
     "name": "stdout",
     "output_type": "stream",
     "text": [
      "Mediana: 12.0\n"
     ]
    },
    {
     "data": {
      "image/png": "[encoded data removed]",
      "text/plain": [
       "<Figure size 500x300 with 1 Axes>"
      ]
     },
     "metadata": {},
     "output_type": "display_data"
    }
   ],
   "source": [
    "# Histogram\n",
    "histogrammer('driving_days', median_text=False, discrete=True)"
   ]
  },
  {
   "cell_type": "markdown",
   "metadata": {
    "id": "tLRfE-UQoJso"
   },
   "source": [
    "Il numero di giorni in cui gli utenti hanno guidato ogni mese è pressoché uniforme e in gran parte correlato al numero di giorni in cui hanno aperto l'app in quel mese, fatta eccezione per la distribuzione di `driving_days` che si assottiglia a destra.\n",
    "\n",
    "Tuttavia, quasi il doppio degli utenti (circa 1.000 contro circa 550) non ha guidato affatto durante il mese. Questo potrebbe sembrare controintuitivo se considerato insieme alle informazioni di `activity_days`. Questa variabile mostrava circa 500 utenti che aprivano l'app nella maggior parte dei conteggi giornalieri, ma solo circa 250 utenti non hanno aperto l'app affatto durante il mese e circa 250 utenti l'hanno aperta ogni giorno. \n",
    "Servirebbero ulteriori analisi su questo dato.\n"
   ]
  },
  {
   "cell_type": "markdown",
   "metadata": {
    "id": "_WoEciWn0now"
   },
   "source": [
    "#### **`device`**\n",
    "\n",
    "_Il tipo di dispositivo con cui un utente avvia una sessione_"
   ]
  },
  {
   "cell_type": "code",
   "execution_count": 26,
   "metadata": {
    "colab": {
     "base_uri": "https://localhost:8080/",
     "height": 290
    },
    "executionInfo": {
     "elapsed": 413,
     "status": "ok",
     "timestamp": 1685484989713,
     "user": {
      "displayName": "Matteo Riotto",
      "userId": "15211004813978485634"
     },
     "user_tz": 420
    },
    "id": "aHw72aEt0_DB",
    "outputId": "42343633-08c3-4ee1-9685-93b97cd02c45"
   },
   "outputs": [
    {
     "data": {
      "image/png": "[encoded data removed]",
      "text/plain": [
       "<Figure size 300x300 with 1 Axes>"
      ]
     },
     "metadata": {},
     "output_type": "display_data"
    }
   ],
   "source": [
    "# Pie chart\n",
    "fig = plt.figure(figsize=(3,3))\n",
    "data=df['device'].value_counts()\n",
    "plt.pie(data,\n",
    "        labels=[f'{data.index[0]}: {data.values[0]}',\n",
    "                f'{data.index[1]}: {data.values[1]}'],\n",
    "        autopct='%1.1f%%'\n",
    "        )\n",
    "plt.title('Utenti per device');"
   ]
  },
  {
   "cell_type": "markdown",
   "metadata": {
    "id": "XNvYyQnD37Pg"
   },
   "source": [
    "In questi dati sono rappresentati quasi il doppio degli utenti iPhone rispetto agli utenti Android."
   ]
  },
  {
   "cell_type": "markdown",
   "metadata": {
    "id": "l_yCblxJ3fht"
   },
   "source": [
    "#### **`label`**\n",
    "\n",
    "_Variabile target binaria (\"retained\" vs \"churned\") per indicare se un utente ha abbandonato il sito in qualsiasi momento nel corso del mese_"
   ]
  },
  {
   "cell_type": "code",
   "execution_count": 27,
   "metadata": {
    "colab": {
     "base_uri": "https://localhost:8080/",
     "height": 290
    },
    "executionInfo": {
     "elapsed": 413,
     "status": "ok",
     "timestamp": 1685485019220,
     "user": {
      "displayName": "Matteo Riotto",
      "userId": "15211004813978485634"
     },
     "user_tz": 420
    },
    "id": "IQ91Etl73xEp",
    "outputId": "e4f0c86f-af97-419e-b550-9e92402d531e"
   },
   "outputs": [
    {
     "data": {
      "image/png": "[encoded data removed]",
      "text/plain": [
       "<Figure size 300x300 with 1 Axes>"
      ]
     },
     "metadata": {},
     "output_type": "display_data"
    }
   ],
   "source": [
    "# Pie chart\n",
    "fig = plt.figure(figsize=(3,3))\n",
    "data=df['label'].value_counts()\n",
    "plt.pie(data,\n",
    "        labels=[f'{data.index[0]}: {data.values[0]}',\n",
    "                f'{data.index[1]}: {data.values[1]}'],\n",
    "        autopct='%1.1f%%'\n",
    "        )\n",
    "plt.title('COnteggio di retained e churned');"
   ]
  },
  {
   "cell_type": "markdown",
   "metadata": {
    "id": "TuLcxip-4Gud"
   },
   "source": [
    "Meno del 18% degli utenti ha abbandonato il servizio Waze."
   ]
  },
  {
   "cell_type": "markdown",
   "metadata": {
    "id": "joljkaIA72Mr"
   },
   "source": [
    "#### **`driving_days` vs. `activity_days`**\n",
    "\n",
    "Poiché sia ​​`driving_days` che `activity_days` rappresentano il conteggio dei giorni nell'arco di un mese e sono anche strettamente correlati, è possibile rappresentarli insieme in un unico istogramma. Questo aiuterà a comprendere meglio la loro relazione senza dover scorrere avanti e indietro confrontando gli istogrammi in due punti diversi."
   ]
  },
  {
   "cell_type": "code",
   "execution_count": 30,
   "metadata": {
    "colab": {
     "base_uri": "https://localhost:8080/",
     "height": 406
    },
    "executionInfo": {
     "elapsed": 484,
     "status": "ok",
     "timestamp": 1685473703682,
     "user": {
      "displayName": "Matteo Riotto",
      "userId": "15211004813978485634"
     },
     "user_tz": 420
    },
    "id": "t28ihi30Fa2g",
    "outputId": "540a981b-cce7-4ed5-b8b0-9810fb2cdfb7"
   },
   "outputs": [
    {
     "data": {
      "image/png": "[encoded data removed]",
      "text/plain": [
       "<Figure size 1200x1000 with 1 Axes>"
      ]
     },
     "metadata": {},
     "output_type": "display_data"
    }
   ],
   "source": [
    "# Histogram\n",
    "plt.figure(figsize=(12,10))\n",
    "label=['driving days', 'activity days']\n",
    "plt.hist([df['driving_days'], df['activity_days']],\n",
    "         bins=range(0,33),\n",
    "         label=label)\n",
    "plt.xlabel('days')\n",
    "plt.ylabel('count')\n",
    "plt.legend()\n",
    "plt.title('driving_days vs. activity_days');"
   ]
  },
  {
   "cell_type": "markdown",
   "metadata": {
    "id": "mG3nex1RKTlx"
   },
   "source": [
    "Come osservato in precedenza, questo potrebbe sembrare controintuitivo. Dopotutto, perché ci sono _meno_ persone che non hanno usato l'app durante il mese e _più_ persone che non hanno guidato affatto durante il mese?\n",
    "\n",
    "D'altra parte, potrebbe semplicemente illustrare il fatto che, sebbene queste variabili siano correlate tra loro, non sono la stessa cosa. Probabilmente le persone aprono l'app più spesso di quanto la usino per guidare, forse per controllare i tempi di guida o le informazioni sul percorso, per aggiornare le impostazioni o anche solo per errore.\n",
    "\n",
    "\n",
    "Ora confermo il numero massimo di giorni per ciascuna variabile: `driving_days` e `activity_days`."
   ]
  },
  {
   "cell_type": "code",
   "execution_count": 31,
   "metadata": {
    "colab": {
     "base_uri": "https://localhost:8080/"
    },
    "executionInfo": {
     "elapsed": 10,
     "status": "ok",
     "timestamp": 1685473703683,
     "user": {
      "displayName": "Matteo Riotto",
      "userId": "15211004813978485634"
     },
     "user_tz": 420
    },
    "id": "8Z16W0qjDMad",
    "outputId": "dd334e9f-b3c4-478e-8808-76bfca0b9f7f"
   },
   "outputs": [
    {
     "name": "stdout",
     "output_type": "stream",
     "text": [
      "30\n",
      "31\n"
     ]
    }
   ],
   "source": [
    "print(df['driving_days'].max())\n",
    "print(df['activity_days'].max())"
   ]
  },
  {
   "cell_type": "markdown",
   "metadata": {
    "id": "5xtqi_z4OJNL"
   },
   "source": [
    "Sebbene sia possibile che nessun utente abbia guidato per tutti i 31 giorni del mese, è altamente improbabile, considerando che nel set di dati sono rappresentate 15.000 persone.\n",
    "\n",
    "Un altro modo per verificare la validità di queste variabili è tracciare un semplice grafico a dispersione con l'asse x che rappresenta una variabile e l'asse y che rappresenta l'altra."
   ]
  },
  {
   "cell_type": "code",
   "execution_count": 32,
   "metadata": {
    "colab": {
     "base_uri": "https://localhost:8080/",
     "height": 472
    },
    "executionInfo": {
     "elapsed": 584,
     "status": "ok",
     "timestamp": 1685473704262,
     "user": {
      "displayName": "Matteo Riotto",
      "userId": "15211004813978485634"
     },
     "user_tz": 420
    },
    "id": "Vahs0CWCOnnF",
    "outputId": "4184e76a-8631-4ab3-b947-6fdde73cc5ab"
   },
   "outputs": [
    {
     "data": {
      "image/png": "[encoded data removed]",
      "text/plain": [
       "<Figure size 640x480 with 1 Axes>"
      ]
     },
     "metadata": {},
     "output_type": "display_data"
    }
   ],
   "source": [
    "# Scatter plot\n",
    "sns.scatterplot(data=df, x='driving_days', y='activity_days')\n",
    "plt.title('driving_days vs. activity_days')\n",
    "plt.plot([0,31], [0,31], color='red', linestyle='--');"
   ]
  },
  {
   "cell_type": "markdown",
   "metadata": {
    "id": "jDwKuuM4Ra_T"
   },
   "source": [
    "Il numero di giorni in cui si guida non può mai essere superiore al numero di giorni in cui si usa l'app. Se si guida con l'app, necessariamente la si sta usando. Quindi, se in un anno usi l'app per 100 giorni, i giorni di guida possono essere al massimo 100, non 101 o di più. I dati fortunatamente rispettano questa logica."
   ]
  },
  {
   "cell_type": "markdown",
   "metadata": {
    "id": "57xSU34rbiwm"
   },
   "source": [
    "#### **Retention per device**\n",
    "\n",
    "Traccio un istogramma con quattro barre, una per ogni combinazione device-label, per mostrare quanti utenti iPhone sono stati mantenuti/abbandonati e quanti utenti Android sono stati mantenuti/abbandonati."
   ]
  },
  {
   "cell_type": "code",
   "execution_count": 33,
   "metadata": {
    "colab": {
     "base_uri": "https://localhost:8080/",
     "height": 410
    },
    "executionInfo": {
     "elapsed": 23,
     "status": "ok",
     "timestamp": 1685473704263,
     "user": {
      "displayName": "Matteo Riotto",
      "userId": "15211004813978485634"
     },
     "user_tz": 420
    },
    "id": "l5RQ8XkaXDzq",
    "outputId": "114d51f3-4b50-4df8-c3b7-5bcf879533ab"
   },
   "outputs": [
    {
     "data": {
      "image/png": "[encoded data removed]",
      "text/plain": [
       "<Figure size 500x400 with 1 Axes>"
      ]
     },
     "metadata": {},
     "output_type": "display_data"
    }
   ],
   "source": [
    "# Histogram\n",
    "plt.figure(figsize=(5,4))\n",
    "sns.histplot(data=df,\n",
    "             x='device',\n",
    "             hue='label',\n",
    "             multiple='dodge',\n",
    "             shrink=0.9\n",
    "             )\n",
    "plt.title('Retention by device histogram');"
   ]
  },
  {
   "cell_type": "markdown",
   "metadata": {
    "id": "dYyOw0BTcLao"
   },
   "source": [
    "La proporzione tra utenti chruned e utenti retained è coerente tra i diversi tipi di dispositivi."
   ]
  },
  {
   "cell_type": "markdown",
   "metadata": {
    "id": "F38TJS5kxkhz"
   },
   "source": [
    "#### **Fidelizzazione per chilometri percorsi per giorno di guida**\n",
    "\n",
    "Nel notebook precendente, ho scoperto che la distanza media percorsa per giorno di guida il mese scorso per gli utenti che hanno abbandonato il servizio era di 697,54 km, contro i 289,55 km per gli utenti che non hanno abbandonato il servizio. \n",
    "\n",
    "Per approfondire questo aspetto:\n",
    "\n",
    "1. Creo una nuova colonna in `df` chiamata `km_per_driving_day`, che rappresenta la distanza media percorsa per giorno di guida per ciascun utente.\n",
    "\n",
    "2. Utilizzo il metodo `describe()` sulla nuova colonna."
   ]
  },
  {
   "cell_type": "code",
   "execution_count": 36,
   "metadata": {
    "colab": {
     "base_uri": "https://localhost:8080/"
    },
    "executionInfo": {
     "elapsed": 21,
     "status": "ok",
     "timestamp": 1685473704263,
     "user": {
      "displayName": "Matteo Riotto",
      "userId": "15211004813978485634"
     },
     "user_tz": 420
    },
    "id": "kIZ27mvcyKpf",
    "outputId": "0fc0d19c-57c7-4d66-9cd4-04a5895ce778"
   },
   "outputs": [
    {
     "name": "stderr",
     "output_type": "stream",
     "text": [
      "/opt/miniconda3/envs/pydata-book/lib/python3.10/site-packages/pandas/core/nanops.py:1016: RuntimeWarning: invalid value encountered in subtract\n",
      "  sqr = _ensure_numeric((avg - values) ** 2)\n"
     ]
    },
    {
     "data": {
      "application/vnd.microsoft.datawrangler.viewer.v0+json": {
       "columns": [
        {
         "name": "index",
         "rawType": "object",
         "type": "string"
        },
        {
         "name": "km_per_driving_day",
         "rawType": "float64",
         "type": "float"
        }
       ],
       "ref": "18d6d7f7-e895-4509-a5f7-7dd7eef9b531",
       "rows": [
        [
         "count",
         "14999.0"
        ],
        [
         "mean",
         "inf"
        ],
        [
         "std",
         null
        ],
        [
         "min",
         "3.022062523"
        ],
        [
         "25%",
         "167.28041375"
        ],
        [
         "50%",
         "323.1459379"
        ],
        [
         "75%",
         "757.9256677999999"
        ],
        [
         "max",
         "inf"
        ]
       ],
       "shape": {
        "columns": 1,
        "rows": 8
       }
      },
      "text/plain": [
       "count    1.499900e+04\n",
       "mean              inf\n",
       "std               NaN\n",
       "min      3.022063e+00\n",
       "25%      1.672804e+02\n",
       "50%      3.231459e+02\n",
       "75%      7.579257e+02\n",
       "max               inf\n",
       "Name: km_per_driving_day, dtype: float64"
      ]
     },
     "execution_count": 36,
     "metadata": {},
     "output_type": "execute_result"
    }
   ],
   "source": [
    "#1. Creo un colonna km per driving day\n",
    "df['km_per_driving_day'] = df['driven_km_drives'] / df['driving_days']\n",
    "\n",
    "df['km_per_driving_day'].describe(include=\"all\")"
   ]
  },
  {
   "cell_type": "markdown",
   "metadata": {
    "id": "v2y2Qj_lzwLT"
   },
   "source": [
    "Il valore medio è infinito, la deviazione standard è NaN e il valore massimo è infinito.\n",
    "\n",
    "Questo è il risultato della presenza di valori pari a zero nella colonna `driving_days`. Pandas imputa un valore pari a infinito nelle righe corrispondenti della nuova colonna perché la divisione per zero non è definita.\n",
    "\n",
    "Per correggere:\n",
    "1. Converto questi valori da infinito a zero. \n",
    "\n",
    "2. `describe()` sulla colonna `km_per_driving_day` per verificare che abbia funzionato."
   ]
  },
  {
   "cell_type": "code",
   "execution_count": 37,
   "metadata": {
    "colab": {
     "base_uri": "https://localhost:8080/"
    },
    "executionInfo": {
     "elapsed": 14,
     "status": "ok",
     "timestamp": 1685473704263,
     "user": {
      "displayName": "Matteo Riotto",
      "userId": "15211004813978485634"
     },
     "user_tz": 420
    },
    "id": "JoS97_0n0Uo4",
    "outputId": "4431109f-08a1-4696-b235-7e09dcfe4250"
   },
   "outputs": [
    {
     "data": {
      "application/vnd.microsoft.datawrangler.viewer.v0+json": {
       "columns": [
        {
         "name": "index",
         "rawType": "object",
         "type": "string"
        },
        {
         "name": "km_per_driving_day",
         "rawType": "float64",
         "type": "float"
        }
       ],
       "ref": "1ee24637-61f9-4551-847e-04db3d873ad0",
       "rows": [
        [
         "count",
         "14999.0"
        ],
        [
         "mean",
         "578.9631134118423"
        ],
        [
         "std",
         "1030.0943842273302"
        ],
        [
         "min",
         "0.0"
        ],
        [
         "25%",
         "136.23889535833334"
        ],
        [
         "50%",
         "272.8892720869565"
        ],
        [
         "75%",
         "558.6869182124999"
        ],
        [
         "max",
         "15420.23411"
        ]
       ],
       "shape": {
        "columns": 1,
        "rows": 8
       }
      },
      "text/plain": [
       "count    14999.000000\n",
       "mean       578.963113\n",
       "std       1030.094384\n",
       "min          0.000000\n",
       "25%        136.238895\n",
       "50%        272.889272\n",
       "75%        558.686918\n",
       "max      15420.234110\n",
       "Name: km_per_driving_day, dtype: float64"
      ]
     },
     "execution_count": 37,
     "metadata": {},
     "output_type": "execute_result"
    }
   ],
   "source": [
    "# 1. Converto valori infiniti in 0\n",
    "\n",
    "df.loc[df['km_per_driving_day']== np.inf, 'km_per_driving_day'] = 0\n",
    "\n",
    "# 2. Confermo che ha funzionato\n",
    "df['km_per_driving_day'].describe()"
   ]
  },
  {
   "cell_type": "markdown",
   "metadata": {
    "id": "atEH51S83Y-S"
   },
   "source": [
    "Il valore massimo è 15.420 chilometri _per giorno di guida_. Questo è fisicamente impossibile. Guidare a 100 km/h per 12 ore equivale a 1.200 km. È improbabile che molte persone abbiano percorso in media più di questo valore ogni giorno di guida, quindi, per ora, ignoro le righe in cui la distanza in questa colonna è superiore a 1.200 km.\n",
    "\n",
    "Traccio un istogramma della nuova colonna `km_per_driving_day`, ignorando gli utenti con valori superiori a 1.200 km. \n",
    "\n",
    "Ogni barra dovrebbe avere la stessa lunghezza e due colori, uno che rappresenta la percentuale di utenti churned in quella barra e l'altro che rappresenta la percentuale di utenti retained. \n",
    "\n",
    "> Questo può essere fatto impostando il parametro `multiple` della funzione [`histplot()`]"
   ]
  },
  {
   "cell_type": "code",
   "execution_count": 38,
   "metadata": {
    "colab": {
     "base_uri": "https://localhost:8080/",
     "height": 483
    },
    "executionInfo": {
     "elapsed": 1218,
     "status": "ok",
     "timestamp": 1685473705474,
     "user": {
      "displayName": "Matteo Riotto",
      "userId": "15211004813978485634"
     },
     "user_tz": 420
    },
    "id": "8lfXK3tZ8PK-",
    "outputId": "25fee6cd-f062-466c-937a-fd8328bc1cbf"
   },
   "outputs": [
    {
     "data": {
      "image/png": "[encoded data removed]",
      "text/plain": [
       "<Figure size 1200x500 with 1 Axes>"
      ]
     },
     "metadata": {},
     "output_type": "display_data"
    }
   ],
   "source": [
    "# Histogram\n",
    "plt.figure(figsize=(12,5))\n",
    "sns.histplot(data=df,\n",
    "             x='km_per_driving_day',\n",
    "             bins=range(0,1201,20),\n",
    "             hue='label',\n",
    "             multiple='fill')\n",
    "plt.ylabel('%', rotation=0)\n",
    "plt.title('Tasso di abbandono per km medi al giorno di guida');"
   ]
  },
  {
   "cell_type": "markdown",
   "metadata": {
    "id": "NA2ru_9G4q-S"
   },
   "source": [
    "Il tasso di abbandono tende ad aumentare con l'aumentare della distanza media giornaliera percorsa, confermando quanto riscontrato nel notebook precedente. Varrebbe la pena indagare ulteriormente le ragioni per cui gli utenti che percorrono lunghe distanze interrompono l'utilizzo dell'app."
   ]
  },
  {
   "cell_type": "markdown",
   "metadata": {
    "id": "ZPSP6HUysd4-"
   },
   "source": [
    "#### **Tasso di abbandono per numero di giorni di guida**\n",
    "\n",
    "Creo un altro istogramma come il precedente, solo che questa volta dovrebbe rappresentare il tasso di abbandono per ogni numero di giorni di guida."
   ]
  },
  {
   "cell_type": "code",
   "execution_count": 39,
   "metadata": {
    "colab": {
     "base_uri": "https://localhost:8080/",
     "height": 487
    },
    "executionInfo": {
     "elapsed": 13,
     "status": "ok",
     "timestamp": 1685473705474,
     "user": {
      "displayName": "Matteo Riotto",
      "userId": "15211004813978485634"
     },
     "user_tz": 420
    },
    "id": "8ROFdoGi-zct",
    "outputId": "18393a33-c170-41e3-baff-ec2b4ba7c401"
   },
   "outputs": [
    {
     "data": {
      "image/png": "[encoded data removed]",
      "text/plain": [
       "<Figure size 1200x500 with 1 Axes>"
      ]
     },
     "metadata": {},
     "output_type": "display_data"
    }
   ],
   "source": [
    "# Histogram\n",
    "plt.figure(figsize=(12,5))\n",
    "sns.histplot(data=df,\n",
    "             x='driving_days',\n",
    "             bins=range(1,32),\n",
    "             hue='label',\n",
    "             multiple='fill',\n",
    "             discrete=True)\n",
    "plt.ylabel('%', rotation=0)\n",
    "plt.title('Tasso di abbandono per driving day');"
   ]
  },
  {
   "cell_type": "markdown",
   "metadata": {
    "id": "02R42NXduRaS"
   },
   "source": [
    "Il tasso di abbandono è più elevato tra gli utenti che hanno usato Waze raramente nell'ultimo mese. All'aumentare della frequenza d'uso dell'app, la probabilità di abbandono diminuisce. Ad esempio, il 40% degli utenti che non hanno usato l'app il mese precedente l'ha disinstallata, mentre nessuno di quelli che l'hanno usata per 30 giorni ha abbandonato.\n",
    "\n",
    "Questo risultato è prevedibile. Se gli utenti abituali abbandonassero l'app, ciò suggerirebbe insoddisfazione. Quando a disinstallare l'app sono gli utenti che la usano di rado, le ragioni possono essere diverse: insoddisfazione passata o semplicemente un minor bisogno di un'app di navigazione, per esempio dopo essersi trasferiti in una città con un buon sistema di trasporto pubblico."
   ]
  },
  {
   "cell_type": "markdown",
   "metadata": {
    "id": "HoKlVENQDCHm"
   },
   "source": [
    "#### **Percentuale di sessioni registrate nell'ultimo mese**\n",
    "\n",
    "Creo una nuova colonna `percent_sessions_in_last_month` che rappresenti la percentuale delle sessioni totali di ciascun utente registrate nell'ultimo mese di utilizzo."
   ]
  },
  {
   "cell_type": "code",
   "execution_count": 40,
   "metadata": {
    "id": "4K6HUwBqEQh0"
   },
   "outputs": [],
   "source": [
    "df['percent_sessions_in_last_month'] = df['sessions'] / df['total_sessions']"
   ]
  },
  {
   "cell_type": "markdown",
   "metadata": {
    "id": "sQco4xguR9sx"
   },
   "source": [
    "Qual è il valore mediano della nuova colonna?"
   ]
  },
  {
   "cell_type": "code",
   "execution_count": 41,
   "metadata": {
    "colab": {
     "base_uri": "https://localhost:8080/"
    },
    "executionInfo": {
     "elapsed": 12,
     "status": "ok",
     "timestamp": 1685473705475,
     "user": {
      "displayName": "Matteo Riotto",
      "userId": "15211004813978485634"
     },
     "user_tz": 420
    },
    "id": "Fd3s-hB3SJjK",
    "outputId": "acecd7bf-45ee-4b14-b622-89d15fbda75a"
   },
   "outputs": [
    {
     "data": {
      "text/plain": [
       "np.float64(0.42309702992763176)"
      ]
     },
     "execution_count": 41,
     "metadata": {},
     "output_type": "execute_result"
    }
   ],
   "source": [
    "df['percent_sessions_in_last_month'].median()"
   ]
  },
  {
   "cell_type": "markdown",
   "metadata": {
    "id": "5ZKI1mihEcGT"
   },
   "source": [
    "Ora, creo un istogramma che rappresenti la distribuzione dei valori in questa nuova colonna."
   ]
  },
  {
   "cell_type": "code",
   "execution_count": 42,
   "metadata": {
    "colab": {
     "base_uri": "https://localhost:8080/",
     "height": 350
    },
    "executionInfo": {
     "elapsed": 523,
     "status": "ok",
     "timestamp": 1685473705991,
     "user": {
      "displayName": "Matteo Riotto",
      "userId": "15211004813978485634"
     },
     "user_tz": 420
    },
    "id": "rccGskdzEbWz",
    "outputId": "d8b73916-1106-4a80-8356-82a4e5aa8af2"
   },
   "outputs": [
    {
     "name": "stdout",
     "output_type": "stream",
     "text": [
      "Mediana: 0.4\n"
     ]
    },
    {
     "data": {
      "image/png": "[encoded data removed]",
      "text/plain": [
       "<Figure size 500x300 with 1 Axes>"
      ]
     },
     "metadata": {},
     "output_type": "display_data"
    }
   ],
   "source": [
    "# Histogram\n",
    "histogrammer('percent_sessions_in_last_month',\n",
    "             hue=df['label'],\n",
    "             multiple='layer',\n",
    "             median_text=False)"
   ]
  },
  {
   "cell_type": "markdown",
   "metadata": {
    "id": "5Hic_dLCGQP9"
   },
   "source": [
    "Controllo il valore mediano della variabile `n_days_after_onboarding`."
   ]
  },
  {
   "cell_type": "code",
   "execution_count": 43,
   "metadata": {
    "colab": {
     "base_uri": "https://localhost:8080/"
    },
    "executionInfo": {
     "elapsed": 10,
     "status": "ok",
     "timestamp": 1685473705992,
     "user": {
      "displayName": "Matteo Riotto",
      "userId": "15211004813978485634"
     },
     "user_tz": 420
    },
    "id": "RJUFCVanF9hy",
    "outputId": "bea551a3-b785-4cab-f043-233291ef3608"
   },
   "outputs": [
    {
     "data": {
      "text/plain": [
       "np.float64(1741.0)"
      ]
     },
     "execution_count": 43,
     "metadata": {},
     "output_type": "execute_result"
    }
   ],
   "source": [
    "df['n_days_after_onboarding'].median()"
   ]
  },
  {
   "cell_type": "markdown",
   "metadata": {
    "id": "mwvbv283GErN"
   },
   "source": [
    "Metà delle persone nel set di dati ha avuto il 40% o più delle proprie sessioni solo nell'ultimo mese, eppure il tempo mediano complessivo trascorso dall'onboarding è di quasi cinque anni.\n",
    "\n",
    "Creo un istogramma di `n_giorni_dopo_l'onboarding` solo per le persone che hanno avuto il 40% o più delle proprie sessioni totali nell'ultimo mese."
   ]
  },
  {
   "cell_type": "code",
   "execution_count": 45,
   "metadata": {
    "colab": {
     "base_uri": "https://localhost:8080/",
     "height": 333
    },
    "executionInfo": {
     "elapsed": 1036,
     "status": "ok",
     "timestamp": 1685473707023,
     "user": {
      "displayName": "Matteo Riotto",
      "userId": "15211004813978485634"
     },
     "user_tz": 420
    },
    "id": "npeWEDZBHBbc",
    "outputId": "dbfaefc2-19ff-4e4f-f588-7780f788bb51"
   },
   "outputs": [
    {
     "data": {
      "image/png": "[encoded data removed]",
      "text/plain": [
       "<Figure size 500x300 with 1 Axes>"
      ]
     },
     "metadata": {},
     "output_type": "display_data"
    }
   ],
   "source": [
    "# Histogram\n",
    "data = df.loc[df['percent_sessions_in_last_month']>=0.4]\n",
    "plt.figure(figsize=(5,3))\n",
    "sns.histplot(x=data['n_days_after_onboarding'])\n",
    "plt.title(\"Numero di giorni dopo l'onboarding per gli utenti con >=40% di sessioni nell'ultimo mese\");"
   ]
  },
  {
   "cell_type": "markdown",
   "metadata": {
    "id": "rcSyhjObIkO1"
   },
   "source": [
    "Il numero di giorni trascorsi dall'onboarding per gli utenti con il 40% o più delle loro sessioni totali avvenute solo nell'ultimo mese presenta una distribuzione uniforme. Questo è molto strano. Vale la pena chiedere a Waze perché così tanti utenti di lunga data abbiano improvvisamente utilizzato l'app così tanto nell'ultimo mese."
   ]
  },
  {
   "cell_type": "markdown",
   "metadata": {
    "id": "DCB53YobnpkU"
   },
   "source": [
    "### **Gestione dei valori anomali**\n",
    "\n",
    "I box plot della sezione precedente hanno indicato che molte di queste variabili presentano valori anomali. Questi valori anomali non sembrano essere errori di inserimento dati; sono presenti a causa delle distribuzioni asimmetriche a destra.\n",
    "\n",
    "A seconda dell'utilizzo che si intende fare di questi dati, potrebbe essere utile imputare ai dati anomali valori più ragionevoli. Un modo per eseguire questa imputazione è impostare una soglia basata su un percentile della distribuzione.\n",
    "\n",
    "Per mettere in pratica questa tecnica, userò una funzione che calcoli il 95° percentile di una determinata colonna, quindi imputi i valori > al 95° percentile con il valore al 95° percentile, come il 95° percentile della distribuzione.\n",
    "\n"
   ]
  },
  {
   "cell_type": "code",
   "execution_count": 48,
   "metadata": {
    "id": "UUDeeYydpJw0"
   },
   "outputs": [],
   "source": [
    "def outlier_imputer(column_name, percentile):\n",
    "    # Calcola la soglia\n",
    "    threshold = df[column_name].quantile(percentile)\n",
    "    # Soglia di imputazione per valori > soglia\n",
    "    df.loc[df[column_name] > threshold, column_name] = threshold\n",
    "\n",
    "    print('{:>25} | percentile: {} | imputazione: {}'.format(column_name, percentile, threshold))"
   ]
  },
  {
   "cell_type": "markdown",
   "metadata": {
    "id": "gc3GWhgZkfPA"
   },
   "source": [
    "Ora applico la funzione alle seguenti colonne:\n",
    "* `sessions`\n",
    "* `drives`\n",
    "* `total_sessions`\n",
    "* `driven_km_drives`\n",
    "* `duration_minutes_drives`"
   ]
  },
  {
   "cell_type": "code",
   "execution_count": 49,
   "metadata": {
    "colab": {
     "base_uri": "https://localhost:8080/"
    },
    "executionInfo": {
     "elapsed": 3,
     "status": "ok",
     "timestamp": 1685473708689,
     "user": {
      "displayName": "Matteo Riotto",
      "userId": "15211004813978485634"
     },
     "user_tz": 420
    },
    "id": "UDsqtEgb6Q4c",
    "outputId": "23b062c7-c235-43c5-9e5c-43c74f2d6feb"
   },
   "outputs": [
    {
     "name": "stdout",
     "output_type": "stream",
     "text": [
      "                 sessions | percentile: 0.95 | imputazione: 243.0\n",
      "                   drives | percentile: 0.95 | imputazione: 201.0\n",
      "           total_sessions | percentile: 0.95 | imputazione: 454.3632037399997\n",
      "         driven_km_drives | percentile: 0.95 | imputazione: 8889.7942356\n",
      "  duration_minutes_drives | percentile: 0.95 | imputazione: 4668.899348999998\n"
     ]
    }
   ],
   "source": [
    "for column in ['sessions', 'drives', 'total_sessions',\n",
    "               'driven_km_drives', 'duration_minutes_drives']:\n",
    "               outlier_imputer(column, 0.95)"
   ]
  },
  {
   "cell_type": "markdown",
   "metadata": {
    "id": "Ehh7UyQwrDxi"
   },
   "source": [
    "describe() per controllo"
   ]
  },
  {
   "cell_type": "code",
   "execution_count": 50,
   "metadata": {
    "colab": {
     "base_uri": "https://localhost:8080/",
     "height": 364
    },
    "executionInfo": {
     "elapsed": 327,
     "status": "ok",
     "timestamp": 1685473556916,
     "user": {
      "displayName": "Matteo Riotto",
      "userId": "15211004813978485634"
     },
     "user_tz": 420
    },
    "id": "yLwbk32AqlUv",
    "outputId": "4419873e-5c41-4c1f-9ac7-ca197facb045"
   },
   "outputs": [
    {
     "data": {
      "application/vnd.microsoft.datawrangler.viewer.v0+json": {
       "columns": [
        {
         "name": "index",
         "rawType": "object",
         "type": "string"
        },
        {
         "name": "ID",
         "rawType": "float64",
         "type": "float"
        },
        {
         "name": "sessions",
         "rawType": "float64",
         "type": "float"
        },
        {
         "name": "drives",
         "rawType": "float64",
         "type": "float"
        },
        {
         "name": "total_sessions",
         "rawType": "float64",
         "type": "float"
        },
        {
         "name": "n_days_after_onboarding",
         "rawType": "float64",
         "type": "float"
        },
        {
         "name": "total_navigations_fav1",
         "rawType": "float64",
         "type": "float"
        },
        {
         "name": "total_navigations_fav2",
         "rawType": "float64",
         "type": "float"
        },
        {
         "name": "driven_km_drives",
         "rawType": "float64",
         "type": "float"
        },
        {
         "name": "duration_minutes_drives",
         "rawType": "float64",
         "type": "float"
        },
        {
         "name": "activity_days",
         "rawType": "float64",
         "type": "float"
        },
        {
         "name": "driving_days",
         "rawType": "float64",
         "type": "float"
        },
        {
         "name": "km_per_driving_day",
         "rawType": "float64",
         "type": "float"
        },
        {
         "name": "percent_sessions_in_last_month",
         "rawType": "float64",
         "type": "float"
        }
       ],
       "ref": "a4760c02-e0d7-4bfa-9936-c9368746c59c",
       "rows": [
        [
         "count",
         "14999.0",
         "14999.0",
         "14999.0",
         "14999.0",
         "14999.0",
         "14999.0",
         "14999.0",
         "14999.0",
         "14999.0",
         "14999.0",
         "14999.0",
         "14999.0",
         "14999.0"
        ],
        [
         "mean",
         "7499.0",
         "76.56870458030535",
         "64.05820388025869",
         "184.03132023546087",
         "1749.8377891859457",
         "121.60597373158211",
         "29.672511500766717",
         "3939.632763521272",
         "1789.647426116595",
         "15.537102473498233",
         "12.179878658577238",
         "578.9631134118423",
         "0.4492553378171563"
        ],
        [
         "std",
         "4329.98267894919",
         "67.29795785915748",
         "55.30692415947723",
         "118.60046256024378",
         "1008.5138761173205",
         "148.1215436250751",
         "45.39465073120531",
         "2216.0415103771866",
         "1222.7051669400441",
         "9.004655351944397",
         "7.824036121515204",
         "1030.0943842273302",
         "0.28691862899063414"
        ],
        [
         "min",
         "0.0",
         "0.0",
         "0.0",
         "0.2202109438",
         "4.0",
         "0.0",
         "0.0",
         "60.44125046",
         "18.28208247",
         "0.0",
         "0.0",
         "0.0",
         "0.0"
        ],
        [
         "25%",
         "3749.5",
         "23.0",
         "20.0",
         "90.66115631",
         "878.0",
         "9.0",
         "0.0",
         "2212.6006065",
         "835.9962599",
         "8.0",
         "5.0",
         "136.23889535833334",
         "0.19622144855766221"
        ],
        [
         "50%",
         "7499.0",
         "56.0",
         "48.0",
         "159.5681147",
         "1741.0",
         "71.0",
         "9.0",
         "3493.858085",
         "1478.249859",
         "16.0",
         "12.0",
         "272.8892720869565",
         "0.42309702992763176"
        ],
        [
         "75%",
         "11248.5",
         "112.0",
         "93.0",
         "254.19234075",
         "2623.5",
         "178.0",
         "43.0",
         "5289.861262",
         "2464.3626320000003",
         "23.0",
         "19.0",
         "558.6869182124999",
         "0.6872162563784856"
        ],
        [
         "max",
         "14998.0",
         "243.0",
         "201.0",
         "454.3632037399997",
         "3500.0",
         "1236.0",
         "415.0",
         "8889.7942356",
         "4668.899348999998",
         "31.0",
         "30.0",
         "15420.23411",
         "1.5306370651931895"
        ]
       ],
       "shape": {
        "columns": 13,
        "rows": 8
       }
      },
      "text/html": [
       "<div>\n",
       "<style scoped>\n",
       "    .dataframe tbody tr th:only-of-type {\n",
       "        vertical-align: middle;\n",
       "    }\n",
       "\n",
       "    .dataframe tbody tr th {\n",
       "        vertical-align: top;\n",
       "    }\n",
       "\n",
       "    .dataframe thead th {\n",
       "        text-align: right;\n",
       "    }\n",
       "</style>\n",
       "<table border=\"1\" class=\"dataframe\">\n",
       "  <thead>\n",
       "    <tr style=\"text-align: right;\">\n",
       "      <th></th>\n",
       "      <th>ID</th>\n",
       "      <th>sessions</th>\n",
       "      <th>drives</th>\n",
       "      <th>total_sessions</th>\n",
       "      <th>n_days_after_onboarding</th>\n",
       "      <th>total_navigations_fav1</th>\n",
       "      <th>total_navigations_fav2</th>\n",
       "      <th>driven_km_drives</th>\n",
       "      <th>duration_minutes_drives</th>\n",
       "      <th>activity_days</th>\n",
       "      <th>driving_days</th>\n",
       "      <th>km_per_driving_day</th>\n",
       "      <th>percent_sessions_in_last_month</th>\n",
       "    </tr>\n",
       "  </thead>\n",
       "  <tbody>\n",
       "    <tr>\n",
       "      <th>count</th>\n",
       "      <td>14999.000000</td>\n",
       "      <td>14999.000000</td>\n",
       "      <td>14999.000000</td>\n",
       "      <td>14999.000000</td>\n",
       "      <td>14999.000000</td>\n",
       "      <td>14999.000000</td>\n",
       "      <td>14999.000000</td>\n",
       "      <td>14999.000000</td>\n",
       "      <td>14999.000000</td>\n",
       "      <td>14999.000000</td>\n",
       "      <td>14999.000000</td>\n",
       "      <td>14999.000000</td>\n",
       "      <td>14999.000000</td>\n",
       "    </tr>\n",
       "    <tr>\n",
       "      <th>mean</th>\n",
       "      <td>7499.000000</td>\n",
       "      <td>76.568705</td>\n",
       "      <td>64.058204</td>\n",
       "      <td>184.031320</td>\n",
       "      <td>1749.837789</td>\n",
       "      <td>121.605974</td>\n",
       "      <td>29.672512</td>\n",
       "      <td>3939.632764</td>\n",
       "      <td>1789.647426</td>\n",
       "      <td>15.537102</td>\n",
       "      <td>12.179879</td>\n",
       "      <td>578.963113</td>\n",
       "      <td>0.449255</td>\n",
       "    </tr>\n",
       "    <tr>\n",
       "      <th>std</th>\n",
       "      <td>4329.982679</td>\n",
       "      <td>67.297958</td>\n",
       "      <td>55.306924</td>\n",
       "      <td>118.600463</td>\n",
       "      <td>1008.513876</td>\n",
       "      <td>148.121544</td>\n",
       "      <td>45.394651</td>\n",
       "      <td>2216.041510</td>\n",
       "      <td>1222.705167</td>\n",
       "      <td>9.004655</td>\n",
       "      <td>7.824036</td>\n",
       "      <td>1030.094384</td>\n",
       "      <td>0.286919</td>\n",
       "    </tr>\n",
       "    <tr>\n",
       "      <th>min</th>\n",
       "      <td>0.000000</td>\n",
       "      <td>0.000000</td>\n",
       "      <td>0.000000</td>\n",
       "      <td>0.220211</td>\n",
       "      <td>4.000000</td>\n",
       "      <td>0.000000</td>\n",
       "      <td>0.000000</td>\n",
       "      <td>60.441250</td>\n",
       "      <td>18.282082</td>\n",
       "      <td>0.000000</td>\n",
       "      <td>0.000000</td>\n",
       "      <td>0.000000</td>\n",
       "      <td>0.000000</td>\n",
       "    </tr>\n",
       "    <tr>\n",
       "      <th>25%</th>\n",
       "      <td>3749.500000</td>\n",
       "      <td>23.000000</td>\n",
       "      <td>20.000000</td>\n",
       "      <td>90.661156</td>\n",
       "      <td>878.000000</td>\n",
       "      <td>9.000000</td>\n",
       "      <td>0.000000</td>\n",
       "      <td>2212.600607</td>\n",
       "      <td>835.996260</td>\n",
       "      <td>8.000000</td>\n",
       "      <td>5.000000</td>\n",
       "      <td>136.238895</td>\n",
       "      <td>0.196221</td>\n",
       "    </tr>\n",
       "    <tr>\n",
       "      <th>50%</th>\n",
       "      <td>7499.000000</td>\n",
       "      <td>56.000000</td>\n",
       "      <td>48.000000</td>\n",
       "      <td>159.568115</td>\n",
       "      <td>1741.000000</td>\n",
       "      <td>71.000000</td>\n",
       "      <td>9.000000</td>\n",
       "      <td>3493.858085</td>\n",
       "      <td>1478.249859</td>\n",
       "      <td>16.000000</td>\n",
       "      <td>12.000000</td>\n",
       "      <td>272.889272</td>\n",
       "      <td>0.423097</td>\n",
       "    </tr>\n",
       "    <tr>\n",
       "      <th>75%</th>\n",
       "      <td>11248.500000</td>\n",
       "      <td>112.000000</td>\n",
       "      <td>93.000000</td>\n",
       "      <td>254.192341</td>\n",
       "      <td>2623.500000</td>\n",
       "      <td>178.000000</td>\n",
       "      <td>43.000000</td>\n",
       "      <td>5289.861262</td>\n",
       "      <td>2464.362632</td>\n",
       "      <td>23.000000</td>\n",
       "      <td>19.000000</td>\n",
       "      <td>558.686918</td>\n",
       "      <td>0.687216</td>\n",
       "    </tr>\n",
       "    <tr>\n",
       "      <th>max</th>\n",
       "      <td>14998.000000</td>\n",
       "      <td>243.000000</td>\n",
       "      <td>201.000000</td>\n",
       "      <td>454.363204</td>\n",
       "      <td>3500.000000</td>\n",
       "      <td>1236.000000</td>\n",
       "      <td>415.000000</td>\n",
       "      <td>8889.794236</td>\n",
       "      <td>4668.899349</td>\n",
       "      <td>31.000000</td>\n",
       "      <td>30.000000</td>\n",
       "      <td>15420.234110</td>\n",
       "      <td>1.530637</td>\n",
       "    </tr>\n",
       "  </tbody>\n",
       "</table>\n",
       "</div>"
      ],
      "text/plain": [
       "                 ID      sessions        drives  total_sessions  \\\n",
       "count  14999.000000  14999.000000  14999.000000    14999.000000   \n",
       "mean    7499.000000     76.568705     64.058204      184.031320   \n",
       "std     4329.982679     67.297958     55.306924      118.600463   \n",
       "min        0.000000      0.000000      0.000000        0.220211   \n",
       "25%     3749.500000     23.000000     20.000000       90.661156   \n",
       "50%     7499.000000     56.000000     48.000000      159.568115   \n",
       "75%    11248.500000    112.000000     93.000000      254.192341   \n",
       "max    14998.000000    243.000000    201.000000      454.363204   \n",
       "\n",
       "       n_days_after_onboarding  total_navigations_fav1  \\\n",
       "count             14999.000000            14999.000000   \n",
       "mean               1749.837789              121.605974   \n",
       "std                1008.513876              148.121544   \n",
       "min                   4.000000                0.000000   \n",
       "25%                 878.000000                9.000000   \n",
       "50%                1741.000000               71.000000   \n",
       "75%                2623.500000              178.000000   \n",
       "max                3500.000000             1236.000000   \n",
       "\n",
       "       total_navigations_fav2  driven_km_drives  duration_minutes_drives  \\\n",
       "count            14999.000000      14999.000000             14999.000000   \n",
       "mean                29.672512       3939.632764              1789.647426   \n",
       "std                 45.394651       2216.041510              1222.705167   \n",
       "min                  0.000000         60.441250                18.282082   \n",
       "25%                  0.000000       2212.600607               835.996260   \n",
       "50%                  9.000000       3493.858085              1478.249859   \n",
       "75%                 43.000000       5289.861262              2464.362632   \n",
       "max                415.000000       8889.794236              4668.899349   \n",
       "\n",
       "       activity_days  driving_days  km_per_driving_day  \\\n",
       "count   14999.000000  14999.000000        14999.000000   \n",
       "mean       15.537102     12.179879          578.963113   \n",
       "std         9.004655      7.824036         1030.094384   \n",
       "min         0.000000      0.000000            0.000000   \n",
       "25%         8.000000      5.000000          136.238895   \n",
       "50%        16.000000     12.000000          272.889272   \n",
       "75%        23.000000     19.000000          558.686918   \n",
       "max        31.000000     30.000000        15420.234110   \n",
       "\n",
       "       percent_sessions_in_last_month  \n",
       "count                    14999.000000  \n",
       "mean                         0.449255  \n",
       "std                          0.286919  \n",
       "min                          0.000000  \n",
       "25%                          0.196221  \n",
       "50%                          0.423097  \n",
       "75%                          0.687216  \n",
       "max                          1.530637  "
      ]
     },
     "execution_count": 50,
     "metadata": {},
     "output_type": "execute_result"
    }
   ],
   "source": [
    "df.describe()"
   ]
  },
  {
   "cell_type": "markdown",
   "metadata": {
    "id": "StDODtD0BtzO"
   },
   "source": [
    "#### **Conclusione**\n",
    "\n",
    "L'analisi ha rivelato che il tasso di abbandono complessivo è di circa il 17% e che questo tasso è coerente tra gli utenti iPhone e quelli Android.\n",
    "\n",
    "Inoltre, l'EDA ha rivelato che gli utenti che percorrono lunghe distanze nei giorni in cui guidano hanno _maggiori_ probabilità di abbandono, mentre gli utenti che guidano più spesso hanno _meno_ probabilità di abbandono. Il motivo di questa discrepanza è un'opportunità per ulteriori indagini e sarebbe un altro argomento da chiedere al team dati di Waze."
   ]
  },
  {
   "cell_type": "markdown",
   "metadata": {
    "id": "pOp0vmf1zOHO"
   },
   "source": [
    "#### **Osservazioni**\n",
    "* Ci sono dati mancanti nell'etichetta di **abbandono degli utenti** (`user churn`), quindi potrebbe essere necessaria un'ulteriore elaborazione dei dati prima dell'analisi.\n",
    "* Ci sono molte osservazioni anomale per i **viaggi** (`drives`), quindi potremmo considerare una trasformazione delle variabili per stabilizzare la variazione.\n",
    "* Il numero di viaggi e il numero di sessioni sono entrambi fortemente correlati, quindi potrebbero fornire informazioni ridondanti se li includiamo entrambi in un modello.\n",
    "* In media, gli **utenti mantenuti** (`retained`) hanno meno viaggi degli **utenti che hanno abbandonato** (`churned`).\n",
    "\n",
    "Le mie altre domande sono...\n",
    "\n",
    "* Da cosa dipende la mancanza di dati nell'etichetta di abbandono degli utenti?\n",
    "* Chi sono gli utenti con un numero estremamente elevato di viaggi? Sono autisti di ridesharing o autisti commerciali?\n",
    "* Perché gli utenti mantenuti hanno meno viaggi degli utenti che hanno abbandonato? È forse perché gli utenti che hanno abbandonato hanno una cronologia di utilizzo di Waze più lunga?\n",
    "* Qual è il profilo demografico degli utenti mantenuti e degli utenti che hanno abbandonato?"
   ]
  },
  {
   "cell_type": "markdown",
   "metadata": {
    "id": "z2uKLfKhlJZ6"
   },
   "source": [
    "### **1. Distribuzione delle variabili**\n",
    "\n",
    "Quasi tutte le variabili mostrano una distribuzione fortemente asimmetrica a destra o una distribuzione uniforme.\n",
    "* **Distribuzione asimmetrica a destra**: indica che la maggior parte degli utenti ha valori bassi per quella variabile.\n",
    "* **Distribuzione uniforme**: indica che la probabilità di trovare un utente con un valore in qualsiasi punto del range è più o meno uguale.\n",
    "\n",
    "### **2. Problemi o anomalie nei dati**\n",
    "\n",
    "I dati non presentano problemi gravi, e nessuna singola variabile sembra del tutto errata. Tuttavia, sono state riscontrate diverse anomalie:\n",
    "* **Valori anomali**: variabili come `driven_km_drives` contengono valori altamente improbabili.\n",
    "* **Variabili mensili**: `activity_days` ha un valore massimo di 31, mentre `driving_days` ha un massimo di 30. Questo suggerisce che i dati potrebbero non essere stati raccolti nello stesso mese per entrambe le variabili, il che potrebbe essere problematico per l'analisi.\n",
    "\n",
    "### **3. Domande per il team di Waze**\n",
    "\n",
    "L'indagine ha sollevato alcune domande che meritano un approfondimento:\n",
    "* **Conferma della raccolta dati**: è necessario chiedere al team se le variabili mensili sono state raccolte nello stesso periodo, dato il differente numero massimo di giorni.\n",
    "* **Cambiamenti nell'uso dell'app**: è importante capire perché molti utenti di lunga data hanno iniziato a usare l'app così intensamente nell'ultimo mese. Ci sono stati cambiamenti recenti che potrebbero spiegare questo comportamento?\n",
    "\n",
    "### **4. Tasso di abbandono e mantenimento degli utenti**\n",
    "\n",
    "* **Utenti che hanno abbandonato**: meno del 18%.\n",
    "* **Utenti mantenuti**: circa l'82%.\n",
    "\n",
    "### **5. Fattori correlati all'abbandono degli utenti**\n",
    "\n",
    "* **Distanza percorsa per giorno di guida (`distance driven per driving day`)**: c'è una correlazione positiva. Più un utente percorre in un singolo giorno di guida, maggiore è la probabilità che abbandoni l'app.\n",
    "* **Numero di giorni di guida (`number of driving days`)**: c'è una correlazione negativa. Gli utenti che hanno guidato per più giorni nell'ultimo mese hanno una minore probabilità di abbandonare.\n",
    "\n",
    "### **6. Rappresentatività degli utenti**\n",
    "\n",
    "Nel dataset, gli utenti più recenti non sono più rappresentati di quelli meno recenti . L'istogramma per la variabile `n_days_after_onboarding` mostra una distribuzione uniforme, il che indica che utenti di tutte le anzianità (da nuovi a circa 10 anni) sono distribuiti in modo relativamente equilibrato."
   ]
  }
 ],
 "metadata": {
  "colab": {
   "provenance": [
    {
     "file_id": "1XxHA7Hd36YrYojrwOqyyOwOqzdfvOsZy",
     "timestamp": 1671052150003
    },
    {
     "file_id": "1y_9vAHPuwnA8Kmbw8rzKTHoWxLUcyJM-",
     "timestamp": 1668985233529
    }
   ],
   "toc_visible": true
  },
  "kernelspec": {
   "display_name": "pydata-book",
   "language": "python",
   "name": "python3"
  },
  "language_info": {
   "codemirror_mode": {
    "name": "ipython",
    "version": 3
   },
   "file_extension": ".py",
   "mimetype": "text/x-python",
   "name": "python",
   "nbconvert_exporter": "python",
   "pygments_lexer": "ipython3",
   "version": "3.10.18"
  }
 },
 "nbformat": 4,
 "nbformat_minor": 1
}
