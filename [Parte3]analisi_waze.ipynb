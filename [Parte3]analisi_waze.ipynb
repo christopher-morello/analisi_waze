{
 "cells": [
  {
   "cell_type": "markdown",
   "metadata": {
    "id": "DtNBZFHO3M7n"
   },
   "source": [
    "# **Progetto Waze III**"
   ]
  },
  {
   "cell_type": "markdown",
   "metadata": {
    "id": "WVeXS7BNzX6e"
   },
   "source": [
    "Nella analisi precedenti ho utilizzato Python per esplorare e analizzare i dati degli utenti di Waze e per creare visualizzazioni dei dati. \n",
    "\n",
    "Il passo successivo sarà utilizzare metodi statistici per analizzare e interpretare i dati.\n",
    "\n",
    "In particolare, desidero sapere se esiste una differenza statisticamente significativa nel numero medio di corse tra gli utenti iPhone e gli utenti Android.\n",
    "\n",
    "Per far questo devo condurre un test di ipotesi a due campioni (t-test) per analizzare la differenza nel numero medio di corse tra gli utenti iPhone e gli utenti Android."
   ]
  },
  {
   "cell_type": "markdown",
   "metadata": {
    "id": "rgSbVJvomcVa"
   },
   "source": [
    "# **Esplorazione dei dati e test d'ipotesi**\n",
    "\n",
    "**Lo scopo** di questo progetto è dimostrare di saper condurre un test di ipotesi a due campioni.\n",
    "\n",
    "**L'obiettivo** è applicare la statistica descrittiva e il test di ipotesi in Python.\n",
    "\n",
    "\n",
    "*Questa attività si compone di tre parti:*\n",
    "\n",
    "**Parte 1:** Importazione e caricamento dei dati\n",
    "\n",
    "**Parte 2:** Condurre il test di ipotesi\n",
    "\n",
    "**Parte 3:** Comunicare le informazioni con gli stakeholder\n",
    "\n"
   ]
  },
  {
   "cell_type": "markdown",
   "metadata": {
    "id": "F6_h60RuXQIz"
   },
   "source": [
    "#### **Domanda di ricerca:**\n",
    "\n",
    "Gli automobilisti che aprono l'applicazione tramite iPhone effettuano in media lo stesso numero di viaggi degli automobilisti che utilizzano dispositivi Android?"
   ]
  },
  {
   "cell_type": "markdown",
   "metadata": {
    "id": "xgQEdIN7f1Jq"
   },
   "source": [
    "### **Task 1. Importazione pacchetti e dati**"
   ]
  },
  {
   "cell_type": "markdown",
   "metadata": {
    "id": "ehehvUzFj0-e"
   },
   "source": [
    "Importazione pacchetti e librerie necessari per calcolare statistiche descrittive ed eseguire un test di ipotesi."
   ]
  },
  {
   "cell_type": "code",
   "execution_count": 2,
   "metadata": {
    "id": "1Q-GL2UrgWWG"
   },
   "outputs": [],
   "source": [
    "import pandas as pd\n",
    "from scipy import stats"
   ]
  },
  {
   "cell_type": "markdown",
   "metadata": {
    "id": "stMe9uT3kOmF"
   },
   "source": [
    "Importazione dataset.\n"
   ]
  },
  {
   "cell_type": "code",
   "execution_count": 4,
   "metadata": {
    "id": "2qAt6Upaeg6U"
   },
   "outputs": [],
   "source": [
    "df = pd.read_csv('waze_dataset.csv')"
   ]
  },
  {
   "cell_type": "markdown",
   "metadata": {
    "id": "UKhYTdVhf5B2"
   },
   "source": [
    "### **Esplorazione dei dati**\n"
   ]
  },
  {
   "cell_type": "markdown",
   "metadata": {
    "id": "JAq7ag0pTNgl"
   },
   "source": [
    "**Nota:** Nel set di dati, `device` è una variabile categoriale con le etichette `iPhone` e `Android`.\n",
    "\n",
    "Per eseguire questa analisi, è necessario trasformare ciascuna etichetta in un numero intero. Il codice seguente assegna `1` a un utente `iPhone` e `2` a `Android`. Assegna nuovamente questa etichetta alla variabile `device_type`.\n",
    "\n",
    "**Nota:** Creare una nuova variabile è l'ideale per non sovrascrivere i dati originali.\n",
    "\n"
   ]
  },
  {
   "cell_type": "markdown",
   "metadata": {
    "id": "n3_h-Gt-g7Vc"
   },
   "source": [
    "### Procedimento\n",
    "1. Creo un dizionario chiamato `map_dictionary` che contenga le etichette di classe (`'Android'` e `'iPhone'`) per le chiavi e i valori in cui vogio convertirle (`2` e `1`) come valori.\n",
    "\n",
    "2. Creo una nuova colonna chiamata `device_type` che sia una copia della colonna `device`.\n",
    "\n",
    "3. Utilizzo il metodo [`map()`] sulla serie `device_type` che passerà `map_dictionary` come argomento, riassegnando il risultato alla serie `device_type`.\n",
    "</br></br>\n"
   ]
  },
  {
   "cell_type": "code",
   "execution_count": 7,
   "metadata": {
    "colab": {
     "base_uri": "https://localhost:8080/"
    },
    "executionInfo": {
     "elapsed": 235,
     "status": "ok",
     "timestamp": 1685491918467,
     "user": {
      "displayName": "Matteo Riotto",
      "userId": "15211004813978485634"
     },
     "user_tz": 420
    },
    "id": "PFV0nIWyg4AQ",
    "outputId": "3f20be40-d7e6-4a5e-dbe2-fbef002aa259"
   },
   "outputs": [
    {
     "data": {
      "application/vnd.microsoft.datawrangler.viewer.v0+json": {
       "columns": [
        {
         "name": "index",
         "rawType": "int64",
         "type": "integer"
        },
        {
         "name": "device_type",
         "rawType": "int64",
         "type": "integer"
        }
       ],
       "ref": "06f05baa-10be-4d09-a75c-37e466395cc5",
       "rows": [
        [
         "0",
         "2"
        ],
        [
         "1",
         "1"
        ],
        [
         "2",
         "2"
        ],
        [
         "3",
         "1"
        ],
        [
         "4",
         "2"
        ]
       ],
       "shape": {
        "columns": 1,
        "rows": 5
       }
      },
      "text/plain": [
       "0    2\n",
       "1    1\n",
       "2    2\n",
       "3    1\n",
       "4    2\n",
       "Name: device_type, dtype: int64"
      ]
     },
     "execution_count": 7,
     "metadata": {},
     "output_type": "execute_result"
    }
   ],
   "source": [
    "# 1. Creazione `mappa dizionario`\n",
    "mappa_dizionario = {'Android': 2, 'iPhone': 1}\n",
    "\n",
    "# 2. Creazione colonna device_type\n",
    "df['device_type'] = df['device']\n",
    "\n",
    "# 3. Mappa la nuova colonna al dizionario\n",
    "df['device_type'] = df['device_type'].map(map_dictionary)\n",
    "\n",
    "df['device_type'].head()"
   ]
  },
  {
   "cell_type": "markdown",
   "metadata": {
    "id": "-fFiNg4hdGBK"
   },
   "source": [
    "Sono interessato alla relazione tra il tipo di dispositivo e il numero di unità. L'approccio consiste nell'osservare il numero medio di unità per ciascun tipo di dispositivo. \n",
    "\n",
    "\n",
    "Calcolo queste medie."
   ]
  },
  {
   "cell_type": "code",
   "execution_count": 8,
   "metadata": {
    "colab": {
     "base_uri": "https://localhost:8080/"
    },
    "executionInfo": {
     "elapsed": 254,
     "status": "ok",
     "timestamp": 1683577787174,
     "user": {
      "displayName": "Johnny Hong",
      "userId": "07434138067582511810"
     },
     "user_tz": 420
    },
    "id": "2LGEWrdVXgI2",
    "outputId": "9af851a4-835f-4276-9622-6de005bd756d"
   },
   "outputs": [
    {
     "data": {
      "application/vnd.microsoft.datawrangler.viewer.v0+json": {
       "columns": [
        {
         "name": "device_type",
         "rawType": "int64",
         "type": "integer"
        },
        {
         "name": "drives",
         "rawType": "float64",
         "type": "float"
        }
       ],
       "ref": "732de0ab-eb5a-4023-bd1d-f8f12d3bc3b8",
       "rows": [
        [
         "1",
         "67.85907775020678"
        ],
        [
         "2",
         "66.23183780739629"
        ]
       ],
       "shape": {
        "columns": 1,
        "rows": 2
       }
      },
      "text/plain": [
       "device_type\n",
       "1    67.859078\n",
       "2    66.231838\n",
       "Name: drives, dtype: float64"
      ]
     },
     "execution_count": 8,
     "metadata": {},
     "output_type": "execute_result"
    }
   ],
   "source": [
    "df.groupby('device_type')['drives'].mean()"
   ]
  },
  {
   "cell_type": "markdown",
   "metadata": {
    "id": "Z_u-zWvGdfII"
   },
   "source": [
    "In base alle medie mostrate, sembra che gli automobilisti che utilizzano un dispositivo iPhone per interagire con l'applicazione effettuino in media un numero maggiore di viaggi. Tuttavia, questa differenza potrebbe derivare da un campionamento casuale, piuttosto che da una reale differenza nel numero di viaggi. Per valutare se la differenza è statisticamente significativa, è possibile condurre un test di ipotesi."
   ]
  },
  {
   "cell_type": "markdown",
   "metadata": {
    "id": "QpFRQDaNzX6p"
   },
   "source": [
    "\n",
    "### **Test di ipotesi**"
   ]
  },
  {
   "cell_type": "markdown",
   "metadata": {
    "id": "7Mn5GJ460HUS"
   },
   "source": [
    "Il mio obiettivo è condurre un t-test a due campioni (indipendenti). \n",
    "\n",
    "1. Formulare l'ipotesi nulla e l'ipotesi alternativa\n",
    "2. Scegliere un livello di significatività\n",
    "3. Trovare il p-value\n",
    "4. Rifiutare o non rifiutare l'ipotesi nulla"
   ]
  },
  {
   "cell_type": "markdown",
   "metadata": {
    "id": "SkDeGggZYM84"
   },
   "source": [
    "**Ipotesi:**\n",
    "\n",
    "$H_0$: Non c'è differenza nel numero medio di viaggi tra gli automobilisti che utilizzano dispositivi iPhone e quelli che utilizzano dispositivi Android.\n",
    "\n",
    "$H_A$: C'è una differenza nel numero medio di viaggi tra gli automobilisti che utilizzano dispositivi iPhone e quelli che utilizzano dispositivi Android."
   ]
  },
  {
   "cell_type": "markdown",
   "metadata": {
    "id": "IVHpnfvNeTUA"
   },
   "source": [
    "Successivamente, scelgo il 5% come **livello di significatività** e procedi con un test t a due campioni, utilizzando la funzione `stats.ttest_ind()`.\n",
    "\n",
    "\n",
    "> **Nota tecnica**: Il valore predefinito per l'argomento `equal_var` in `stats.ttest_ind()` è `True`, che presuppone che le varianze della popolazione siano uguali. Questa ipotesi di uguale varianza potrebbe non essere valida nella pratica (ovvero, non c'è una ragione valida per supporre che i due gruppi abbiano la stessa varianza); posso allentare questa ipotesi impostando `equal_var` a `False`, e `stats.ttest_ind()` eseguirà il test t per varianze disuguali (noto come t test di Welch).\n",
    "\n",
    "1. Isolare la colonna \"unità\" per gli utenti iPhone.\n",
    "2. Isolare la colonna \"unità\" per gli utenti Android.\n",
    "3. Eseguire il t test."
   ]
  },
  {
   "cell_type": "code",
   "execution_count": 10,
   "metadata": {
    "colab": {
     "base_uri": "https://localhost:8080/"
    },
    "executionInfo": {
     "elapsed": 190,
     "status": "ok",
     "timestamp": 1683577790072,
     "user": {
      "displayName": "Johnny Hong",
      "userId": "07434138067582511810"
     },
     "user_tz": 420
    },
    "id": "rdlsXg7Dhbrd",
    "outputId": "2dfaa652-6d8f-48d5-880c-156b51698f34"
   },
   "outputs": [
    {
     "data": {
      "text/plain": [
       "TtestResult(statistic=np.float64(1.463523206885235), pvalue=np.float64(0.143351972680206), df=np.float64(11345.066049381952))"
      ]
     },
     "execution_count": 10,
     "metadata": {},
     "output_type": "execute_result"
    }
   ],
   "source": [
    "# 1. Isolo la colonna `drives` per gli utenti iPhone.\n",
    "iPhone = df[df['device_type'] == 1]['drives']\n",
    "\n",
    "# 2. Isolo la colonna `drives` per gli utenti Android.\n",
    "Android = df[df['device_type'] == 2]['drives']\n",
    "\n",
    "# 3. Calcolo il t test\n",
    "stats.ttest_ind(a=iPhone, b=Android, equal_var=False)"
   ]
  },
  {
   "cell_type": "markdown",
   "metadata": {
    "id": "4cx01KwnTwY7"
   },
   "source": [
    "Poiché il valore p è maggiore del livello di significatività scelto (5%), non rifiuto l'ipotesi nulla. \n",
    "\n",
    "In questo caso non c'è una differenza statisticamente significativa nel numero medio di viaggi tra i conducenti che utilizzano iPhone e quelli che utilizzano Android."
   ]
  },
  {
   "cell_type": "markdown",
   "metadata": {
    "id": "h1PRfiD3hcwE"
   },
   "source": [
    "### **Insight**"
   ]
  },
  {
   "cell_type": "markdown",
   "metadata": {
    "id": "ItreFaZKhvVw"
   },
   "source": [
    "> L'insight aziendale chiave è che gli automobilisti che utilizzano dispositivi iPhone effettuano in media un numero di viaggi simile a quello di coloro che utilizzano dispositivi Android.\n",
    "\n",
    "> *Un potenziale passo successivo è esplorare quali altri fattori influenzano la variazione del numero di viaggi ed eseguire ulteriori test delle ipotesi per saperne di più sul comportamento degli utenti. Inoltre, modifiche temporanee al marketing o all'interfaccia utente dell'app Waze potrebbero fornire ulteriori dati per analizzare il tasso di abbandono.*"
   ]
  }
 ],
 "metadata": {
  "colab": {
   "provenance": [
    {
     "file_id": "1su07KaK4RI6MI85tMf2H19qop9LcqqDy",
     "timestamp": 1671052190913
    },
    {
     "file_id": "1f5FzGbEQi1DvhHY8u-K32sklfpgir_pK",
     "timestamp": 1669589913543
    }
   ],
   "toc_visible": true
  },
  "kernelspec": {
   "display_name": "pydata-book",
   "language": "python",
   "name": "python3"
  },
  "language_info": {
   "codemirror_mode": {
    "name": "ipython",
    "version": 3
   },
   "file_extension": ".py",
   "mimetype": "text/x-python",
   "name": "python",
   "nbconvert_exporter": "python",
   "pygments_lexer": "ipython3",
   "version": "3.10.18"
  }
 },
 "nbformat": 4,
 "nbformat_minor": 1
}
