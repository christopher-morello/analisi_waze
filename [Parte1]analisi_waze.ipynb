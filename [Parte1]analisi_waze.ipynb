{
 "cells": [
  {
   "cell_type": "markdown",
   "metadata": {
    "id": "DtNBZFHO3M7n"
   },
   "source": [
    "# **Progetto Waze I**\n"
   ]
  },
  {
   "cell_type": "markdown",
   "metadata": {
    "id": "zJCatj3xzrQZ"
   },
   "source": [
    "L'obiettivo principale di quest'analisi **è comprendere le cause dell'abbandono degli utenti di Waze**.\n",
    "\n",
    "A partire da questo obiettivo generale, l'analisi si concentra su:\n",
    "\n",
    "- **Ispezionare e preparare i dati** degli utenti di Waze.\n",
    "\n",
    "- **Identificare i fattori chiave** che portano gli utenti a smettere di usare l'applicazione.\n",
    "\n",
    "- **Fornire un riassunto esecutivo** con le scoperte principali per il team."
   ]
  },
  {
   "cell_type": "markdown",
   "metadata": {
    "id": "rgSbVJvomcVa"
   },
   "source": [
    "# **Ispezionare e analizzare i dati**\n",
    "\n",
    "In questa attività, esaminererò i dati forniti e li preparerò per l'analisi. Questa attività contribuirà a garantire che le informazioni siano:\n",
    "\n",
    "1. Pronte a rispondere alle domande e a fornire spunti\n",
    "\n",
    "2. Pronte per le visualizzazioni\n",
    "\n",
    "3. Pronte per futuri test di ipotesi e metodi statistici\n",
    "<br/>\n",
    "\n",
    "**Lo scopo** di questo progetto è analizzare e comprendere i dati forniti.\n",
    "\n",
    "**L'obiettivo** è utilizzare un dataframe costruito in Python, eseguire un'ispezione superficiale del set di dati fornito e informare i membri del team dei risultati.\n",
    "<br/>\n",
    "\n",
    "*Questa attività si compone di tre parti:*\n",
    "\n",
    "**Parte 1:** Comprendere la situazione e organizzare le informazioni fornite.\n",
    "\n",
    "**Parte 2:** Comprendere i dati.\n",
    "* Creare un dataframe pandas per l'apprendimento dei dati, l'analisi esplorativa dei dati (EDA) e le attività statistiche future\n",
    "\n",
    "* Raccogliere informazioni di riepilogo sui dati per orientare i passaggi successivi\n",
    "\n",
    "**Parte 3:** Comprendere le variabili\n",
    "\n",
    "* Utilizzare le informazioni ottenute dall'analisi dei dati di riepilogo per guidare un'indagine più approfondita sulle variabili\n",
    "\n",
    "<br/>"
   ]
  },
  {
   "cell_type": "markdown",
   "metadata": {
    "id": "HjFGokxv2pc5"
   },
   "source": [
    "# **Identify data types and compile summary information**\n"
   ]
  },
  {
   "cell_type": "markdown",
   "metadata": {
    "id": "L6KgK-M8o3we"
   },
   "source": [
    "### **Importazioni e caricamento dei dati**\n",
    "\n",
    "\n",
    "\n",
    "\n",
    "\n",
    "\n",
    "\n",
    "\n",
    "\n",
    "\n",
    "\n",
    "\n",
    "\n",
    "\n"
   ]
  },
  {
   "cell_type": "markdown",
   "metadata": {
    "id": "D4WK_AxP_S__"
   },
   "source": [
    "Inizio importando i pacchetti che serviranno per caricare ed esplorare il dataset."
   ]
  },
  {
   "cell_type": "code",
   "execution_count": 3,
   "metadata": {
    "id": "OZSXM4q5zrQh"
   },
   "outputs": [],
   "source": [
    "# Importazione pacchetti per la manipolazione dei dati\n",
    "import pandas as pd\n",
    "import numpy as np"
   ]
  },
  {
   "cell_type": "markdown",
   "metadata": {
    "id": "5g0T3CiWUXoy"
   },
   "source": [
    "Quindi, carico il dataset in un dataframe. La creazione di un dataframe mi aiuterà a gestire la manipolazione dei dati, l'analisi esplorativa dei dati (EDA) e le attività statistiche.\n"
   ]
  },
  {
   "cell_type": "code",
   "execution_count": null,
   "metadata": {
    "id": "j_6A58jmUcUe"
   },
   "outputs": [],
   "source": [
    "# Caricamento dataset in un dataframe\n",
    "df = pd.read_csv('waze_dataset.csv')"
   ]
  },
  {
   "cell_type": "markdown",
   "metadata": {
    "id": "gYx1emvno7U_"
   },
   "source": [
    "### **Informazioni di riepilogo**\n",
    "\n",
    "Visualizzare e analizzare le informazioni di riepilogo sul dataframe **codificando quanto segue:**\n",
    "\n",
    "1. df.head(10)\n",
    "2. df.info()\n",
    "\n",
    "Queste funzioni mi aiuteranno a rispondere alle domande:\n",
    "\n",
    "1. ci sono variabili con valori mancanti?\n",
    "\n",
    "2. quali sono i tipi di dati? Quante righe e colonne?\n",
    "\n",
    "3. il dataset presenta valori mancanti?"
   ]
  },
  {
   "cell_type": "code",
   "execution_count": 5,
   "metadata": {
    "colab": {
     "base_uri": "https://localhost:8080/",
     "height": 427
    },
    "executionInfo": {
     "elapsed": 221,
     "status": "ok",
     "timestamp": 1685034750874,
     "user": {
      "displayName": "Matteo Riotto",
      "userId": "15211004813978485634"
     },
     "user_tz": 420
    },
    "id": "t7Nck2hh4R6J",
    "outputId": "49c0d9f1-cb94-4c98-e9a4-bd6bae6db277"
   },
   "outputs": [
    {
     "data": {
      "application/vnd.microsoft.datawrangler.viewer.v0+json": {
       "columns": [
        {
         "name": "index",
         "rawType": "int64",
         "type": "integer"
        },
        {
         "name": "ID",
         "rawType": "int64",
         "type": "integer"
        },
        {
         "name": "label",
         "rawType": "object",
         "type": "string"
        },
        {
         "name": "sessions",
         "rawType": "int64",
         "type": "integer"
        },
        {
         "name": "drives",
         "rawType": "int64",
         "type": "integer"
        },
        {
         "name": "total_sessions",
         "rawType": "float64",
         "type": "float"
        },
        {
         "name": "n_days_after_onboarding",
         "rawType": "int64",
         "type": "integer"
        },
        {
         "name": "total_navigations_fav1",
         "rawType": "int64",
         "type": "integer"
        },
        {
         "name": "total_navigations_fav2",
         "rawType": "int64",
         "type": "integer"
        },
        {
         "name": "driven_km_drives",
         "rawType": "float64",
         "type": "float"
        },
        {
         "name": "duration_minutes_drives",
         "rawType": "float64",
         "type": "float"
        },
        {
         "name": "activity_days",
         "rawType": "int64",
         "type": "integer"
        },
        {
         "name": "driving_days",
         "rawType": "int64",
         "type": "integer"
        },
        {
         "name": "device",
         "rawType": "object",
         "type": "string"
        }
       ],
       "ref": "2706a7d0-b21a-46ab-ad18-f825bcb6b85b",
       "rows": [
        [
         "0",
         "0",
         "retained",
         "283",
         "226",
         "296.7482729",
         "2276",
         "208",
         "0",
         "2628.845068",
         "1985.775061",
         "28",
         "19",
         "Android"
        ],
        [
         "1",
         "1",
         "retained",
         "133",
         "107",
         "326.8965962",
         "1225",
         "19",
         "64",
         "13715.92055",
         "3160.472914",
         "13",
         "11",
         "iPhone"
        ],
        [
         "2",
         "2",
         "retained",
         "114",
         "95",
         "135.5229263",
         "2651",
         "0",
         "0",
         "3059.148818",
         "1610.735904",
         "14",
         "8",
         "Android"
        ],
        [
         "3",
         "3",
         "retained",
         "49",
         "40",
         "67.58922127",
         "15",
         "322",
         "7",
         "913.5911231",
         "587.1965423",
         "7",
         "3",
         "iPhone"
        ],
        [
         "4",
         "4",
         "retained",
         "84",
         "68",
         "168.2470201",
         "1562",
         "166",
         "5",
         "3950.202008",
         "1219.555924",
         "27",
         "18",
         "Android"
        ],
        [
         "5",
         "5",
         "retained",
         "113",
         "103",
         "279.5444373",
         "2637",
         "0",
         "0",
         "901.2386985",
         "439.1013973",
         "15",
         "11",
         "iPhone"
        ],
        [
         "6",
         "6",
         "retained",
         "3",
         "2",
         "236.7253142",
         "360",
         "185",
         "18",
         "5249.172828",
         "726.5772047",
         "28",
         "23",
         "iPhone"
        ],
        [
         "7",
         "7",
         "retained",
         "39",
         "35",
         "176.0728446",
         "2999",
         "0",
         "0",
         "7892.052468",
         "2466.981741",
         "22",
         "20",
         "iPhone"
        ],
        [
         "8",
         "8",
         "retained",
         "57",
         "46",
         "183.5320177",
         "424",
         "0",
         "26",
         "2651.709764",
         "1594.342984",
         "25",
         "20",
         "Android"
        ],
        [
         "9",
         "9",
         "churned",
         "84",
         "68",
         "244.8021148",
         "2997",
         "72",
         "0",
         "6043.460295",
         "2341.838528",
         "7",
         "3",
         "iPhone"
        ]
       ],
       "shape": {
        "columns": 13,
        "rows": 10
       }
      },
      "text/html": [
       "<div>\n",
       "<style scoped>\n",
       "    .dataframe tbody tr th:only-of-type {\n",
       "        vertical-align: middle;\n",
       "    }\n",
       "\n",
       "    .dataframe tbody tr th {\n",
       "        vertical-align: top;\n",
       "    }\n",
       "\n",
       "    .dataframe thead th {\n",
       "        text-align: right;\n",
       "    }\n",
       "</style>\n",
       "<table border=\"1\" class=\"dataframe\">\n",
       "  <thead>\n",
       "    <tr style=\"text-align: right;\">\n",
       "      <th></th>\n",
       "      <th>ID</th>\n",
       "      <th>label</th>\n",
       "      <th>sessions</th>\n",
       "      <th>drives</th>\n",
       "      <th>total_sessions</th>\n",
       "      <th>n_days_after_onboarding</th>\n",
       "      <th>total_navigations_fav1</th>\n",
       "      <th>total_navigations_fav2</th>\n",
       "      <th>driven_km_drives</th>\n",
       "      <th>duration_minutes_drives</th>\n",
       "      <th>activity_days</th>\n",
       "      <th>driving_days</th>\n",
       "      <th>device</th>\n",
       "    </tr>\n",
       "  </thead>\n",
       "  <tbody>\n",
       "    <tr>\n",
       "      <th>0</th>\n",
       "      <td>0</td>\n",
       "      <td>retained</td>\n",
       "      <td>283</td>\n",
       "      <td>226</td>\n",
       "      <td>296.748273</td>\n",
       "      <td>2276</td>\n",
       "      <td>208</td>\n",
       "      <td>0</td>\n",
       "      <td>2628.845068</td>\n",
       "      <td>1985.775061</td>\n",
       "      <td>28</td>\n",
       "      <td>19</td>\n",
       "      <td>Android</td>\n",
       "    </tr>\n",
       "    <tr>\n",
       "      <th>1</th>\n",
       "      <td>1</td>\n",
       "      <td>retained</td>\n",
       "      <td>133</td>\n",
       "      <td>107</td>\n",
       "      <td>326.896596</td>\n",
       "      <td>1225</td>\n",
       "      <td>19</td>\n",
       "      <td>64</td>\n",
       "      <td>13715.920550</td>\n",
       "      <td>3160.472914</td>\n",
       "      <td>13</td>\n",
       "      <td>11</td>\n",
       "      <td>iPhone</td>\n",
       "    </tr>\n",
       "    <tr>\n",
       "      <th>2</th>\n",
       "      <td>2</td>\n",
       "      <td>retained</td>\n",
       "      <td>114</td>\n",
       "      <td>95</td>\n",
       "      <td>135.522926</td>\n",
       "      <td>2651</td>\n",
       "      <td>0</td>\n",
       "      <td>0</td>\n",
       "      <td>3059.148818</td>\n",
       "      <td>1610.735904</td>\n",
       "      <td>14</td>\n",
       "      <td>8</td>\n",
       "      <td>Android</td>\n",
       "    </tr>\n",
       "    <tr>\n",
       "      <th>3</th>\n",
       "      <td>3</td>\n",
       "      <td>retained</td>\n",
       "      <td>49</td>\n",
       "      <td>40</td>\n",
       "      <td>67.589221</td>\n",
       "      <td>15</td>\n",
       "      <td>322</td>\n",
       "      <td>7</td>\n",
       "      <td>913.591123</td>\n",
       "      <td>587.196542</td>\n",
       "      <td>7</td>\n",
       "      <td>3</td>\n",
       "      <td>iPhone</td>\n",
       "    </tr>\n",
       "    <tr>\n",
       "      <th>4</th>\n",
       "      <td>4</td>\n",
       "      <td>retained</td>\n",
       "      <td>84</td>\n",
       "      <td>68</td>\n",
       "      <td>168.247020</td>\n",
       "      <td>1562</td>\n",
       "      <td>166</td>\n",
       "      <td>5</td>\n",
       "      <td>3950.202008</td>\n",
       "      <td>1219.555924</td>\n",
       "      <td>27</td>\n",
       "      <td>18</td>\n",
       "      <td>Android</td>\n",
       "    </tr>\n",
       "    <tr>\n",
       "      <th>5</th>\n",
       "      <td>5</td>\n",
       "      <td>retained</td>\n",
       "      <td>113</td>\n",
       "      <td>103</td>\n",
       "      <td>279.544437</td>\n",
       "      <td>2637</td>\n",
       "      <td>0</td>\n",
       "      <td>0</td>\n",
       "      <td>901.238699</td>\n",
       "      <td>439.101397</td>\n",
       "      <td>15</td>\n",
       "      <td>11</td>\n",
       "      <td>iPhone</td>\n",
       "    </tr>\n",
       "    <tr>\n",
       "      <th>6</th>\n",
       "      <td>6</td>\n",
       "      <td>retained</td>\n",
       "      <td>3</td>\n",
       "      <td>2</td>\n",
       "      <td>236.725314</td>\n",
       "      <td>360</td>\n",
       "      <td>185</td>\n",
       "      <td>18</td>\n",
       "      <td>5249.172828</td>\n",
       "      <td>726.577205</td>\n",
       "      <td>28</td>\n",
       "      <td>23</td>\n",
       "      <td>iPhone</td>\n",
       "    </tr>\n",
       "    <tr>\n",
       "      <th>7</th>\n",
       "      <td>7</td>\n",
       "      <td>retained</td>\n",
       "      <td>39</td>\n",
       "      <td>35</td>\n",
       "      <td>176.072845</td>\n",
       "      <td>2999</td>\n",
       "      <td>0</td>\n",
       "      <td>0</td>\n",
       "      <td>7892.052468</td>\n",
       "      <td>2466.981741</td>\n",
       "      <td>22</td>\n",
       "      <td>20</td>\n",
       "      <td>iPhone</td>\n",
       "    </tr>\n",
       "    <tr>\n",
       "      <th>8</th>\n",
       "      <td>8</td>\n",
       "      <td>retained</td>\n",
       "      <td>57</td>\n",
       "      <td>46</td>\n",
       "      <td>183.532018</td>\n",
       "      <td>424</td>\n",
       "      <td>0</td>\n",
       "      <td>26</td>\n",
       "      <td>2651.709764</td>\n",
       "      <td>1594.342984</td>\n",
       "      <td>25</td>\n",
       "      <td>20</td>\n",
       "      <td>Android</td>\n",
       "    </tr>\n",
       "    <tr>\n",
       "      <th>9</th>\n",
       "      <td>9</td>\n",
       "      <td>churned</td>\n",
       "      <td>84</td>\n",
       "      <td>68</td>\n",
       "      <td>244.802115</td>\n",
       "      <td>2997</td>\n",
       "      <td>72</td>\n",
       "      <td>0</td>\n",
       "      <td>6043.460295</td>\n",
       "      <td>2341.838528</td>\n",
       "      <td>7</td>\n",
       "      <td>3</td>\n",
       "      <td>iPhone</td>\n",
       "    </tr>\n",
       "  </tbody>\n",
       "</table>\n",
       "</div>"
      ],
      "text/plain": [
       "   ID     label  sessions  drives  total_sessions  n_days_after_onboarding  \\\n",
       "0   0  retained       283     226      296.748273                     2276   \n",
       "1   1  retained       133     107      326.896596                     1225   \n",
       "2   2  retained       114      95      135.522926                     2651   \n",
       "3   3  retained        49      40       67.589221                       15   \n",
       "4   4  retained        84      68      168.247020                     1562   \n",
       "5   5  retained       113     103      279.544437                     2637   \n",
       "6   6  retained         3       2      236.725314                      360   \n",
       "7   7  retained        39      35      176.072845                     2999   \n",
       "8   8  retained        57      46      183.532018                      424   \n",
       "9   9   churned        84      68      244.802115                     2997   \n",
       "\n",
       "   total_navigations_fav1  total_navigations_fav2  driven_km_drives  \\\n",
       "0                     208                       0       2628.845068   \n",
       "1                      19                      64      13715.920550   \n",
       "2                       0                       0       3059.148818   \n",
       "3                     322                       7        913.591123   \n",
       "4                     166                       5       3950.202008   \n",
       "5                       0                       0        901.238699   \n",
       "6                     185                      18       5249.172828   \n",
       "7                       0                       0       7892.052468   \n",
       "8                       0                      26       2651.709764   \n",
       "9                      72                       0       6043.460295   \n",
       "\n",
       "   duration_minutes_drives  activity_days  driving_days   device  \n",
       "0              1985.775061             28            19  Android  \n",
       "1              3160.472914             13            11   iPhone  \n",
       "2              1610.735904             14             8  Android  \n",
       "3               587.196542              7             3   iPhone  \n",
       "4              1219.555924             27            18  Android  \n",
       "5               439.101397             15            11   iPhone  \n",
       "6               726.577205             28            23   iPhone  \n",
       "7              2466.981741             22            20   iPhone  \n",
       "8              1594.342984             25            20  Android  \n",
       "9              2341.838528              7             3   iPhone  "
      ]
     },
     "execution_count": 5,
     "metadata": {},
     "output_type": "execute_result"
    }
   ],
   "source": [
    "df.head(10)"
   ]
  },
  {
   "cell_type": "code",
   "execution_count": 6,
   "metadata": {
    "colab": {
     "base_uri": "https://localhost:8080/"
    },
    "executionInfo": {
     "elapsed": 209,
     "status": "ok",
     "timestamp": 1685034752874,
     "user": {
      "displayName": "Matteo Riotto",
      "userId": "15211004813978485634"
     },
     "user_tz": 420
    },
    "id": "3NctoTSAvGGD",
    "outputId": "36111198-602a-4573-8534-360300c68110"
   },
   "outputs": [
    {
     "name": "stdout",
     "output_type": "stream",
     "text": [
      "<class 'pandas.core.frame.DataFrame'>\n",
      "RangeIndex: 14999 entries, 0 to 14998\n",
      "Data columns (total 13 columns):\n",
      " #   Column                   Non-Null Count  Dtype  \n",
      "---  ------                   --------------  -----  \n",
      " 0   ID                       14999 non-null  int64  \n",
      " 1   label                    14299 non-null  object \n",
      " 2   sessions                 14999 non-null  int64  \n",
      " 3   drives                   14999 non-null  int64  \n",
      " 4   total_sessions           14999 non-null  float64\n",
      " 5   n_days_after_onboarding  14999 non-null  int64  \n",
      " 6   total_navigations_fav1   14999 non-null  int64  \n",
      " 7   total_navigations_fav2   14999 non-null  int64  \n",
      " 8   driven_km_drives         14999 non-null  float64\n",
      " 9   duration_minutes_drives  14999 non-null  float64\n",
      " 10  activity_days            14999 non-null  int64  \n",
      " 11  driving_days             14999 non-null  int64  \n",
      " 12  device                   14999 non-null  object \n",
      "dtypes: float64(3), int64(8), object(2)\n",
      "memory usage: 1.5+ MB\n"
     ]
    }
   ],
   "source": [
    "df.info()"
   ]
  },
  {
   "cell_type": "markdown",
   "metadata": {
    "id": "2OzRDedlZGxc"
   },
   "source": [
    "**Risposte:**\n",
    "\n",
    "1. Nessuna delle variabili nelle prime 10 osservazioni presenta valori mancanti.\n",
    "\n",
    "2. Le variabili `label` e `device` sono di tipo `object`; `total_sessions`, `driven_km_drives` e `duration_minutes_drives` sono di tipo `float64`; le restanti variabili sono di tipo `int64`. Ci sono 14.999 righe e 13 colonne.\n",
    "\n",
    "3. Il set di dati presenta 700 valori mancanti nella colonna `label`."
   ]
  },
  {
   "cell_type": "markdown",
   "metadata": {
    "id": "_eiKigmb3cDh"
   },
   "source": [
    "### **Valori nulli e statistiche riassuntive**\n",
    "\n",
    "Confronto le statistiche riassuntive delle 700 righe in cui mancano labels con le statistiche riassuntive delle righe in cui non mancano valori.\n",
    "\n",
    "**Domanda:** C'è una differenza percepibile tra le due popolazioni?"
   ]
  },
  {
   "cell_type": "code",
   "execution_count": null,
   "metadata": {
    "colab": {
     "base_uri": "https://localhost:8080/",
     "height": 364
    },
    "executionInfo": {
     "elapsed": 7,
     "status": "ok",
     "timestamp": 1685036668953,
     "user": {
      "displayName": "Matteo Riotto",
      "userId": "15211004813978485634"
     },
     "user_tz": 420
    },
    "id": "23pMaTd-8bqj",
    "outputId": "3c399498-4a5f-4303-e5d7-9a844e2debb0"
   },
   "outputs": [
    {
     "data": {
      "application/vnd.microsoft.datawrangler.viewer.v0+json": {
       "columns": [
        {
         "name": "index",
         "rawType": "object",
         "type": "string"
        },
        {
         "name": "ID",
         "rawType": "float64",
         "type": "float"
        },
        {
         "name": "sessions",
         "rawType": "float64",
         "type": "float"
        },
        {
         "name": "drives",
         "rawType": "float64",
         "type": "float"
        },
        {
         "name": "total_sessions",
         "rawType": "float64",
         "type": "float"
        },
        {
         "name": "n_days_after_onboarding",
         "rawType": "float64",
         "type": "float"
        },
        {
         "name": "total_navigations_fav1",
         "rawType": "float64",
         "type": "float"
        },
        {
         "name": "total_navigations_fav2",
         "rawType": "float64",
         "type": "float"
        },
        {
         "name": "driven_km_drives",
         "rawType": "float64",
         "type": "float"
        },
        {
         "name": "duration_minutes_drives",
         "rawType": "float64",
         "type": "float"
        },
        {
         "name": "activity_days",
         "rawType": "float64",
         "type": "float"
        },
        {
         "name": "driving_days",
         "rawType": "float64",
         "type": "float"
        }
       ],
       "ref": "4f636a8a-6459-4f26-b430-3a397db4e279",
       "rows": [
        [
         "count",
         "700.0",
         "700.0",
         "700.0",
         "700.0",
         "700.0",
         "700.0",
         "700.0",
         "700.0",
         "700.0",
         "700.0",
         "700.0"
        ],
        [
         "mean",
         "7405.584285714286",
         "80.83714285714285",
         "67.79857142857144",
         "198.48334790015",
         "1709.2957142857142",
         "118.71714285714286",
         "30.37142857142857",
         "3935.9670287487143",
         "1795.1233577937574",
         "15.382857142857143",
         "12.125714285714286"
        ],
        [
         "std",
         "4306.900233952217",
         "79.98744030777317",
         "65.27192595912932",
         "140.56171465368314",
         "1005.3065623917417",
         "156.3081399438687",
         "46.30698443738749",
         "2443.1071205106214",
         "1419.2422456058082",
         "8.77271376750179",
         "7.626373292018237"
        ],
        [
         "min",
         "77.0",
         "0.0",
         "0.0",
         "5.582648005",
         "16.0",
         "0.0",
         "0.0",
         "290.1198107",
         "66.58849334",
         "0.0",
         "0.0"
        ],
        [
         "25%",
         "3744.5",
         "23.0",
         "20.0",
         "94.05634032",
         "869.0",
         "4.0",
         "0.0",
         "2119.34481825",
         "779.009271275",
         "8.0",
         "6.0"
        ],
        [
         "50%",
         "7443.0",
         "56.0",
         "47.5",
         "177.25592484999999",
         "1650.5",
         "62.5",
         "10.0",
         "3421.1567205",
         "1414.9662785",
         "15.0",
         "12.0"
        ],
        [
         "75%",
         "11007.0",
         "112.25",
         "94.0",
         "266.058021575",
         "2508.75",
         "169.25",
         "43.0",
         "5166.0973727499995",
         "2443.95540425",
         "23.0",
         "18.0"
        ],
        [
         "max",
         "14993.0",
         "556.0",
         "445.0",
         "1076.879741",
         "3498.0",
         "1096.0",
         "352.0",
         "15135.39128",
         "9746.253023",
         "31.0",
         "30.0"
        ]
       ],
       "shape": {
        "columns": 11,
        "rows": 8
       }
      },
      "text/html": [
       "<div>\n",
       "<style scoped>\n",
       "    .dataframe tbody tr th:only-of-type {\n",
       "        vertical-align: middle;\n",
       "    }\n",
       "\n",
       "    .dataframe tbody tr th {\n",
       "        vertical-align: top;\n",
       "    }\n",
       "\n",
       "    .dataframe thead th {\n",
       "        text-align: right;\n",
       "    }\n",
       "</style>\n",
       "<table border=\"1\" class=\"dataframe\">\n",
       "  <thead>\n",
       "    <tr style=\"text-align: right;\">\n",
       "      <th></th>\n",
       "      <th>ID</th>\n",
       "      <th>sessions</th>\n",
       "      <th>drives</th>\n",
       "      <th>total_sessions</th>\n",
       "      <th>n_days_after_onboarding</th>\n",
       "      <th>total_navigations_fav1</th>\n",
       "      <th>total_navigations_fav2</th>\n",
       "      <th>driven_km_drives</th>\n",
       "      <th>duration_minutes_drives</th>\n",
       "      <th>activity_days</th>\n",
       "      <th>driving_days</th>\n",
       "    </tr>\n",
       "  </thead>\n",
       "  <tbody>\n",
       "    <tr>\n",
       "      <th>count</th>\n",
       "      <td>700.000000</td>\n",
       "      <td>700.000000</td>\n",
       "      <td>700.000000</td>\n",
       "      <td>700.000000</td>\n",
       "      <td>700.000000</td>\n",
       "      <td>700.000000</td>\n",
       "      <td>700.000000</td>\n",
       "      <td>700.000000</td>\n",
       "      <td>700.000000</td>\n",
       "      <td>700.000000</td>\n",
       "      <td>700.000000</td>\n",
       "    </tr>\n",
       "    <tr>\n",
       "      <th>mean</th>\n",
       "      <td>7405.584286</td>\n",
       "      <td>80.837143</td>\n",
       "      <td>67.798571</td>\n",
       "      <td>198.483348</td>\n",
       "      <td>1709.295714</td>\n",
       "      <td>118.717143</td>\n",
       "      <td>30.371429</td>\n",
       "      <td>3935.967029</td>\n",
       "      <td>1795.123358</td>\n",
       "      <td>15.382857</td>\n",
       "      <td>12.125714</td>\n",
       "    </tr>\n",
       "    <tr>\n",
       "      <th>std</th>\n",
       "      <td>4306.900234</td>\n",
       "      <td>79.987440</td>\n",
       "      <td>65.271926</td>\n",
       "      <td>140.561715</td>\n",
       "      <td>1005.306562</td>\n",
       "      <td>156.308140</td>\n",
       "      <td>46.306984</td>\n",
       "      <td>2443.107121</td>\n",
       "      <td>1419.242246</td>\n",
       "      <td>8.772714</td>\n",
       "      <td>7.626373</td>\n",
       "    </tr>\n",
       "    <tr>\n",
       "      <th>min</th>\n",
       "      <td>77.000000</td>\n",
       "      <td>0.000000</td>\n",
       "      <td>0.000000</td>\n",
       "      <td>5.582648</td>\n",
       "      <td>16.000000</td>\n",
       "      <td>0.000000</td>\n",
       "      <td>0.000000</td>\n",
       "      <td>290.119811</td>\n",
       "      <td>66.588493</td>\n",
       "      <td>0.000000</td>\n",
       "      <td>0.000000</td>\n",
       "    </tr>\n",
       "    <tr>\n",
       "      <th>25%</th>\n",
       "      <td>3744.500000</td>\n",
       "      <td>23.000000</td>\n",
       "      <td>20.000000</td>\n",
       "      <td>94.056340</td>\n",
       "      <td>869.000000</td>\n",
       "      <td>4.000000</td>\n",
       "      <td>0.000000</td>\n",
       "      <td>2119.344818</td>\n",
       "      <td>779.009271</td>\n",
       "      <td>8.000000</td>\n",
       "      <td>6.000000</td>\n",
       "    </tr>\n",
       "    <tr>\n",
       "      <th>50%</th>\n",
       "      <td>7443.000000</td>\n",
       "      <td>56.000000</td>\n",
       "      <td>47.500000</td>\n",
       "      <td>177.255925</td>\n",
       "      <td>1650.500000</td>\n",
       "      <td>62.500000</td>\n",
       "      <td>10.000000</td>\n",
       "      <td>3421.156721</td>\n",
       "      <td>1414.966279</td>\n",
       "      <td>15.000000</td>\n",
       "      <td>12.000000</td>\n",
       "    </tr>\n",
       "    <tr>\n",
       "      <th>75%</th>\n",
       "      <td>11007.000000</td>\n",
       "      <td>112.250000</td>\n",
       "      <td>94.000000</td>\n",
       "      <td>266.058022</td>\n",
       "      <td>2508.750000</td>\n",
       "      <td>169.250000</td>\n",
       "      <td>43.000000</td>\n",
       "      <td>5166.097373</td>\n",
       "      <td>2443.955404</td>\n",
       "      <td>23.000000</td>\n",
       "      <td>18.000000</td>\n",
       "    </tr>\n",
       "    <tr>\n",
       "      <th>max</th>\n",
       "      <td>14993.000000</td>\n",
       "      <td>556.000000</td>\n",
       "      <td>445.000000</td>\n",
       "      <td>1076.879741</td>\n",
       "      <td>3498.000000</td>\n",
       "      <td>1096.000000</td>\n",
       "      <td>352.000000</td>\n",
       "      <td>15135.391280</td>\n",
       "      <td>9746.253023</td>\n",
       "      <td>31.000000</td>\n",
       "      <td>30.000000</td>\n",
       "    </tr>\n",
       "  </tbody>\n",
       "</table>\n",
       "</div>"
      ],
      "text/plain": [
       "                 ID    sessions      drives  total_sessions  \\\n",
       "count    700.000000  700.000000  700.000000      700.000000   \n",
       "mean    7405.584286   80.837143   67.798571      198.483348   \n",
       "std     4306.900234   79.987440   65.271926      140.561715   \n",
       "min       77.000000    0.000000    0.000000        5.582648   \n",
       "25%     3744.500000   23.000000   20.000000       94.056340   \n",
       "50%     7443.000000   56.000000   47.500000      177.255925   \n",
       "75%    11007.000000  112.250000   94.000000      266.058022   \n",
       "max    14993.000000  556.000000  445.000000     1076.879741   \n",
       "\n",
       "       n_days_after_onboarding  total_navigations_fav1  \\\n",
       "count               700.000000              700.000000   \n",
       "mean               1709.295714              118.717143   \n",
       "std                1005.306562              156.308140   \n",
       "min                  16.000000                0.000000   \n",
       "25%                 869.000000                4.000000   \n",
       "50%                1650.500000               62.500000   \n",
       "75%                2508.750000              169.250000   \n",
       "max                3498.000000             1096.000000   \n",
       "\n",
       "       total_navigations_fav2  driven_km_drives  duration_minutes_drives  \\\n",
       "count              700.000000        700.000000               700.000000   \n",
       "mean                30.371429       3935.967029              1795.123358   \n",
       "std                 46.306984       2443.107121              1419.242246   \n",
       "min                  0.000000        290.119811                66.588493   \n",
       "25%                  0.000000       2119.344818               779.009271   \n",
       "50%                 10.000000       3421.156721              1414.966279   \n",
       "75%                 43.000000       5166.097373              2443.955404   \n",
       "max                352.000000      15135.391280              9746.253023   \n",
       "\n",
       "       activity_days  driving_days  \n",
       "count     700.000000    700.000000  \n",
       "mean       15.382857     12.125714  \n",
       "std         8.772714      7.626373  \n",
       "min         0.000000      0.000000  \n",
       "25%         8.000000      6.000000  \n",
       "50%        15.000000     12.000000  \n",
       "75%        23.000000     18.000000  \n",
       "max        31.000000     30.000000  "
      ]
     },
     "execution_count": 7,
     "metadata": {},
     "output_type": "execute_result"
    }
   ],
   "source": [
    "# Isolo le righe con valori nulli\n",
    "null_df = df[df['label'].isnull()]\n",
    "\n",
    "#Visualizzo statistiche descrittive per le righe con valori nulli\n",
    "null_df.describe()"
   ]
  },
  {
   "cell_type": "code",
   "execution_count": null,
   "metadata": {
    "colab": {
     "base_uri": "https://localhost:8080/",
     "height": 364
    },
    "executionInfo": {
     "elapsed": 289,
     "status": "ok",
     "timestamp": 1685051143608,
     "user": {
      "displayName": "Matteo Riotto",
      "userId": "15211004813978485634"
     },
     "user_tz": 420
    },
    "id": "R6QluAEc8bpL",
    "outputId": "2cf59e3e-f169-4093-d82d-499e7d2faa51"
   },
   "outputs": [
    {
     "data": {
      "application/vnd.microsoft.datawrangler.viewer.v0+json": {
       "columns": [
        {
         "name": "index",
         "rawType": "object",
         "type": "string"
        },
        {
         "name": "ID",
         "rawType": "float64",
         "type": "float"
        },
        {
         "name": "sessions",
         "rawType": "float64",
         "type": "float"
        },
        {
         "name": "drives",
         "rawType": "float64",
         "type": "float"
        },
        {
         "name": "total_sessions",
         "rawType": "float64",
         "type": "float"
        },
        {
         "name": "n_days_after_onboarding",
         "rawType": "float64",
         "type": "float"
        },
        {
         "name": "total_navigations_fav1",
         "rawType": "float64",
         "type": "float"
        },
        {
         "name": "total_navigations_fav2",
         "rawType": "float64",
         "type": "float"
        },
        {
         "name": "driven_km_drives",
         "rawType": "float64",
         "type": "float"
        },
        {
         "name": "duration_minutes_drives",
         "rawType": "float64",
         "type": "float"
        },
        {
         "name": "activity_days",
         "rawType": "float64",
         "type": "float"
        },
        {
         "name": "driving_days",
         "rawType": "float64",
         "type": "float"
        }
       ],
       "ref": "ed19a373-a1a7-47e4-ac32-7ec3cd9821f9",
       "rows": [
        [
         "count",
         "14299.0",
         "14299.0",
         "14299.0",
         "14299.0",
         "14299.0",
         "14299.0",
         "14299.0",
         "14299.0",
         "14299.0",
         "14299.0",
         "14299.0"
        ],
        [
         "mean",
         "7503.573117001189",
         "80.62381984754178",
         "67.25582208546052",
         "189.54740851694336",
         "1751.8225050702847",
         "121.74739492272187",
         "29.638296384362544",
         "4044.4015351564767",
         "1864.1997940746332",
         "15.544653472270788",
         "12.18253024687041"
        ],
        [
         "std",
         "4331.2076214798935",
         "80.73650152059042",
         "65.94729528075908",
         "136.18976433283123",
         "1008.6638338508488",
         "147.71342840233635",
         "45.350890443473546",
         "2504.977970380173",
         "1448.0050474767172",
         "9.016088256237003",
         "7.833835229688438"
        ],
        [
         "min",
         "0.0",
         "0.0",
         "0.0",
         "0.2202109438",
         "4.0",
         "0.0",
         "0.0",
         "60.44125046",
         "18.28208247",
         "0.0",
         "0.0"
        ],
        [
         "25%",
         "3749.5",
         "23.0",
         "20.0",
         "90.45773271",
         "878.5",
         "10.0",
         "0.0",
         "2217.3199095",
         "840.1813436",
         "8.0",
         "5.0"
        ],
        [
         "50%",
         "7504.0",
         "56.0",
         "48.0",
         "158.7185714",
         "1749.0",
         "71.0",
         "9.0",
         "3496.545617",
         "1479.394387",
         "16.0",
         "12.0"
        ],
        [
         "75%",
         "11257.5",
         "111.0",
         "93.0",
         "253.54044985000002",
         "2627.5",
         "178.0",
         "43.0",
         "5299.972162",
         "2466.928876",
         "23.0",
         "19.0"
        ],
        [
         "max",
         "14998.0",
         "743.0",
         "596.0",
         "1216.154633",
         "3500.0",
         "1236.0",
         "415.0",
         "21183.40189",
         "15851.72716",
         "31.0",
         "30.0"
        ]
       ],
       "shape": {
        "columns": 11,
        "rows": 8
       }
      },
      "text/html": [
       "<div>\n",
       "<style scoped>\n",
       "    .dataframe tbody tr th:only-of-type {\n",
       "        vertical-align: middle;\n",
       "    }\n",
       "\n",
       "    .dataframe tbody tr th {\n",
       "        vertical-align: top;\n",
       "    }\n",
       "\n",
       "    .dataframe thead th {\n",
       "        text-align: right;\n",
       "    }\n",
       "</style>\n",
       "<table border=\"1\" class=\"dataframe\">\n",
       "  <thead>\n",
       "    <tr style=\"text-align: right;\">\n",
       "      <th></th>\n",
       "      <th>ID</th>\n",
       "      <th>sessions</th>\n",
       "      <th>drives</th>\n",
       "      <th>total_sessions</th>\n",
       "      <th>n_days_after_onboarding</th>\n",
       "      <th>total_navigations_fav1</th>\n",
       "      <th>total_navigations_fav2</th>\n",
       "      <th>driven_km_drives</th>\n",
       "      <th>duration_minutes_drives</th>\n",
       "      <th>activity_days</th>\n",
       "      <th>driving_days</th>\n",
       "    </tr>\n",
       "  </thead>\n",
       "  <tbody>\n",
       "    <tr>\n",
       "      <th>count</th>\n",
       "      <td>14299.000000</td>\n",
       "      <td>14299.000000</td>\n",
       "      <td>14299.000000</td>\n",
       "      <td>14299.000000</td>\n",
       "      <td>14299.000000</td>\n",
       "      <td>14299.000000</td>\n",
       "      <td>14299.000000</td>\n",
       "      <td>14299.000000</td>\n",
       "      <td>14299.000000</td>\n",
       "      <td>14299.000000</td>\n",
       "      <td>14299.000000</td>\n",
       "    </tr>\n",
       "    <tr>\n",
       "      <th>mean</th>\n",
       "      <td>7503.573117</td>\n",
       "      <td>80.623820</td>\n",
       "      <td>67.255822</td>\n",
       "      <td>189.547409</td>\n",
       "      <td>1751.822505</td>\n",
       "      <td>121.747395</td>\n",
       "      <td>29.638296</td>\n",
       "      <td>4044.401535</td>\n",
       "      <td>1864.199794</td>\n",
       "      <td>15.544653</td>\n",
       "      <td>12.182530</td>\n",
       "    </tr>\n",
       "    <tr>\n",
       "      <th>std</th>\n",
       "      <td>4331.207621</td>\n",
       "      <td>80.736502</td>\n",
       "      <td>65.947295</td>\n",
       "      <td>136.189764</td>\n",
       "      <td>1008.663834</td>\n",
       "      <td>147.713428</td>\n",
       "      <td>45.350890</td>\n",
       "      <td>2504.977970</td>\n",
       "      <td>1448.005047</td>\n",
       "      <td>9.016088</td>\n",
       "      <td>7.833835</td>\n",
       "    </tr>\n",
       "    <tr>\n",
       "      <th>min</th>\n",
       "      <td>0.000000</td>\n",
       "      <td>0.000000</td>\n",
       "      <td>0.000000</td>\n",
       "      <td>0.220211</td>\n",
       "      <td>4.000000</td>\n",
       "      <td>0.000000</td>\n",
       "      <td>0.000000</td>\n",
       "      <td>60.441250</td>\n",
       "      <td>18.282082</td>\n",
       "      <td>0.000000</td>\n",
       "      <td>0.000000</td>\n",
       "    </tr>\n",
       "    <tr>\n",
       "      <th>25%</th>\n",
       "      <td>3749.500000</td>\n",
       "      <td>23.000000</td>\n",
       "      <td>20.000000</td>\n",
       "      <td>90.457733</td>\n",
       "      <td>878.500000</td>\n",
       "      <td>10.000000</td>\n",
       "      <td>0.000000</td>\n",
       "      <td>2217.319909</td>\n",
       "      <td>840.181344</td>\n",
       "      <td>8.000000</td>\n",
       "      <td>5.000000</td>\n",
       "    </tr>\n",
       "    <tr>\n",
       "      <th>50%</th>\n",
       "      <td>7504.000000</td>\n",
       "      <td>56.000000</td>\n",
       "      <td>48.000000</td>\n",
       "      <td>158.718571</td>\n",
       "      <td>1749.000000</td>\n",
       "      <td>71.000000</td>\n",
       "      <td>9.000000</td>\n",
       "      <td>3496.545617</td>\n",
       "      <td>1479.394387</td>\n",
       "      <td>16.000000</td>\n",
       "      <td>12.000000</td>\n",
       "    </tr>\n",
       "    <tr>\n",
       "      <th>75%</th>\n",
       "      <td>11257.500000</td>\n",
       "      <td>111.000000</td>\n",
       "      <td>93.000000</td>\n",
       "      <td>253.540450</td>\n",
       "      <td>2627.500000</td>\n",
       "      <td>178.000000</td>\n",
       "      <td>43.000000</td>\n",
       "      <td>5299.972162</td>\n",
       "      <td>2466.928876</td>\n",
       "      <td>23.000000</td>\n",
       "      <td>19.000000</td>\n",
       "    </tr>\n",
       "    <tr>\n",
       "      <th>max</th>\n",
       "      <td>14998.000000</td>\n",
       "      <td>743.000000</td>\n",
       "      <td>596.000000</td>\n",
       "      <td>1216.154633</td>\n",
       "      <td>3500.000000</td>\n",
       "      <td>1236.000000</td>\n",
       "      <td>415.000000</td>\n",
       "      <td>21183.401890</td>\n",
       "      <td>15851.727160</td>\n",
       "      <td>31.000000</td>\n",
       "      <td>30.000000</td>\n",
       "    </tr>\n",
       "  </tbody>\n",
       "</table>\n",
       "</div>"
      ],
      "text/plain": [
       "                 ID      sessions        drives  total_sessions  \\\n",
       "count  14299.000000  14299.000000  14299.000000    14299.000000   \n",
       "mean    7503.573117     80.623820     67.255822      189.547409   \n",
       "std     4331.207621     80.736502     65.947295      136.189764   \n",
       "min        0.000000      0.000000      0.000000        0.220211   \n",
       "25%     3749.500000     23.000000     20.000000       90.457733   \n",
       "50%     7504.000000     56.000000     48.000000      158.718571   \n",
       "75%    11257.500000    111.000000     93.000000      253.540450   \n",
       "max    14998.000000    743.000000    596.000000     1216.154633   \n",
       "\n",
       "       n_days_after_onboarding  total_navigations_fav1  \\\n",
       "count             14299.000000            14299.000000   \n",
       "mean               1751.822505              121.747395   \n",
       "std                1008.663834              147.713428   \n",
       "min                   4.000000                0.000000   \n",
       "25%                 878.500000               10.000000   \n",
       "50%                1749.000000               71.000000   \n",
       "75%                2627.500000              178.000000   \n",
       "max                3500.000000             1236.000000   \n",
       "\n",
       "       total_navigations_fav2  driven_km_drives  duration_minutes_drives  \\\n",
       "count            14299.000000      14299.000000             14299.000000   \n",
       "mean                29.638296       4044.401535              1864.199794   \n",
       "std                 45.350890       2504.977970              1448.005047   \n",
       "min                  0.000000         60.441250                18.282082   \n",
       "25%                  0.000000       2217.319909               840.181344   \n",
       "50%                  9.000000       3496.545617              1479.394387   \n",
       "75%                 43.000000       5299.972162              2466.928876   \n",
       "max                415.000000      21183.401890             15851.727160   \n",
       "\n",
       "       activity_days  driving_days  \n",
       "count   14299.000000  14299.000000  \n",
       "mean       15.544653     12.182530  \n",
       "std         9.016088      7.833835  \n",
       "min         0.000000      0.000000  \n",
       "25%         8.000000      5.000000  \n",
       "50%        16.000000     12.000000  \n",
       "75%        23.000000     19.000000  \n",
       "max        31.000000     30.000000  "
      ]
     },
     "execution_count": 8,
     "metadata": {},
     "output_type": "execute_result"
    }
   ],
   "source": [
    "# isolo le righe senza valori nulli\n",
    "not_null_df = df[~df['label'].isnull()]\n",
    "# Visualizzo statistiche descrittive per le righe senza valori nulli\n",
    "not_null_df.describe()"
   ]
  },
  {
   "cell_type": "markdown",
   "metadata": {
    "id": "5OP23eCk_rhd"
   },
   "source": [
    "**Risposta:**\n",
    "\n",
    "> Confrontando le statistiche riassuntive delle osservazioni con valori labels mancanti con quelle senza valori mancanti, non emerge nulla di significativo. Le medie e le deviazioni standard sono abbastanza coerenti tra i due gruppi."
   ]
  },
  {
   "cell_type": "markdown",
   "metadata": {
    "id": "iEBiYoaT_hAl"
   },
   "source": [
    "### **Valori nulli - conteggio dispositivi**\n",
    "\n",
    "Successivamente, controllo le due popolazioni rispetto alla variabile `device`.\n",
    "\n",
    "**Domanda:** Quanti utenti iPhone avevano valori nulli e quanti utenti Android avevano valori nulli?"
   ]
  },
  {
   "cell_type": "code",
   "execution_count": null,
   "metadata": {
    "colab": {
     "base_uri": "https://localhost:8080/"
    },
    "executionInfo": {
     "elapsed": 244,
     "status": "ok",
     "timestamp": 1685049842012,
     "user": {
      "displayName": "Matteo Riotto",
      "userId": "15211004813978485634"
     },
     "user_tz": 420
    },
    "id": "RLqQAcca8bmj",
    "outputId": "21b9c142-da1c-47c3-d359-7a81f2778bc8"
   },
   "outputs": [
    {
     "data": {
      "application/vnd.microsoft.datawrangler.viewer.v0+json": {
       "columns": [
        {
         "name": "device",
         "rawType": "object",
         "type": "string"
        },
        {
         "name": "count",
         "rawType": "int64",
         "type": "integer"
        }
       ],
       "ref": "9f1e5b4a-8bf4-4dca-a213-0d15fa3a1c15",
       "rows": [
        [
         "iPhone",
         "447"
        ],
        [
         "Android",
         "253"
        ]
       ],
       "shape": {
        "columns": 1,
        "rows": 2
       }
      },
      "text/plain": [
       "device\n",
       "iPhone     447\n",
       "Android    253\n",
       "Name: count, dtype: int64"
      ]
     },
     "execution_count": 9,
     "metadata": {},
     "output_type": "execute_result"
    }
   ],
   "source": [
    "# Riporto i numeri di valori per ciascun dispositivo\n",
    "null_df['device'].value_counts()"
   ]
  },
  {
   "cell_type": "markdown",
   "metadata": {
    "id": "SQy7Ba2D_DoK"
   },
   "source": [
    "**Risposta:**\n",
    "> Delle 700 righe con valori nulli, 447 erano utenti iPhone e 253 erano utenti Android."
   ]
  },
  {
   "cell_type": "markdown",
   "metadata": {
    "id": "E_RroYY4xuEX"
   },
   "source": [
    "Ora, calcolo la percentuale delle righe con valori nulli per ciascun dispositivo: Android e iPhone. "
   ]
  },
  {
   "cell_type": "code",
   "execution_count": null,
   "metadata": {
    "colab": {
     "base_uri": "https://localhost:8080/"
    },
    "executionInfo": {
     "elapsed": 234,
     "status": "ok",
     "timestamp": 1685049856432,
     "user": {
      "displayName": "Matteo Riotto",
      "userId": "15211004813978485634"
     },
     "user_tz": 420
    },
    "id": "Ds15QfX2BmGA",
    "outputId": "52a42dc9-bfd9-4a87-e649-4ce4df95cedc"
   },
   "outputs": [
    {
     "data": {
      "application/vnd.microsoft.datawrangler.viewer.v0+json": {
       "columns": [
        {
         "name": "device",
         "rawType": "object",
         "type": "string"
        },
        {
         "name": "proportion",
         "rawType": "float64",
         "type": "float"
        }
       ],
       "ref": "2abbd95d-012b-46bc-bb41-3d10b7c3d443",
       "rows": [
        [
         "iPhone",
         "0.6385714285714286"
        ],
        [
         "Android",
         "0.36142857142857143"
        ]
       ],
       "shape": {
        "columns": 1,
        "rows": 2
       }
      },
      "text/plain": [
       "device\n",
       "iPhone     0.638571\n",
       "Android    0.361429\n",
       "Name: proportion, dtype: float64"
      ]
     },
     "execution_count": 10,
     "metadata": {},
     "output_type": "execute_result"
    }
   ],
   "source": [
    "#Calcolo la % di iPhone nulli e Android nulli\n",
    "null_df['device'].value_counts(normalize=True)"
   ]
  },
  {
   "cell_type": "markdown",
   "metadata": {
    "id": "2SmKJ3alBPLO"
   },
   "source": [
    "Come si confronta questo dato con il rapporto tra dispositivi nel set di dati completo?"
   ]
  },
  {
   "cell_type": "code",
   "execution_count": 11,
   "metadata": {
    "colab": {
     "base_uri": "https://localhost:8080/"
    },
    "executionInfo": {
     "elapsed": 221,
     "status": "ok",
     "timestamp": 1685049882698,
     "user": {
      "displayName": "Matteo Riotto",
      "userId": "15211004813978485634"
     },
     "user_tz": 420
    },
    "id": "NWA4m1tA8bfD",
    "outputId": "8fbd544f-0602-4894-8f92-df188f4c4bd6"
   },
   "outputs": [
    {
     "data": {
      "application/vnd.microsoft.datawrangler.viewer.v0+json": {
       "columns": [
        {
         "name": "device",
         "rawType": "object",
         "type": "string"
        },
        {
         "name": "proportion",
         "rawType": "float64",
         "type": "float"
        }
       ],
       "ref": "dd05c8e9-bf7a-4f60-abc7-c9a49d9cf10b",
       "rows": [
        [
         "iPhone",
         "0.6448429895326355"
        ],
        [
         "Android",
         "0.3551570104673645"
        ]
       ],
       "shape": {
        "columns": 1,
        "rows": 2
       }
      },
      "text/plain": [
       "device\n",
       "iPhone     0.644843\n",
       "Android    0.355157\n",
       "Name: proportion, dtype: float64"
      ]
     },
     "execution_count": 11,
     "metadata": {},
     "output_type": "execute_result"
    }
   ],
   "source": [
    "# Calcolo la % di utenti iPhone e Android dell'intero dataset\n",
    "df['device'].value_counts(normalize=True)"
   ]
  },
  {
   "cell_type": "markdown",
   "metadata": {
    "id": "cZck5MWiCK_5"
   },
   "source": [
    "La distribuzione dei dati mancanti tra i diversi dispositivi (iPhone, Android, ecc.) è la stessa della distribuzione totale degli utenti.\n",
    "\n",
    "Non c'è motivo di credere che i dati manchino per una causa specifica, ad esempio legata al tipo di dispositivo o al comportamento dell'utente. La mancanza dei dati sembra essere puramente casuale."
   ]
  },
  {
   "cell_type": "markdown",
   "metadata": {
    "id": "masKizFlDJnd"
   },
   "source": [
    "Esamino i conteggi e le percentuali degli utenti che hanno abbandonato il sito rispetto a quelli che sono rimasti. Quanti di ciascun gruppo sono rappresentati nei dati?"
   ]
  },
  {
   "cell_type": "code",
   "execution_count": 12,
   "metadata": {
    "colab": {
     "base_uri": "https://localhost:8080/"
    },
    "executionInfo": {
     "elapsed": 3,
     "status": "ok",
     "timestamp": 1685040521581,
     "user": {
      "displayName": "Matteo Riotto",
      "userId": "15211004813978485634"
     },
     "user_tz": 420
    },
    "id": "PEtpT8d1OWsD",
    "outputId": "30b9187a-0172-47e8-cc47-20e6c20bacd5"
   },
   "outputs": [
    {
     "name": "stdout",
     "output_type": "stream",
     "text": [
      "label\n",
      "retained    11763\n",
      "churned      2536\n",
      "Name: count, dtype: int64\n",
      "\n",
      "label\n",
      "retained    0.822645\n",
      "churned     0.177355\n",
      "Name: proportion, dtype: float64\n"
     ]
    }
   ],
   "source": [
    "# Conteggio di churned vs. retained\n",
    "print(df['label'].value_counts())\n",
    "print()\n",
    "print(df['label'].value_counts(normalize=True))"
   ]
  },
  {
   "cell_type": "markdown",
   "metadata": {
    "id": "q_4dSuA3PSZ-"
   },
   "source": [
    "Questo set di dati contiene l'82% di utenti fidelizzati e il 18% di utenti che hanno abbandonato.\n",
    "\n",
    "Successivamente, confronterò le mediane di ciascuna variabile per gli utenti che hanno abbandonato e quelli fidelizzati. \n",
    "\n",
    "Il motivo per cui utilizzerò la mediana e non la media è che non desidero che valori anomali influenzino eccessivamente la rappresentazione di un utente tipico.\n",
    "\n",
    "> Ho notato, ad esempio, che il valore massimo nella colonna `driven_km_drives` è 21.183 km. Più della metà della circonferenza terrestre!"
   ]
  },
  {
   "cell_type": "code",
   "execution_count": 13,
   "metadata": {
    "colab": {
     "base_uri": "https://localhost:8080/",
     "height": 207
    },
    "executionInfo": {
     "elapsed": 232,
     "status": "ok",
     "timestamp": 1685045381538,
     "user": {
      "displayName": "Matteo Riotto",
      "userId": "15211004813978485634"
     },
     "user_tz": 420
    },
    "id": "0l-Aa2wsDR0x",
    "outputId": "8ef10512-7f83-4eaa-9ea6-9069c8cf3984"
   },
   "outputs": [
    {
     "data": {
      "application/vnd.microsoft.datawrangler.viewer.v0+json": {
       "columns": [
        {
         "name": "label",
         "rawType": "object",
         "type": "string"
        },
        {
         "name": "ID",
         "rawType": "float64",
         "type": "float"
        },
        {
         "name": "sessions",
         "rawType": "float64",
         "type": "float"
        },
        {
         "name": "drives",
         "rawType": "float64",
         "type": "float"
        },
        {
         "name": "total_sessions",
         "rawType": "float64",
         "type": "float"
        },
        {
         "name": "n_days_after_onboarding",
         "rawType": "float64",
         "type": "float"
        },
        {
         "name": "total_navigations_fav1",
         "rawType": "float64",
         "type": "float"
        },
        {
         "name": "total_navigations_fav2",
         "rawType": "float64",
         "type": "float"
        },
        {
         "name": "driven_km_drives",
         "rawType": "float64",
         "type": "float"
        },
        {
         "name": "duration_minutes_drives",
         "rawType": "float64",
         "type": "float"
        },
        {
         "name": "activity_days",
         "rawType": "float64",
         "type": "float"
        },
        {
         "name": "driving_days",
         "rawType": "float64",
         "type": "float"
        }
       ],
       "ref": "82b8e614-7e50-4964-9b1b-19e4659cd688",
       "rows": [
        [
         "churned",
         "7477.5",
         "59.0",
         "50.0",
         "164.33904205",
         "1321.0",
         "84.5",
         "11.0",
         "3652.6556659999997",
         "1607.183785",
         "8.0",
         "6.0"
        ],
        [
         "retained",
         "7509.0",
         "56.0",
         "47.0",
         "157.5867563",
         "1843.0",
         "68.0",
         "9.0",
         "3464.684614",
         "1458.046141",
         "17.0",
         "14.0"
        ]
       ],
       "shape": {
        "columns": 11,
        "rows": 2
       }
      },
      "text/html": [
       "<div>\n",
       "<style scoped>\n",
       "    .dataframe tbody tr th:only-of-type {\n",
       "        vertical-align: middle;\n",
       "    }\n",
       "\n",
       "    .dataframe tbody tr th {\n",
       "        vertical-align: top;\n",
       "    }\n",
       "\n",
       "    .dataframe thead th {\n",
       "        text-align: right;\n",
       "    }\n",
       "</style>\n",
       "<table border=\"1\" class=\"dataframe\">\n",
       "  <thead>\n",
       "    <tr style=\"text-align: right;\">\n",
       "      <th></th>\n",
       "      <th>ID</th>\n",
       "      <th>sessions</th>\n",
       "      <th>drives</th>\n",
       "      <th>total_sessions</th>\n",
       "      <th>n_days_after_onboarding</th>\n",
       "      <th>total_navigations_fav1</th>\n",
       "      <th>total_navigations_fav2</th>\n",
       "      <th>driven_km_drives</th>\n",
       "      <th>duration_minutes_drives</th>\n",
       "      <th>activity_days</th>\n",
       "      <th>driving_days</th>\n",
       "    </tr>\n",
       "    <tr>\n",
       "      <th>label</th>\n",
       "      <th></th>\n",
       "      <th></th>\n",
       "      <th></th>\n",
       "      <th></th>\n",
       "      <th></th>\n",
       "      <th></th>\n",
       "      <th></th>\n",
       "      <th></th>\n",
       "      <th></th>\n",
       "      <th></th>\n",
       "      <th></th>\n",
       "    </tr>\n",
       "  </thead>\n",
       "  <tbody>\n",
       "    <tr>\n",
       "      <th>churned</th>\n",
       "      <td>7477.5</td>\n",
       "      <td>59.0</td>\n",
       "      <td>50.0</td>\n",
       "      <td>164.339042</td>\n",
       "      <td>1321.0</td>\n",
       "      <td>84.5</td>\n",
       "      <td>11.0</td>\n",
       "      <td>3652.655666</td>\n",
       "      <td>1607.183785</td>\n",
       "      <td>8.0</td>\n",
       "      <td>6.0</td>\n",
       "    </tr>\n",
       "    <tr>\n",
       "      <th>retained</th>\n",
       "      <td>7509.0</td>\n",
       "      <td>56.0</td>\n",
       "      <td>47.0</td>\n",
       "      <td>157.586756</td>\n",
       "      <td>1843.0</td>\n",
       "      <td>68.0</td>\n",
       "      <td>9.0</td>\n",
       "      <td>3464.684614</td>\n",
       "      <td>1458.046141</td>\n",
       "      <td>17.0</td>\n",
       "      <td>14.0</td>\n",
       "    </tr>\n",
       "  </tbody>\n",
       "</table>\n",
       "</div>"
      ],
      "text/plain": [
       "              ID  sessions  drives  total_sessions  n_days_after_onboarding  \\\n",
       "label                                                                         \n",
       "churned   7477.5      59.0    50.0      164.339042                   1321.0   \n",
       "retained  7509.0      56.0    47.0      157.586756                   1843.0   \n",
       "\n",
       "          total_navigations_fav1  total_navigations_fav2  driven_km_drives  \\\n",
       "label                                                                        \n",
       "churned                     84.5                    11.0       3652.655666   \n",
       "retained                    68.0                     9.0       3464.684614   \n",
       "\n",
       "          duration_minutes_drives  activity_days  driving_days  \n",
       "label                                                           \n",
       "churned               1607.183785            8.0           6.0  \n",
       "retained              1458.046141           17.0          14.0  "
      ]
     },
     "execution_count": 13,
     "metadata": {},
     "output_type": "execute_result"
    }
   ],
   "source": [
    "# Calcolo i valori mediani di tutte le colonne per gli utenti abbandonati e quelli mantenuti\n",
    "df.groupby('label').median(numeric_only=True)"
   ]
  },
  {
   "cell_type": "markdown",
   "metadata": {
    "id": "hbM5PjYQDrwv"
   },
   "source": [
    "Questo offre una panoramica interessante dei due gruppi, gli utenti che hanno abbandonato (churned) e quelli che sono rimasti (retained):\n",
    "\n",
    "- Gli utenti che hanno abbandonato hanno fatto in media circa 3 viaggi in più nell'ultimo mese rispetto a quelli rimasti, ma questi ultimi hanno usato l'app per più del doppio dei giorni nello stesso periodo.\n",
    "\n",
    "- L'utente \"mediano\" che ha abbandonato ha guidato circa 200 chilometri in più e 2,5 ore in più nell'ultimo mese rispetto all'utente \"mediano\" che è rimasto.\n",
    "\n",
    "- Sembra che gli utenti che hanno abbandonato abbiano fatto più viaggi in meno giorni, e che i loro percorsi siano stati più lunghi sia in termini di distanza che di durata. Forse questo suggerisce un profilo utente specifico. \n"
   ]
  },
  {
   "cell_type": "markdown",
   "metadata": {},
   "source": [
    "Calcolo i chilometri medi per percorso nell'ultimo mese, sia per gli utenti retained che churned.\n",
    "\n",
    "Inizio dividendo la colonna `driven_km_drives` per la colonna `drives`. Poi, raggruppo i risultati per utenti churned/retained e calcolo i chilometri medi per percorso di ciascun gruppo."
   ]
  },
  {
   "cell_type": "code",
   "execution_count": null,
   "metadata": {},
   "outputs": [
    {
     "data": {
      "application/vnd.microsoft.datawrangler.viewer.v0+json": {
       "columns": [
        {
         "name": "label",
         "rawType": "object",
         "type": "string"
        },
        {
         "name": "km_per_drive",
         "rawType": "float64",
         "type": "float"
        }
       ],
       "ref": "83e39c7c-a63f-4cf5-bc88-9ad52711079a",
       "rows": [
        [
         "churned",
         "74.10941594650902"
        ],
        [
         "retained",
         "75.01470167692307"
        ]
       ],
       "shape": {
        "columns": 1,
        "rows": 2
       }
      },
      "text/html": [
       "<div>\n",
       "<style scoped>\n",
       "    .dataframe tbody tr th:only-of-type {\n",
       "        vertical-align: middle;\n",
       "    }\n",
       "\n",
       "    .dataframe tbody tr th {\n",
       "        vertical-align: top;\n",
       "    }\n",
       "\n",
       "    .dataframe thead th {\n",
       "        text-align: right;\n",
       "    }\n",
       "</style>\n",
       "<table border=\"1\" class=\"dataframe\">\n",
       "  <thead>\n",
       "    <tr style=\"text-align: right;\">\n",
       "      <th></th>\n",
       "      <th>km_per_drive</th>\n",
       "    </tr>\n",
       "    <tr>\n",
       "      <th>label</th>\n",
       "      <th></th>\n",
       "    </tr>\n",
       "  </thead>\n",
       "  <tbody>\n",
       "    <tr>\n",
       "      <th>churned</th>\n",
       "      <td>74.109416</td>\n",
       "    </tr>\n",
       "    <tr>\n",
       "      <th>retained</th>\n",
       "      <td>75.014702</td>\n",
       "    </tr>\n",
       "  </tbody>\n",
       "</table>\n",
       "</div>"
      ],
      "text/plain": [
       "          km_per_drive\n",
       "label                 \n",
       "churned      74.109416\n",
       "retained     75.014702"
      ]
     },
     "execution_count": 14,
     "metadata": {},
     "output_type": "execute_result"
    }
   ],
   "source": [
    "# Aggiungo una colonna chiamata km per drive\n",
    "df['km_per_drive'] = df['driven_km_drives'] / df['drives']\n",
    "\n",
    "# Raggruppo per label, calcolo la mediana e isolo per km per dirve\n",
    "median_km_per_drive = df.groupby('label').median(numeric_only=True)[['km_per_drive']]\n",
    "median_km_per_drive"
   ]
  },
  {
   "cell_type": "markdown",
   "metadata": {},
   "source": [
    "L'utente mediano retained ha percorso circa un chilometro in più a guida rispetto all'utente churned. \n",
    "\n",
    "Ora voglio comprendere quanti km sono stati percorsi per giornata di guida."
   ]
  },
  {
   "cell_type": "code",
   "execution_count": 15,
   "metadata": {},
   "outputs": [
    {
     "data": {
      "application/vnd.microsoft.datawrangler.viewer.v0+json": {
       "columns": [
        {
         "name": "label",
         "rawType": "object",
         "type": "string"
        },
        {
         "name": "km_per_driving_day",
         "rawType": "float64",
         "type": "float"
        }
       ],
       "ref": "7eab480b-4bbe-48a7-a927-1c4cd3b3d1a0",
       "rows": [
        [
         "churned",
         "697.541999"
        ],
        [
         "retained",
         "289.5493333809524"
        ]
       ],
       "shape": {
        "columns": 1,
        "rows": 2
       }
      },
      "text/html": [
       "<div>\n",
       "<style scoped>\n",
       "    .dataframe tbody tr th:only-of-type {\n",
       "        vertical-align: middle;\n",
       "    }\n",
       "\n",
       "    .dataframe tbody tr th {\n",
       "        vertical-align: top;\n",
       "    }\n",
       "\n",
       "    .dataframe thead th {\n",
       "        text-align: right;\n",
       "    }\n",
       "</style>\n",
       "<table border=\"1\" class=\"dataframe\">\n",
       "  <thead>\n",
       "    <tr style=\"text-align: right;\">\n",
       "      <th></th>\n",
       "      <th>km_per_driving_day</th>\n",
       "    </tr>\n",
       "    <tr>\n",
       "      <th>label</th>\n",
       "      <th></th>\n",
       "    </tr>\n",
       "  </thead>\n",
       "  <tbody>\n",
       "    <tr>\n",
       "      <th>churned</th>\n",
       "      <td>697.541999</td>\n",
       "    </tr>\n",
       "    <tr>\n",
       "      <th>retained</th>\n",
       "      <td>289.549333</td>\n",
       "    </tr>\n",
       "  </tbody>\n",
       "</table>\n",
       "</div>"
      ],
      "text/plain": [
       "          km_per_driving_day\n",
       "label                       \n",
       "churned           697.541999\n",
       "retained          289.549333"
      ]
     },
     "execution_count": 15,
     "metadata": {},
     "output_type": "execute_result"
    }
   ],
   "source": [
    "# Aggiungo una colonna chiamata km per driving day\n",
    "df['km_per_driving_day'] = df['driven_km_drives'] / df['driving_days']\n",
    "# Raggruppo per label, calcolo la mediana e isolo per km per driving day\n",
    "median_km_per_driving_day = df.groupby('label').median(numeric_only=True)[['km_per_driving_day']]\n",
    "median_km_per_driving_day"
   ]
  },
  {
   "cell_type": "markdown",
   "metadata": {},
   "source": [
    "Ora calcolo il numero mediano di viaggi per giorno di guida per ciascun gruppo."
   ]
  },
  {
   "cell_type": "code",
   "execution_count": 16,
   "metadata": {},
   "outputs": [
    {
     "data": {
      "application/vnd.microsoft.datawrangler.viewer.v0+json": {
       "columns": [
        {
         "name": "label",
         "rawType": "object",
         "type": "string"
        },
        {
         "name": "drives_per_driving_day",
         "rawType": "float64",
         "type": "float"
        }
       ],
       "ref": "590f9ba5-c2f7-4d7e-985e-f3f3ab1e062a",
       "rows": [
        [
         "churned",
         "10.0"
        ],
        [
         "retained",
         "4.0625"
        ]
       ],
       "shape": {
        "columns": 1,
        "rows": 2
       }
      },
      "text/html": [
       "<div>\n",
       "<style scoped>\n",
       "    .dataframe tbody tr th:only-of-type {\n",
       "        vertical-align: middle;\n",
       "    }\n",
       "\n",
       "    .dataframe tbody tr th {\n",
       "        vertical-align: top;\n",
       "    }\n",
       "\n",
       "    .dataframe thead th {\n",
       "        text-align: right;\n",
       "    }\n",
       "</style>\n",
       "<table border=\"1\" class=\"dataframe\">\n",
       "  <thead>\n",
       "    <tr style=\"text-align: right;\">\n",
       "      <th></th>\n",
       "      <th>drives_per_driving_day</th>\n",
       "    </tr>\n",
       "    <tr>\n",
       "      <th>label</th>\n",
       "      <th></th>\n",
       "    </tr>\n",
       "  </thead>\n",
       "  <tbody>\n",
       "    <tr>\n",
       "      <th>churned</th>\n",
       "      <td>10.0000</td>\n",
       "    </tr>\n",
       "    <tr>\n",
       "      <th>retained</th>\n",
       "      <td>4.0625</td>\n",
       "    </tr>\n",
       "  </tbody>\n",
       "</table>\n",
       "</div>"
      ],
      "text/plain": [
       "          drives_per_driving_day\n",
       "label                           \n",
       "churned                  10.0000\n",
       "retained                  4.0625"
      ]
     },
     "execution_count": 16,
     "metadata": {},
     "output_type": "execute_result"
    }
   ],
   "source": [
    "# Add a column to df called `drives_per_driving_day`\n",
    "# Aggiungo una colonna chiamata drives per driving day\n",
    "df['drives_per_driving_day'] = df['drives'] / df['driving_days']\n",
    "\n",
    "# Group by `label`, calculate the median, and isolate for drives per driving day\n",
    "# Ragguppo per label, calcolo la mediana e isolo per drives per driving day\n",
    "median_drives_per_driving_day = df.groupby('label').median(numeric_only=True)[['drives_per_driving_day']]\n",
    "median_drives_per_driving_day"
   ]
  },
  {
   "cell_type": "markdown",
   "metadata": {
    "id": "RNael5HDnCxf"
   },
   "source": [
    "L'utente mediano che ha abbandonato il servizio ha guidato 698 chilometri ogni giorno in cui si è messo in viaggio il mese scorso, una distanza che è circa il 240% di quella percorsa per giorno di guida dagli utenti rimasti. L'utente mediano churned ha avuto un numero di viaggi per giorno di guida analogamente sproporzionato rispetto a quelli rimasti.\n",
    "\n",
    "È chiaro da queste cifre che, indipendentemente dal fatto che un utente abbia abbandonato o meno, gli utenti rappresentati in questi dati sono guidatori molto attivi. È probabilmente lecito supporre che questi dati non rappresentino i tipici guidatori in generale. Forse il set di dati, e in particolare il campione di utenti che hanno abbandonato, contiene un'alta percentuale di camionisti a lunga percorrenza.\n",
    "\n",
    "Considerando quanto questi utenti guidano, sarebbe utile raccomandare a Waze di raccogliere più dati su questi \"super-guidatori\". È possibile che la ragione per cui guidano così tanto sia anche la ragione per cui l'app di Waze non soddisfa il loro specifico insieme di bisogni, che potrebbero differire da quelli di un guidatore più tipico, come un pendolare.\n",
    "\n",
    "---"
   ]
  },
  {
   "cell_type": "markdown",
   "metadata": {
    "id": "ajdCO-jXuggf"
   },
   "source": [
    "Infine, verifico se c'è uno squilibrio nel numero di utenti che hanno abbandonato il servizio in base al tipo di dispositivo."
   ]
  },
  {
   "cell_type": "code",
   "execution_count": 17,
   "metadata": {
    "colab": {
     "base_uri": "https://localhost:8080/"
    },
    "executionInfo": {
     "elapsed": 235,
     "status": "ok",
     "timestamp": 1685048379053,
     "user": {
      "displayName": "Matteo Riotto",
      "userId": "15211004813978485634"
     },
     "user_tz": 420
    },
    "id": "wR-YTlbTDH5Y",
    "outputId": "54c106a2-2f2a-4a79-9c8a-4f6cdf627c74"
   },
   "outputs": [
    {
     "data": {
      "application/vnd.microsoft.datawrangler.viewer.v0+json": {
       "columns": [
        {
         "name": "('label', 'device')",
         "rawType": "object",
         "type": "unknown"
        },
        {
         "name": "0",
         "rawType": "int64",
         "type": "integer"
        }
       ],
       "ref": "ad2cd4ae-d045-4018-8ead-1f5f34e21136",
       "rows": [
        [
         "('churned', 'Android')",
         "891"
        ],
        [
         "('churned', 'iPhone')",
         "1645"
        ],
        [
         "('retained', 'Android')",
         "4183"
        ],
        [
         "('retained', 'iPhone')",
         "7580"
        ]
       ],
       "shape": {
        "columns": 1,
        "rows": 4
       }
      },
      "text/plain": [
       "label     device \n",
       "churned   Android     891\n",
       "          iPhone     1645\n",
       "retained  Android    4183\n",
       "          iPhone     7580\n",
       "dtype: int64"
      ]
     },
     "execution_count": 17,
     "metadata": {},
     "output_type": "execute_result"
    }
   ],
   "source": [
    "# Per ogni label, calcolo il numero di utenti Android e di utenti iPhone\n",
    "df.groupby(['label', 'device']).size()"
   ]
  },
  {
   "cell_type": "markdown",
   "metadata": {
    "id": "xyMqLrlG1H1W"
   },
   "source": [
    "Ora, all'interno di ciascun gruppo calcolo quale percentuale era Android e quale percentuale era iPhone."
   ]
  },
  {
   "cell_type": "code",
   "execution_count": 19,
   "metadata": {
    "colab": {
     "base_uri": "https://localhost:8080/"
    },
    "executionInfo": {
     "elapsed": 240,
     "status": "ok",
     "timestamp": 1685048606065,
     "user": {
      "displayName": "Matteo Riotto",
      "userId": "15211004813978485634"
     },
     "user_tz": 420
    },
    "id": "G9PIt4WJDH3F",
    "outputId": "c9cf475d-432d-401f-9bc5-c543b2258db9"
   },
   "outputs": [
    {
     "data": {
      "application/vnd.microsoft.datawrangler.viewer.v0+json": {
       "columns": [
        {
         "name": "('label', 'device')",
         "rawType": "object",
         "type": "unknown"
        },
        {
         "name": "proportion",
         "rawType": "float64",
         "type": "float"
        }
       ],
       "ref": "39628284-9ff0-41be-905c-02cb3f434a6e",
       "rows": [
        [
         "('churned', 'iPhone')",
         "0.6486593059936908"
        ],
        [
         "('churned', 'Android')",
         "0.35134069400630913"
        ],
        [
         "('retained', 'iPhone')",
         "0.644393437048372"
        ],
        [
         "('retained', 'Android')",
         "0.355606562951628"
        ]
       ],
       "shape": {
        "columns": 1,
        "rows": 4
       }
      },
      "text/plain": [
       "label     device \n",
       "churned   iPhone     0.648659\n",
       "          Android    0.351341\n",
       "retained  iPhone     0.644393\n",
       "          Android    0.355607\n",
       "Name: proportion, dtype: float64"
      ]
     },
     "execution_count": 19,
     "metadata": {},
     "output_type": "execute_result"
    }
   ],
   "source": [
    "# Per ogni etichetta, calcola la percentuale di utenti Android e utenti iPhone\n",
    "df.groupby('label')['device'].value_counts(normalize=True)"
   ]
  },
  {
   "cell_type": "markdown",
   "metadata": {
    "id": "q6wLAiC120hs"
   },
   "source": [
    "Il rapporto tra utenti iPhone e utenti Android è coerente tra il gruppo abbandonato e quello mantenuto, e entrambi i rapporti sono coerenti con il rapporto riscontrato nel set di dati complessivo."
   ]
  },
  {
   "cell_type": "markdown",
   "metadata": {
    "id": "CCR1rF1h71LE"
   },
   "source": [
    "\n",
    "### **Conclusione**\n",
    "\n",
    "- Il set di dati presenta **700 valori mancanti** nella colonna `label`. Non è stato riscontrato uno schema evidente per i dati mancanti.\n",
    "\n",
    "---\n",
    "\n",
    "- L'utente mediano che ha abbandonato il servizio ha guidato per circa 698 chilometri ogni giorno in cui ha usato l'app il mese scorso, una distanza circa il **240% superiore** a quella degli utenti rimasti. Sarebbe utile sapere come sono stati raccolti questi dati e se rappresentano un campione non casuale di utenti.\n",
    "\n",
    "---\n",
    "\n",
    "- Gli utenti Android costituivano circa il **36%** del campione, mentre gli utenti iPhone rappresentavano circa il **64%**.\n",
    "\n",
    "---\n",
    "\n",
    "- In generale, gli utenti che hanno abbandonato hanno guidato per distanze maggiori e più a lungo, in un numero minore di giorni rispetto agli utenti rimasti. Hanno anche usato l'app circa la metà delle volte rispetto agli utenti rimasti nello stesso periodo.\n",
    "\n",
    "---\n",
    "\n",
    "- Il tasso di abbandono sia per gli utenti iPhone che per quelli Android era entro un punto percentuale l'uno dall'altro. Non c'è nulla che suggerisca una correlazione tra l'abbandono e il tipo di dispositivo."
   ]
  }
 ],
 "metadata": {
  "colab": {
   "provenance": [
    {
     "file_id": "1SoZM3Yq8C8BdYu-st3_BAlhze2_Z6Ilb",
     "timestamp": 1671052060798
    },
    {
     "file_id": "1U6q6WFOo7_Ka_C9cdq49KwAsI_lFX86-",
     "timestamp": 1668698832849
    },
    {
     "file_id": "1h6rKqbyzegmvnh5T6X1MhTFOXE6VUciq",
     "timestamp": 1666209449412
    },
    {
     "file_id": "1Vz66UR_ImIhJ4HEkCzdY_9E9QLKiboV1",
     "timestamp": 1663780048645
    }
   ],
   "toc_visible": true
  },
  "kernelspec": {
   "display_name": "pydata-book",
   "language": "python",
   "name": "python3"
  },
  "language_info": {
   "codemirror_mode": {
    "name": "ipython",
    "version": 3
   },
   "file_extension": ".py",
   "mimetype": "text/x-python",
   "name": "python",
   "nbconvert_exporter": "python",
   "pygments_lexer": "ipython3",
   "version": "3.10.18"
  }
 },
 "nbformat": 4,
 "nbformat_minor": 1
}
